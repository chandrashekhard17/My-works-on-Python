{
 "cells": [
  {
   "cell_type": "code",
   "execution_count": 15,
   "id": "13c7120f",
   "metadata": {},
   "outputs": [],
   "source": [
    "f=open('test.txt','w')"
   ]
  },
  {
   "cell_type": "code",
   "execution_count": 16,
   "id": "4408272e",
   "metadata": {},
   "outputs": [
    {
     "data": {
      "text/plain": [
       "808"
      ]
     },
     "execution_count": 16,
     "metadata": {},
     "output_type": "execute_result"
    }
   ],
   "source": [
    "f.write('The Institution Bahubali College of Engineering(BCE) was established during 1997 by His Holiness Jagadguru Karmayogi Swasthishree Charukeerti Bhattaraka Swamiji,the Chairman of the S.S.D.J. Jnana Prasaraka Sangha which is running Educational Institutes from Primary education to Graduate level in various disciplines / fields of study. It has gained experience and endeavours to produce bright young men and women for the millennium with excellence in technical knowledge. The BCE-Shravanabelagola has been recognized by the Government of Karnataka and approved by the All India Council for Technical Education (AICTE) New Delhi and It is affiliated to the Visvesvaraya Technological University (VTU), Belagavi. The institute has been conferred a Jain Religious Minority Status. It is an unaided institution.')"
   ]
  },
  {
   "cell_type": "code",
   "execution_count": 17,
   "id": "a357118b",
   "metadata": {},
   "outputs": [],
   "source": [
    "f.close()"
   ]
  },
  {
   "cell_type": "code",
   "execution_count": 5,
   "id": "2841827e",
   "metadata": {},
   "outputs": [
    {
     "data": {
      "text/plain": [
       "'C:\\\\Users\\\\chand'"
      ]
     },
     "execution_count": 5,
     "metadata": {},
     "output_type": "execute_result"
    }
   ],
   "source": [
    "pwd"
   ]
  },
  {
   "cell_type": "code",
   "execution_count": 6,
   "id": "7f5ca403",
   "metadata": {},
   "outputs": [
    {
     "name": "stdout",
     "output_type": "stream",
     "text": [
      " Volume in drive C is Windows\n",
      " Volume Serial Number is 3AFB-8EC9\n",
      "\n",
      " Directory of C:\\Users\\chand\n",
      "\n",
      "22-12-2023  06:14    <DIR>          .\n",
      "18-08-2023  20:24    <DIR>          ..\n",
      "22-07-2023  21:31    <DIR>          .eclipse\n",
      "06-06-2023  22:36               197 .gitconfig\n",
      "30-09-2023  19:03    <DIR>          .idlerc\n",
      "22-12-2023  06:09    <DIR>          .ipynb_checkpoints\n",
      "16-06-2023  22:14    <DIR>          .ipython\n",
      "23-06-2023  21:09    <DIR>          .jupyter\n",
      "22-07-2023  21:35    <DIR>          .p2\n",
      "30-06-2023  17:15    <DIR>          .vscode\n",
      "17-12-2023  12:20             7,398 abstraction.ipynb\n",
      "08-12-2023  14:56             6,228 alarm clock tinkter.ipynb\n",
      "26-05-2023  08:47                 0 art\n",
      "10-07-2023  23:50    <DIR>          C++ programs\n",
      "19-12-2023  22:35             8,286 class methoad.ipynb\n",
      "07-05-2023  13:33    <DIR>          Contacts\n",
      "15-12-2023  18:36            23,533 control flow statements.ipynb\n",
      "18-12-2023  20:59             8,659 decorater.ipynb\n",
      "21-12-2023  21:31             8,796 decorator_getter_setter.ipynb\n",
      "08-12-2023  04:28            45,658 dictionary.ipynb\n",
      "07-05-2023  13:35    <DIR>          Documents\n",
      "22-12-2023  06:02    <DIR>          Downloads\n",
      "22-07-2023  21:35    <DIR>          eclipse\n",
      "17-12-2023  01:00            10,407 encapsulation.ipynb\n",
      "07-05-2023  13:33    <DIR>          Favorites\n",
      "22-12-2023  06:14             1,597 fileoperation.ipynb\n",
      "12-12-2023  21:13             5,826 functions 2--assaignment.ipynb\n",
      "09-12-2023  05:08            18,879 functions part1..ipynb\n",
      "09-12-2023  06:12            10,239 functions part2.ipynb\n",
      "11-12-2023  00:05             5,091 functions-assaignments.ipynb\n",
      "11-12-2023  21:03             6,354 generator function.ipynb\n",
      "08-05-2023  13:29                 0 HTML TUTORIAL\n",
      "17-12-2023  11:41            12,618 inheritance.ipynb\n",
      "11-12-2023  20:45             7,058 lambda functions.ipynb\n",
      "07-05-2023  13:33    <DIR>          Links\n",
      "15-12-2023  18:50            27,898 Lists.ipynb\n",
      "21-12-2023  00:00            16,781 magic_or_dunder method.ipynb\n",
      "15-12-2023  22:42            15,716 map reduce filter functions.ipynb\n",
      "26-05-2023  08:47                 0 mrt\n",
      "07-05-2023  13:33    <DIR>          Music\n",
      "22-12-2023  05:38    <DIR>          OneDrive\n",
      "14-12-2023  18:09             2,556 oops - assaignment.ipynb\n",
      "13-12-2023  20:46            13,501 OOPS -1.ipynb\n",
      "20-12-2023  23:24             5,778 oops task assaignment.ipynb\n",
      "16-12-2023  22:22            16,453 polymorphism.ipynb\n",
      "30-11-2023  12:25             8,846 python basic examples.ipynb\n",
      "31-08-2023  07:25    <DIR>          python F1\n",
      "13-12-2023  21:26             3,794 python-assaignment.1.ipynb\n",
      "14-12-2023  19:38             4,730 python-assaignment-2.ipynb\n",
      "15-12-2023  21:39             8,042 revision--python.ipynb\n",
      "07-05-2023  13:33    <DIR>          Saved Games\n",
      "24-06-2023  19:42    <DIR>          Searches\n",
      "08-12-2023  04:55            15,144 sets.ipynb\n",
      "20-12-2023  22:59             6,772 static method.ipynb\n",
      "15-12-2023  19:19            32,219 string.ipynb\n",
      "22-12-2023  06:12                39 test.txt\n",
      "08-12-2023  18:39            10,719 tuples,sets,dictionaries-assaignments.ipynb\n",
      "15-12-2023  21:35            22,397 tuples.ipynb\n",
      "18-10-2023  19:40                 0 untitled.txt\n",
      "12-05-2023  12:59    <DIR>          Videos\n",
      "              38 File(s)        398,209 bytes\n",
      "              22 Dir(s)  411,500,240,896 bytes free\n"
     ]
    }
   ],
   "source": [
    "ls"
   ]
  },
  {
   "cell_type": "code",
   "execution_count": 19,
   "id": "c6821383",
   "metadata": {},
   "outputs": [],
   "source": [
    "import os\n"
   ]
  },
  {
   "cell_type": "code",
   "execution_count": 21,
   "id": "fd25ebe4",
   "metadata": {},
   "outputs": [],
   "source": [
    "os.remove('test.txt')"
   ]
  },
  {
   "cell_type": "code",
   "execution_count": 22,
   "id": "6385fe9c",
   "metadata": {},
   "outputs": [],
   "source": [
    "f=open('test1.txt','w')"
   ]
  },
  {
   "cell_type": "code",
   "execution_count": 23,
   "id": "3beb761c",
   "metadata": {},
   "outputs": [
    {
     "data": {
      "text/plain": [
       "808"
      ]
     },
     "execution_count": 23,
     "metadata": {},
     "output_type": "execute_result"
    }
   ],
   "source": [
    "f.write('The Institution Bahubali College of Engineering(BCE) was established during 1997 by His Holiness Jagadguru Karmayogi Swasthishree Charukeerti Bhattaraka Swamiji,the Chairman of the S.S.D.J. Jnana Prasaraka Sangha which is running Educational Institutes from Primary education to Graduate level in various disciplines / fields of study. It has gained experience and endeavours to produce bright young men and women for the millennium with excellence in technical knowledge. The BCE-Shravanabelagola has been recognized by the Government of Karnataka and approved by the All India Council for Technical Education (AICTE) New Delhi and It is affiliated to the Visvesvaraya Technological University (VTU), Belagavi. The institute has been conferred a Jain Religious Minority Status. It is an unaided institution.')"
   ]
  },
  {
   "cell_type": "code",
   "execution_count": 24,
   "id": "149b6b56",
   "metadata": {},
   "outputs": [],
   "source": [
    "f.close()"
   ]
  },
  {
   "cell_type": "code",
   "execution_count": 25,
   "id": "a7620334",
   "metadata": {},
   "outputs": [],
   "source": [
    "f=open('test1.txt','a')"
   ]
  },
  {
   "cell_type": "code",
   "execution_count": 26,
   "id": "e53078ad",
   "metadata": {},
   "outputs": [
    {
     "data": {
      "text/plain": [
       "808"
      ]
     },
     "execution_count": 26,
     "metadata": {},
     "output_type": "execute_result"
    }
   ],
   "source": [
    "f.write('The Institution Bahubali College of Engineering(BCE) was established during 1997 by His Holiness Jagadguru Karmayogi Swasthishree Charukeerti Bhattaraka Swamiji,the Chairman of the S.S.D.J. Jnana Prasaraka Sangha which is running Educational Institutes from Primary education to Graduate level in various disciplines / fields of study. It has gained experience and endeavours to produce bright young men and women for the millennium with excellence in technical knowledge. The BCE-Shravanabelagola has been recognized by the Government of Karnataka and approved by the All India Council for Technical Education (AICTE) New Delhi and It is affiliated to the Visvesvaraya Technological University (VTU), Belagavi. The institute has been conferred a Jain Religious Minority Status. It is an unaided institution.')"
   ]
  },
  {
   "cell_type": "code",
   "execution_count": 27,
   "id": "045fcb57",
   "metadata": {},
   "outputs": [],
   "source": [
    "f.close()"
   ]
  },
  {
   "cell_type": "code",
   "execution_count": 28,
   "id": "fe7db661",
   "metadata": {},
   "outputs": [],
   "source": [
    "data=open('test1.txt','r')"
   ]
  },
  {
   "cell_type": "code",
   "execution_count": 32,
   "id": "b3f57640",
   "metadata": {},
   "outputs": [
    {
     "data": {
      "text/plain": [
       "''"
      ]
     },
     "execution_count": 32,
     "metadata": {},
     "output_type": "execute_result"
    }
   ],
   "source": [
    "data.read()"
   ]
  },
  {
   "cell_type": "code",
   "execution_count": 36,
   "id": "c98ee91b",
   "metadata": {},
   "outputs": [
    {
     "data": {
      "text/plain": [
       "0"
      ]
     },
     "execution_count": 36,
     "metadata": {},
     "output_type": "execute_result"
    }
   ],
   "source": [
    "data.seek(0)"
   ]
  },
  {
   "cell_type": "code",
   "execution_count": 37,
   "id": "3b24d461",
   "metadata": {},
   "outputs": [
    {
     "data": {
      "text/plain": [
       "'The Institution Bahubali College of Engineering(BCE) was established during 1997 by His Holiness Jagadguru Karmayogi Swasthishree Charukeerti Bhattaraka Swamiji,the Chairman of the S.S.D.J. Jnana Prasaraka Sangha which is running Educational Institutes from Primary education to Graduate level in various disciplines / fields of study. It has gained experience and endeavours to produce bright young men and women for the millennium with excellence in technical knowledge. The BCE-Shravanabelagola has been recognized by the Government of Karnataka and approved by the All India Council for Technical Education (AICTE) New Delhi and It is affiliated to the Visvesvaraya Technological University (VTU), Belagavi. The institute has been conferred a Jain Religious Minority Status. It is an unaided institution.The Institution Bahubali College of Engineering(BCE) was established during 1997 by His Holiness Jagadguru Karmayogi Swasthishree Charukeerti Bhattaraka Swamiji,the Chairman of the S.S.D.J. Jnana Prasaraka Sangha which is running Educational Institutes from Primary education to Graduate level in various disciplines / fields of study. It has gained experience and endeavours to produce bright young men and women for the millennium with excellence in technical knowledge. The BCE-Shravanabelagola has been recognized by the Government of Karnataka and approved by the All India Council for Technical Education (AICTE) New Delhi and It is affiliated to the Visvesvaraya Technological University (VTU), Belagavi. The institute has been conferred a Jain Religious Minority Status. It is an unaided institution.'"
      ]
     },
     "execution_count": 37,
     "metadata": {},
     "output_type": "execute_result"
    }
   ],
   "source": [
    "data.read()"
   ]
  },
  {
   "cell_type": "code",
   "execution_count": 38,
   "id": "2f6ed224",
   "metadata": {},
   "outputs": [
    {
     "data": {
      "text/plain": [
       "''"
      ]
     },
     "execution_count": 38,
     "metadata": {},
     "output_type": "execute_result"
    }
   ],
   "source": [
    "data.read()"
   ]
  },
  {
   "cell_type": "code",
   "execution_count": 39,
   "id": "53c09d57",
   "metadata": {},
   "outputs": [
    {
     "data": {
      "text/plain": [
       "50"
      ]
     },
     "execution_count": 39,
     "metadata": {},
     "output_type": "execute_result"
    }
   ],
   "source": [
    "data.seek(50)"
   ]
  },
  {
   "cell_type": "code",
   "execution_count": 40,
   "id": "db44fb9b",
   "metadata": {},
   "outputs": [
    {
     "data": {
      "text/plain": [
       "'E) was established during 1997 by His Holiness Jagadguru Karmayogi Swasthishree Charukeerti Bhattaraka Swamiji,the Chairman of the S.S.D.J. Jnana Prasaraka Sangha which is running Educational Institutes from Primary education to Graduate level in various disciplines / fields of study. It has gained experience and endeavours to produce bright young men and women for the millennium with excellence in technical knowledge. The BCE-Shravanabelagola has been recognized by the Government of Karnataka and approved by the All India Council for Technical Education (AICTE) New Delhi and It is affiliated to the Visvesvaraya Technological University (VTU), Belagavi. The institute has been conferred a Jain Religious Minority Status. It is an unaided institution.The Institution Bahubali College of Engineering(BCE) was established during 1997 by His Holiness Jagadguru Karmayogi Swasthishree Charukeerti Bhattaraka Swamiji,the Chairman of the S.S.D.J. Jnana Prasaraka Sangha which is running Educational Institutes from Primary education to Graduate level in various disciplines / fields of study. It has gained experience and endeavours to produce bright young men and women for the millennium with excellence in technical knowledge. The BCE-Shravanabelagola has been recognized by the Government of Karnataka and approved by the All India Council for Technical Education (AICTE) New Delhi and It is affiliated to the Visvesvaraya Technological University (VTU), Belagavi. The institute has been conferred a Jain Religious Minority Status. It is an unaided institution.'"
      ]
     },
     "execution_count": 40,
     "metadata": {},
     "output_type": "execute_result"
    }
   ],
   "source": [
    "data.read()"
   ]
  },
  {
   "cell_type": "code",
   "execution_count": 41,
   "id": "8087aeb7",
   "metadata": {},
   "outputs": [],
   "source": [
    "import os"
   ]
  },
  {
   "cell_type": "code",
   "execution_count": 42,
   "id": "d15b3dcf",
   "metadata": {},
   "outputs": [
    {
     "data": {
      "text/plain": [
       "1616"
      ]
     },
     "execution_count": 42,
     "metadata": {},
     "output_type": "execute_result"
    }
   ],
   "source": [
    "os.path.getsize('test1.txt')"
   ]
  },
  {
   "cell_type": "code",
   "execution_count": 43,
   "id": "ac3cc581",
   "metadata": {},
   "outputs": [],
   "source": [
    "i=os.path.getsize('test1.txt')"
   ]
  },
  {
   "cell_type": "code",
   "execution_count": 44,
   "id": "37aa5acb",
   "metadata": {},
   "outputs": [
    {
     "name": "stdout",
     "output_type": "stream",
     "text": [
      "The file test1.txt has  1616 bytes\n"
     ]
    }
   ],
   "source": [
    "print('The file test1.txt has ' ,i,'bytes')"
   ]
  },
  {
   "cell_type": "code",
   "execution_count": 45,
   "id": "600d30db",
   "metadata": {},
   "outputs": [],
   "source": [
    "import shutil"
   ]
  },
  {
   "cell_type": "code",
   "execution_count": 46,
   "id": "b1b9df8b",
   "metadata": {},
   "outputs": [
    {
     "data": {
      "text/plain": [
       "'new_txt'"
      ]
     },
     "execution_count": 46,
     "metadata": {},
     "output_type": "execute_result"
    }
   ],
   "source": [
    "shutil.copy('test1.txt','new_txt')"
   ]
  },
  {
   "cell_type": "code",
   "execution_count": 48,
   "id": "19e80f9f",
   "metadata": {},
   "outputs": [
    {
     "ename": "PermissionError",
     "evalue": "[WinError 32] The process cannot access the file because it is being used by another process: 'test1.txt'",
     "output_type": "error",
     "traceback": [
      "\u001b[1;31m---------------------------------------------------------------------------\u001b[0m",
      "\u001b[1;31mPermissionError\u001b[0m                           Traceback (most recent call last)",
      "Cell \u001b[1;32mIn[48], line 1\u001b[0m\n\u001b[1;32m----> 1\u001b[0m \u001b[43mos\u001b[49m\u001b[38;5;241;43m.\u001b[39;49m\u001b[43mremove\u001b[49m\u001b[43m(\u001b[49m\u001b[38;5;124;43m'\u001b[39;49m\u001b[38;5;124;43mtest1.txt\u001b[39;49m\u001b[38;5;124;43m'\u001b[39;49m\u001b[43m)\u001b[49m\n",
      "\u001b[1;31mPermissionError\u001b[0m: [WinError 32] The process cannot access the file because it is being used by another process: 'test1.txt'"
     ]
    }
   ],
   "source": [
    "os.remove('test1.txt')"
   ]
  },
  {
   "cell_type": "code",
   "execution_count": 49,
   "id": "a351c320",
   "metadata": {},
   "outputs": [],
   "source": [
    "for i in data:\n",
    "    print(i)"
   ]
  },
  {
   "cell_type": "code",
   "execution_count": 50,
   "id": "3db31cf9",
   "metadata": {},
   "outputs": [
    {
     "data": {
      "text/plain": [
       "0"
      ]
     },
     "execution_count": 50,
     "metadata": {},
     "output_type": "execute_result"
    }
   ],
   "source": [
    "data.seek(0)"
   ]
  },
  {
   "cell_type": "code",
   "execution_count": 54,
   "id": "7106fc17",
   "metadata": {},
   "outputs": [],
   "source": [
    "data1=open('new_txt','r')"
   ]
  },
  {
   "cell_type": "code",
   "execution_count": 55,
   "id": "a5ca54c3",
   "metadata": {},
   "outputs": [
    {
     "name": "stdout",
     "output_type": "stream",
     "text": [
      "The Institution Bahubali College of Engineering(BCE) was established during 1997 by His Holiness Jagadguru Karmayogi Swasthishree Charukeerti Bhattaraka Swamiji,the Chairman of the S.S.D.J. Jnana Prasaraka Sangha which is running Educational Institutes from Primary education to Graduate level in various disciplines / fields of study. It has gained experience and endeavours to produce bright young men and women for the millennium with excellence in technical knowledge. The BCE-Shravanabelagola has been recognized by the Government of Karnataka and approved by the All India Council for Technical Education (AICTE) New Delhi and It is affiliated to the Visvesvaraya Technological University (VTU), Belagavi. The institute has been conferred a Jain Religious Minority Status. It is an unaided institution.The Institution Bahubali College of Engineering(BCE) was established during 1997 by His Holiness Jagadguru Karmayogi Swasthishree Charukeerti Bhattaraka Swamiji,the Chairman of the S.S.D.J. Jnana Prasaraka Sangha which is running Educational Institutes from Primary education to Graduate level in various disciplines / fields of study. It has gained experience and endeavours to produce bright young men and women for the millennium with excellence in technical knowledge. The BCE-Shravanabelagola has been recognized by the Government of Karnataka and approved by the All India Council for Technical Education (AICTE) New Delhi and It is affiliated to the Visvesvaraya Technological University (VTU), Belagavi. The institute has been conferred a Jain Religious Minority Status. It is an unaided institution.\n"
     ]
    }
   ],
   "source": [
    "for i in data1:\n",
    "    print(i)"
   ]
  },
  {
   "cell_type": "code",
   "execution_count": 56,
   "id": "050a2828",
   "metadata": {},
   "outputs": [
    {
     "data": {
      "text/plain": [
       "''"
      ]
     },
     "execution_count": 56,
     "metadata": {},
     "output_type": "execute_result"
    }
   ],
   "source": [
    "data1.read()"
   ]
  },
  {
   "cell_type": "code",
   "execution_count": 57,
   "id": "5f3a8657",
   "metadata": {},
   "outputs": [
    {
     "data": {
      "text/plain": [
       "0"
      ]
     },
     "execution_count": 57,
     "metadata": {},
     "output_type": "execute_result"
    }
   ],
   "source": [
    "data1.seek(0)"
   ]
  },
  {
   "cell_type": "code",
   "execution_count": 58,
   "id": "2890ea1c",
   "metadata": {},
   "outputs": [
    {
     "data": {
      "text/plain": [
       "'The Institution Bahubali College of Engineering(BCE) was established during 1997 by His Holiness Jagadguru Karmayogi Swasthishree Charukeerti Bhattaraka Swamiji,the Chairman of the S.S.D.J. Jnana Prasaraka Sangha which is running Educational Institutes from Primary education to Graduate level in various disciplines / fields of study. It has gained experience and endeavours to produce bright young men and women for the millennium with excellence in technical knowledge. The BCE-Shravanabelagola has been recognized by the Government of Karnataka and approved by the All India Council for Technical Education (AICTE) New Delhi and It is affiliated to the Visvesvaraya Technological University (VTU), Belagavi. The institute has been conferred a Jain Religious Minority Status. It is an unaided institution.The Institution Bahubali College of Engineering(BCE) was established during 1997 by His Holiness Jagadguru Karmayogi Swasthishree Charukeerti Bhattaraka Swamiji,the Chairman of the S.S.D.J. Jnana Prasaraka Sangha which is running Educational Institutes from Primary education to Graduate level in various disciplines / fields of study. It has gained experience and endeavours to produce bright young men and women for the millennium with excellence in technical knowledge. The BCE-Shravanabelagola has been recognized by the Government of Karnataka and approved by the All India Council for Technical Education (AICTE) New Delhi and It is affiliated to the Visvesvaraya Technological University (VTU), Belagavi. The institute has been conferred a Jain Religious Minority Status. It is an unaided institution.'"
      ]
     },
     "execution_count": 58,
     "metadata": {},
     "output_type": "execute_result"
    }
   ],
   "source": [
    "data1.read()"
   ]
  },
  {
   "cell_type": "code",
   "execution_count": 61,
   "id": "0106d4a0",
   "metadata": {},
   "outputs": [],
   "source": [
    "data1.close()\n"
   ]
  },
  {
   "cell_type": "code",
   "execution_count": 62,
   "id": "10dc67ba",
   "metadata": {},
   "outputs": [],
   "source": [
    "data.close()"
   ]
  },
  {
   "cell_type": "code",
   "execution_count": 63,
   "id": "74c30808",
   "metadata": {},
   "outputs": [],
   "source": [
    "import os"
   ]
  },
  {
   "cell_type": "code",
   "execution_count": 67,
   "id": "e2b87dde",
   "metadata": {},
   "outputs": [],
   "source": [
    "os.remove('test1.txt')"
   ]
  },
  {
   "cell_type": "code",
   "execution_count": 69,
   "id": "78557438",
   "metadata": {},
   "outputs": [],
   "source": [
    "os.remove('new_txt')"
   ]
  },
  {
   "cell_type": "code",
   "execution_count": 70,
   "id": "f878c5eb",
   "metadata": {},
   "outputs": [
    {
     "ename": "FileNotFoundError",
     "evalue": "[Errno 2] No such file or directory: 'test1.txt'",
     "output_type": "error",
     "traceback": [
      "\u001b[1;31m---------------------------------------------------------------------------\u001b[0m",
      "\u001b[1;31mFileNotFoundError\u001b[0m                         Traceback (most recent call last)",
      "Cell \u001b[1;32mIn[70], line 1\u001b[0m\n\u001b[1;32m----> 1\u001b[0m \u001b[38;5;28;43mopen\u001b[39;49m\u001b[43m(\u001b[49m\u001b[38;5;124;43m'\u001b[39;49m\u001b[38;5;124;43mtest1.txt\u001b[39;49m\u001b[38;5;124;43m'\u001b[39;49m\u001b[43m)\u001b[49m\n",
      "File \u001b[1;32m~\\Downloads\\python\\lib\\site-packages\\IPython\\core\\interactiveshell.py:282\u001b[0m, in \u001b[0;36m_modified_open\u001b[1;34m(file, *args, **kwargs)\u001b[0m\n\u001b[0;32m    275\u001b[0m \u001b[38;5;28;01mif\u001b[39;00m file \u001b[38;5;129;01min\u001b[39;00m {\u001b[38;5;241m0\u001b[39m, \u001b[38;5;241m1\u001b[39m, \u001b[38;5;241m2\u001b[39m}:\n\u001b[0;32m    276\u001b[0m     \u001b[38;5;28;01mraise\u001b[39;00m \u001b[38;5;167;01mValueError\u001b[39;00m(\n\u001b[0;32m    277\u001b[0m         \u001b[38;5;124mf\u001b[39m\u001b[38;5;124m\"\u001b[39m\u001b[38;5;124mIPython won\u001b[39m\u001b[38;5;124m'\u001b[39m\u001b[38;5;124mt let you open fd=\u001b[39m\u001b[38;5;132;01m{\u001b[39;00mfile\u001b[38;5;132;01m}\u001b[39;00m\u001b[38;5;124m by default \u001b[39m\u001b[38;5;124m\"\u001b[39m\n\u001b[0;32m    278\u001b[0m         \u001b[38;5;124m\"\u001b[39m\u001b[38;5;124mas it is likely to crash IPython. If you know what you are doing, \u001b[39m\u001b[38;5;124m\"\u001b[39m\n\u001b[0;32m    279\u001b[0m         \u001b[38;5;124m\"\u001b[39m\u001b[38;5;124myou can use builtins\u001b[39m\u001b[38;5;124m'\u001b[39m\u001b[38;5;124m open.\u001b[39m\u001b[38;5;124m\"\u001b[39m\n\u001b[0;32m    280\u001b[0m     )\n\u001b[1;32m--> 282\u001b[0m \u001b[38;5;28;01mreturn\u001b[39;00m io_open(file, \u001b[38;5;241m*\u001b[39margs, \u001b[38;5;241m*\u001b[39m\u001b[38;5;241m*\u001b[39mkwargs)\n",
      "\u001b[1;31mFileNotFoundError\u001b[0m: [Errno 2] No such file or directory: 'test1.txt'"
     ]
    }
   ],
   "source": [
    "open('test1.txt')"
   ]
  },
  {
   "cell_type": "code",
   "execution_count": 71,
   "id": "bfaf9cfb",
   "metadata": {},
   "outputs": [
    {
     "ename": "FileNotFoundError",
     "evalue": "[Errno 2] No such file or directory: 'new_txt'",
     "output_type": "error",
     "traceback": [
      "\u001b[1;31m---------------------------------------------------------------------------\u001b[0m",
      "\u001b[1;31mFileNotFoundError\u001b[0m                         Traceback (most recent call last)",
      "Cell \u001b[1;32mIn[71], line 1\u001b[0m\n\u001b[1;32m----> 1\u001b[0m \u001b[38;5;28;43mopen\u001b[39;49m\u001b[43m(\u001b[49m\u001b[38;5;124;43m'\u001b[39;49m\u001b[38;5;124;43mnew_txt\u001b[39;49m\u001b[38;5;124;43m'\u001b[39;49m\u001b[43m)\u001b[49m\n",
      "File \u001b[1;32m~\\Downloads\\python\\lib\\site-packages\\IPython\\core\\interactiveshell.py:282\u001b[0m, in \u001b[0;36m_modified_open\u001b[1;34m(file, *args, **kwargs)\u001b[0m\n\u001b[0;32m    275\u001b[0m \u001b[38;5;28;01mif\u001b[39;00m file \u001b[38;5;129;01min\u001b[39;00m {\u001b[38;5;241m0\u001b[39m, \u001b[38;5;241m1\u001b[39m, \u001b[38;5;241m2\u001b[39m}:\n\u001b[0;32m    276\u001b[0m     \u001b[38;5;28;01mraise\u001b[39;00m \u001b[38;5;167;01mValueError\u001b[39;00m(\n\u001b[0;32m    277\u001b[0m         \u001b[38;5;124mf\u001b[39m\u001b[38;5;124m\"\u001b[39m\u001b[38;5;124mIPython won\u001b[39m\u001b[38;5;124m'\u001b[39m\u001b[38;5;124mt let you open fd=\u001b[39m\u001b[38;5;132;01m{\u001b[39;00mfile\u001b[38;5;132;01m}\u001b[39;00m\u001b[38;5;124m by default \u001b[39m\u001b[38;5;124m\"\u001b[39m\n\u001b[0;32m    278\u001b[0m         \u001b[38;5;124m\"\u001b[39m\u001b[38;5;124mas it is likely to crash IPython. If you know what you are doing, \u001b[39m\u001b[38;5;124m\"\u001b[39m\n\u001b[0;32m    279\u001b[0m         \u001b[38;5;124m\"\u001b[39m\u001b[38;5;124myou can use builtins\u001b[39m\u001b[38;5;124m'\u001b[39m\u001b[38;5;124m open.\u001b[39m\u001b[38;5;124m\"\u001b[39m\n\u001b[0;32m    280\u001b[0m     )\n\u001b[1;32m--> 282\u001b[0m \u001b[38;5;28;01mreturn\u001b[39;00m io_open(file, \u001b[38;5;241m*\u001b[39margs, \u001b[38;5;241m*\u001b[39m\u001b[38;5;241m*\u001b[39mkwargs)\n",
      "\u001b[1;31mFileNotFoundError\u001b[0m: [Errno 2] No such file or directory: 'new_txt'"
     ]
    }
   ],
   "source": [
    "open('new_txt')"
   ]
  },
  {
   "cell_type": "code",
   "execution_count": null,
   "id": "df9b9a2b",
   "metadata": {},
   "outputs": [],
   "source": []
  }
 ],
 "metadata": {
  "kernelspec": {
   "display_name": "Python 3 (ipykernel)",
   "language": "python",
   "name": "python3"
  },
  "language_info": {
   "codemirror_mode": {
    "name": "ipython",
    "version": 3
   },
   "file_extension": ".py",
   "mimetype": "text/x-python",
   "name": "python",
   "nbconvert_exporter": "python",
   "pygments_lexer": "ipython3",
   "version": "3.10.9"
  }
 },
 "nbformat": 4,
 "nbformat_minor": 5
}
