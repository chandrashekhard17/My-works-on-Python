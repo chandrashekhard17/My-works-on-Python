{
 "cells": [
  {
   "cell_type": "code",
   "execution_count": 54,
   "id": "0c8e4cdb",
   "metadata": {},
   "outputs": [],
   "source": [
    "#json file read and write operation\n",
    "\n",
    "\n",
    "data = {\n",
    "       \"name\":'sudh',\n",
    "       \"email_id\":'sudh@gmail.com',\n",
    "       \"phone_no\":7979866785\n",
    "}"
   ]
  },
  {
   "cell_type": "code",
   "execution_count": 9,
   "id": "365f19d0",
   "metadata": {},
   "outputs": [],
   "source": [
    "import json"
   ]
  },
  {
   "cell_type": "code",
   "execution_count": 10,
   "id": "9d519bbd",
   "metadata": {},
   "outputs": [],
   "source": [
    "with open('test1.json','w') as f:\n",
    "    json.dump(data,f)"
   ]
  },
  {
   "cell_type": "code",
   "execution_count": 11,
   "id": "7a508fb9",
   "metadata": {},
   "outputs": [],
   "source": [
    "with open('test1.json','r') as f:\n",
    "    data1=json.load(f)"
   ]
  },
  {
   "cell_type": "code",
   "execution_count": 12,
   "id": "3e3a92d1",
   "metadata": {},
   "outputs": [
    {
     "data": {
      "text/plain": [
       "{'name': 'sudh', 'email_id': 'sudh@gmail.com', 'phone_no': 7979866785}"
      ]
     },
     "execution_count": 12,
     "metadata": {},
     "output_type": "execute_result"
    }
   ],
   "source": [
    "data1"
   ]
  },
  {
   "cell_type": "code",
   "execution_count": 14,
   "id": "7bba0b3d",
   "metadata": {},
   "outputs": [],
   "source": [
    "data2={\n",
    "      \"course\":'pwskills',\n",
    "      'mentor':['krish','sudh','naveen'],\n",
    "       'mail_id':['krish@gmail.com','sudh@gmail.com','naveen@gmail.']\n",
    "}"
   ]
  },
  {
   "cell_type": "code",
   "execution_count": 15,
   "id": "5267d8c6",
   "metadata": {},
   "outputs": [],
   "source": [
    "with open('test1.json','a') as f:\n",
    "    json.dump(data2,f)"
   ]
  },
  {
   "cell_type": "code",
   "execution_count": 20,
   "id": "348b1ac5",
   "metadata": {},
   "outputs": [],
   "source": [
    "import os\n"
   ]
  },
  {
   "cell_type": "code",
   "execution_count": 21,
   "id": "92b62209",
   "metadata": {},
   "outputs": [],
   "source": [
    "os.remove('test1.json')"
   ]
  },
  {
   "cell_type": "code",
   "execution_count": 22,
   "id": "0651e9e9",
   "metadata": {},
   "outputs": [],
   "source": [
    "with open('test1.json','w') as f:\n",
    "    json.dump(data2,f)"
   ]
  },
  {
   "cell_type": "code",
   "execution_count": 23,
   "id": "71d217de",
   "metadata": {},
   "outputs": [],
   "source": [
    "with open('test1.json','r') as f:\n",
    "    data3=json.load(f)"
   ]
  },
  {
   "cell_type": "code",
   "execution_count": 24,
   "id": "d701a89e",
   "metadata": {},
   "outputs": [
    {
     "data": {
      "text/plain": [
       "{'course': 'pwskills',\n",
       " 'mentor': ['krish', 'sudh', 'naveen'],\n",
       " 'mail_id': ['krish@gmail.com', 'sudh@gmail.com', 'naveen@gmail.']}"
      ]
     },
     "execution_count": 24,
     "metadata": {},
     "output_type": "execute_result"
    }
   ],
   "source": [
    "data3"
   ]
  },
  {
   "cell_type": "code",
   "execution_count": 25,
   "id": "d001dc4c",
   "metadata": {},
   "outputs": [],
   "source": [
    "import os"
   ]
  },
  {
   "cell_type": "code",
   "execution_count": 26,
   "id": "0ca0c7b3",
   "metadata": {},
   "outputs": [],
   "source": [
    "os.rename('test1.json','new_.json')"
   ]
  },
  {
   "cell_type": "code",
   "execution_count": 27,
   "id": "fa934584",
   "metadata": {},
   "outputs": [
    {
     "data": {
      "text/plain": [
       "['krish@gmail.com', 'sudh@gmail.com', 'naveen@gmail.']"
      ]
     },
     "execution_count": 27,
     "metadata": {},
     "output_type": "execute_result"
    }
   ],
   "source": [
    "data3['mail_id']"
   ]
  },
  {
   "cell_type": "code",
   "execution_count": 28,
   "id": "847a897c",
   "metadata": {},
   "outputs": [
    {
     "data": {
      "text/plain": [
       "'sudh@gmail.com'"
      ]
     },
     "execution_count": 28,
     "metadata": {},
     "output_type": "execute_result"
    }
   ],
   "source": [
    "data3['mail_id'][1]"
   ]
  },
  {
   "cell_type": "code",
   "execution_count": 42,
   "id": "d3e55600",
   "metadata": {},
   "outputs": [],
   "source": [
    "###csv file\n",
    "\n",
    "\n",
    "\n"
   ]
  },
  {
   "cell_type": "code",
   "execution_count": 43,
   "id": "030c9c87",
   "metadata": {},
   "outputs": [],
   "source": [
    "data4=[['name','email_id','phone_no'],\n",
    "      ['sudh','sudh@gmail.com',99786754657],\n",
    "      ['krish','krish@gmail.com',9878564669]\n",
    "      ]"
   ]
  },
  {
   "cell_type": "code",
   "execution_count": 44,
   "id": "89b31755",
   "metadata": {},
   "outputs": [],
   "source": [
    "import csv\n",
    "\n",
    "\n",
    "with open('test2.csv','w') as f:\n",
    "    w=csv.writer(f)\n",
    "    for i in data4:\n",
    "        w.writerow(i)"
   ]
  },
  {
   "cell_type": "code",
   "execution_count": 45,
   "id": "4540ec63",
   "metadata": {},
   "outputs": [
    {
     "name": "stdout",
     "output_type": "stream",
     "text": [
      "['name', 'email_id', 'phone_no']\n",
      "['sudh', 'sudh@gmail.com', 99786754657]\n",
      "['krish', 'krish@gmail.com', 9878564669]\n"
     ]
    }
   ],
   "source": [
    "with open('test2.csv','r') as f:\n",
    "    read=csv.reader(f)\n",
    "    for i in data4:\n",
    "        print(i)"
   ]
  },
  {
   "cell_type": "code",
   "execution_count": 46,
   "id": "176c65c8",
   "metadata": {},
   "outputs": [],
   "source": [
    "import csv\n"
   ]
  },
  {
   "cell_type": "code",
   "execution_count": 47,
   "id": "71b55d27",
   "metadata": {},
   "outputs": [],
   "source": [
    "with open('test2.csv','a') as f:\n",
    "    w=csv.writer(f)\n",
    "    for i in data4:\n",
    "        w.writerow(i)"
   ]
  },
  {
   "cell_type": "code",
   "execution_count": 48,
   "id": "24ed6e1b",
   "metadata": {},
   "outputs": [],
   "source": [
    "data5=[['course','mentor','mail_id'],\n",
    "      ['data science','krish','krish@gmail.com'],\n",
    "      ['web dev','sudh','sudh@gmail.com']]"
   ]
  },
  {
   "cell_type": "code",
   "execution_count": 49,
   "id": "070125fa",
   "metadata": {},
   "outputs": [],
   "source": [
    "with open('test2.csv','a') as f:\n",
    "    w = csv.writer(f)\n",
    "    for i in data5:\n",
    "        w.writerow(i)"
   ]
  },
  {
   "cell_type": "code",
   "execution_count": 50,
   "id": "2aab40d7",
   "metadata": {},
   "outputs": [
    {
     "name": "stdout",
     "output_type": "stream",
     "text": [
      "['course', 'mentor', 'mail_id']\n",
      "['data science', 'krish', 'krish@gmail.com']\n",
      "['web dev', 'sudh', 'sudh@gmail.com']\n"
     ]
    }
   ],
   "source": [
    "with open('test2.csv','r') as f:\n",
    "    read = csv.reader(f)\n",
    "    for i in data5:\n",
    "        print(i)"
   ]
  },
  {
   "cell_type": "code",
   "execution_count": 51,
   "id": "59b5d0f8",
   "metadata": {},
   "outputs": [],
   "source": [
    "### binary format\n",
    "\n",
    "\n",
    "\n"
   ]
  },
  {
   "cell_type": "code",
   "execution_count": 57,
   "id": "ce9eecbb",
   "metadata": {},
   "outputs": [],
   "source": [
    "with open('test2.bin','wb') as f:\n",
    "    f.write(b\"\\x01\\x02\\x03\")\n",
    "    \n"
   ]
  },
  {
   "cell_type": "code",
   "execution_count": 58,
   "id": "aae7cb72",
   "metadata": {},
   "outputs": [],
   "source": [
    "with open('test2.bin','wb') as f:\n",
    "    f.write(b\"\\x01\\x02\\x03\\x05\")\n",
    "    \n"
   ]
  },
  {
   "cell_type": "code",
   "execution_count": 60,
   "id": "871f9fb0",
   "metadata": {},
   "outputs": [],
   "source": [
    "with open('test2.bin','wb') as f:\n",
    "    f.write(b\"\\v01\\v02\\v03\")\n",
    "    \n"
   ]
  },
  {
   "cell_type": "code",
   "execution_count": 63,
   "id": "2f3b3a0b",
   "metadata": {},
   "outputs": [
    {
     "name": "stdout",
     "output_type": "stream",
     "text": [
      "b''\n"
     ]
    }
   ],
   "source": [
    "with open('test2.bin','rb') as f:\n",
    "    print(f.read())\n",
    "    \n"
   ]
  },
  {
   "cell_type": "code",
   "execution_count": 65,
   "id": "24ba2c23",
   "metadata": {},
   "outputs": [],
   "source": [
    "with open('test2.bin','wb') as f:\n",
    "    f.write(b\"\\x01\\x02\\x03\")\n",
    "    \n"
   ]
  },
  {
   "cell_type": "code",
   "execution_count": 66,
   "id": "7a1c2a40",
   "metadata": {},
   "outputs": [
    {
     "name": "stdout",
     "output_type": "stream",
     "text": [
      "b'\\x01\\x02\\x03'\n"
     ]
    }
   ],
   "source": [
    "with open('test2.bin','rb') as f:\n",
    "    print(f.read())\n",
    "    \n"
   ]
  },
  {
   "cell_type": "code",
   "execution_count": null,
   "id": "35df785f",
   "metadata": {},
   "outputs": [],
   "source": []
  }
 ],
 "metadata": {
  "kernelspec": {
   "display_name": "Python 3 (ipykernel)",
   "language": "python",
   "name": "python3"
  },
  "language_info": {
   "codemirror_mode": {
    "name": "ipython",
    "version": 3
   },
   "file_extension": ".py",
   "mimetype": "text/x-python",
   "name": "python",
   "nbconvert_exporter": "python",
   "pygments_lexer": "ipython3",
   "version": "3.10.9"
  }
 },
 "nbformat": 4,
 "nbformat_minor": 5
}
