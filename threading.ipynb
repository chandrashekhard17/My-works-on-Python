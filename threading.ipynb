{
 "cells": [
  {
   "cell_type": "code",
   "execution_count": 36,
   "id": "21d49e14",
   "metadata": {},
   "outputs": [],
   "source": [
    "def test(id):\n",
    "    print(f'this is my test {id}')"
   ]
  },
  {
   "cell_type": "code",
   "execution_count": 37,
   "id": "ebda51aa",
   "metadata": {},
   "outputs": [
    {
     "name": "stdout",
     "output_type": "stream",
     "text": [
      "this is my test 10\n"
     ]
    }
   ],
   "source": [
    "test(10)"
   ]
  },
  {
   "cell_type": "code",
   "execution_count": 38,
   "id": "a1221610",
   "metadata": {},
   "outputs": [
    {
     "name": "stdout",
     "output_type": "stream",
     "text": [
      "this is my test 1\n"
     ]
    }
   ],
   "source": [
    "test(1)"
   ]
  },
  {
   "cell_type": "code",
   "execution_count": 39,
   "id": "5bc4ad11",
   "metadata": {},
   "outputs": [
    {
     "name": "stdout",
     "output_type": "stream",
     "text": [
      "this is my test 3\n"
     ]
    }
   ],
   "source": [
    "test(3)"
   ]
  },
  {
   "cell_type": "code",
   "execution_count": 40,
   "id": "a1127b5a",
   "metadata": {},
   "outputs": [],
   "source": [
    "import threading\n",
    "thread1=[threading.Thread(target=test, args=(i,)) for i in [10,2,4]]"
   ]
  },
  {
   "cell_type": "code",
   "execution_count": 41,
   "id": "e31dffbf",
   "metadata": {},
   "outputs": [],
   "source": [
    "thread1 = [threading.Thread(target=test, args=(i,)) for i in [10, 2, 4]]"
   ]
  },
  {
   "cell_type": "code",
   "execution_count": 42,
   "id": "d1d98994",
   "metadata": {},
   "outputs": [
    {
     "name": "stdout",
     "output_type": "stream",
     "text": [
      "this is my test 10\n",
      "this is my test 2\n",
      "this is my test 4\n"
     ]
    }
   ],
   "source": [
    "for t in thread1:\n",
    "    t.start()"
   ]
  },
  {
   "cell_type": "code",
   "execution_count": 43,
   "id": "a77337bd",
   "metadata": {},
   "outputs": [],
   "source": [
    "def circular(name):\n",
    "    print(f'this is the name which we have print in the circular {name}')"
   ]
  },
  {
   "cell_type": "code",
   "execution_count": 44,
   "id": "b8e063c4",
   "metadata": {},
   "outputs": [
    {
     "name": "stdout",
     "output_type": "stream",
     "text": [
      "this is the name which we have print in the circular chandra\n"
     ]
    }
   ],
   "source": [
    "circular('chandra')"
   ]
  },
  {
   "cell_type": "code",
   "execution_count": 45,
   "id": "0d01abb9",
   "metadata": {},
   "outputs": [
    {
     "name": "stdout",
     "output_type": "stream",
     "text": [
      "this is the name which we have print in the circular subhash\n"
     ]
    }
   ],
   "source": [
    "circular('subhash')"
   ]
  },
  {
   "cell_type": "code",
   "execution_count": 46,
   "id": "e8a8322c",
   "metadata": {},
   "outputs": [
    {
     "name": "stdout",
     "output_type": "stream",
     "text": [
      "this is the name which we have print in the circular bose\n"
     ]
    }
   ],
   "source": [
    "circular('bose')"
   ]
  },
  {
   "cell_type": "code",
   "execution_count": 47,
   "id": "bcfb32a9",
   "metadata": {},
   "outputs": [],
   "source": [
    "import threading\n",
    "\n",
    "\n",
    "lst=['subhash','chandra','bose']"
   ]
  },
  {
   "cell_type": "code",
   "execution_count": 48,
   "id": "1063e594",
   "metadata": {},
   "outputs": [],
   "source": [
    "thread2=[threading.Thread(target=circular, args=(i,)) for i in lst]"
   ]
  },
  {
   "cell_type": "code",
   "execution_count": 49,
   "id": "42b02e9d",
   "metadata": {},
   "outputs": [
    {
     "name": "stdout",
     "output_type": "stream",
     "text": [
      "this is the name which we have print in the circular subhashthis is the name which we have print in the circular chandra\n",
      "\n",
      "this is the name which we have print in the circular bose\n"
     ]
    }
   ],
   "source": [
    "for t in thread2:\n",
    "    t.start()"
   ]
  },
  {
   "cell_type": "code",
   "execution_count": 50,
   "id": "2fc33a12",
   "metadata": {},
   "outputs": [],
   "source": [
    "import threading\n",
    "import time"
   ]
  },
  {
   "cell_type": "code",
   "execution_count": 51,
   "id": "cf02c5e2",
   "metadata": {},
   "outputs": [],
   "source": [
    "def test(id):\n",
    "    print(f'this is my test {id}')\n",
    "    time.sleep(1)"
   ]
  },
  {
   "cell_type": "code",
   "execution_count": 52,
   "id": "bb446a11",
   "metadata": {},
   "outputs": [
    {
     "name": "stdout",
     "output_type": "stream",
     "text": [
      "this is my test 10\n"
     ]
    }
   ],
   "source": [
    "test(10)"
   ]
  },
  {
   "cell_type": "code",
   "execution_count": 53,
   "id": "67870cc5",
   "metadata": {},
   "outputs": [
    {
     "name": "stdout",
     "output_type": "stream",
     "text": [
      "this is my test 4\n"
     ]
    }
   ],
   "source": [
    "test(4)"
   ]
  },
  {
   "cell_type": "code",
   "execution_count": 54,
   "id": "69734037",
   "metadata": {},
   "outputs": [
    {
     "name": "stdout",
     "output_type": "stream",
     "text": [
      "this is my test 5\n"
     ]
    }
   ],
   "source": [
    "test(5)"
   ]
  },
  {
   "cell_type": "code",
   "execution_count": 55,
   "id": "18236e8a",
   "metadata": {},
   "outputs": [
    {
     "name": "stdout",
     "output_type": "stream",
     "text": [
      "this is my test 6\n"
     ]
    }
   ],
   "source": [
    "test(6)"
   ]
  },
  {
   "cell_type": "code",
   "execution_count": 56,
   "id": "a66af59d",
   "metadata": {},
   "outputs": [],
   "source": [
    "thread1=[threading.Thread(target=test,args=(i,)) for i in [10,5,3,6,7,8,3,4,]]"
   ]
  },
  {
   "cell_type": "code",
   "execution_count": 57,
   "id": "e295ffcd",
   "metadata": {},
   "outputs": [
    {
     "data": {
      "text/plain": [
       "[<Thread(Thread-38 (test), initial)>,\n",
       " <Thread(Thread-39 (test), initial)>,\n",
       " <Thread(Thread-40 (test), initial)>,\n",
       " <Thread(Thread-41 (test), initial)>,\n",
       " <Thread(Thread-42 (test), initial)>,\n",
       " <Thread(Thread-43 (test), initial)>,\n",
       " <Thread(Thread-44 (test), initial)>,\n",
       " <Thread(Thread-45 (test), initial)>]"
      ]
     },
     "execution_count": 57,
     "metadata": {},
     "output_type": "execute_result"
    }
   ],
   "source": [
    "thread1"
   ]
  },
  {
   "cell_type": "code",
   "execution_count": null,
   "id": "42e0e91e",
   "metadata": {},
   "outputs": [],
   "source": []
  },
  {
   "cell_type": "code",
   "execution_count": 58,
   "id": "10f28296",
   "metadata": {},
   "outputs": [
    {
     "name": "stdout",
     "output_type": "stream",
     "text": [
      "this is my test 10\n",
      "this is my test 5\n",
      "this is my test 3\n",
      "this is my test 6\n",
      "this is my test 7\n",
      "this is my test 8\n",
      "this is my test 3\n",
      "this is my test 4\n"
     ]
    }
   ],
   "source": [
    "for t in thread1:\n",
    "    t.start()"
   ]
  },
  {
   "cell_type": "code",
   "execution_count": 61,
   "id": "bc8b6958",
   "metadata": {},
   "outputs": [],
   "source": [
    "import threading\n",
    "lst=['subhash','chandra','bose']"
   ]
  },
  {
   "cell_type": "code",
   "execution_count": 62,
   "id": "17aab44e",
   "metadata": {},
   "outputs": [],
   "source": [
    "import time\n",
    "def test2(name):\n",
    "    print(f'The name of the function is made to be {name}')\n",
    "    "
   ]
  },
  {
   "cell_type": "code",
   "execution_count": 63,
   "id": "d1d8b37b",
   "metadata": {},
   "outputs": [
    {
     "name": "stdout",
     "output_type": "stream",
     "text": [
      "The name of the function is made to be subhash\n"
     ]
    }
   ],
   "source": [
    "test2('subhash')"
   ]
  },
  {
   "cell_type": "code",
   "execution_count": 64,
   "id": "decb56d2",
   "metadata": {},
   "outputs": [
    {
     "name": "stdout",
     "output_type": "stream",
     "text": [
      "The name of the function is made to be chandra\n"
     ]
    }
   ],
   "source": [
    "test2('chandra')"
   ]
  },
  {
   "cell_type": "code",
   "execution_count": 65,
   "id": "f3ad0e6a",
   "metadata": {},
   "outputs": [
    {
     "name": "stdout",
     "output_type": "stream",
     "text": [
      "The name of the function is made to be bose\n"
     ]
    }
   ],
   "source": [
    "test2('bose')"
   ]
  },
  {
   "cell_type": "code",
   "execution_count": 69,
   "id": "83a693ce",
   "metadata": {},
   "outputs": [],
   "source": [
    "thread=[threading.Thread(target=test2,args=(i,)) for i in lst]"
   ]
  },
  {
   "cell_type": "code",
   "execution_count": 70,
   "id": "fd25cca9",
   "metadata": {},
   "outputs": [
    {
     "data": {
      "text/plain": [
       "[<Thread(Thread-49 (test2), initial)>,\n",
       " <Thread(Thread-50 (test2), initial)>,\n",
       " <Thread(Thread-51 (test2), initial)>]"
      ]
     },
     "execution_count": 70,
     "metadata": {},
     "output_type": "execute_result"
    }
   ],
   "source": [
    "thread"
   ]
  },
  {
   "cell_type": "code",
   "execution_count": 71,
   "id": "4d17a3ee",
   "metadata": {},
   "outputs": [
    {
     "name": "stdout",
     "output_type": "stream",
     "text": [
      "The name of the function is made to be subhash\n",
      "The name of the function is made to be chandra\n",
      "The name of the function is made to be bose\n"
     ]
    }
   ],
   "source": [
    "for t in thread:\n",
    "    t.start()\n",
    "    "
   ]
  },
  {
   "cell_type": "code",
   "execution_count": 73,
   "id": "18b46395",
   "metadata": {},
   "outputs": [
    {
     "data": {
      "text/plain": [
       "'https://www.linkedin.com/feed/\\nhttps://github.com/chandrashekhard17/My-works-on-Python\\nhttps://takeuforward.org/strivers-a2z-dsa-course/strivers-a2z-dsa-course-sheet-2/'"
      ]
     },
     "execution_count": 73,
     "metadata": {},
     "output_type": "execute_result"
    }
   ],
   "source": [
    "\"\"\"https://www.linkedin.com/feed/\n",
    "https://github.com/chandrashekhard17/My-works-on-Python\n",
    "https://takeuforward.org/strivers-a2z-dsa-course/strivers-a2z-dsa-course-sheet-2/\"\"\"\n"
   ]
  },
  {
   "cell_type": "code",
   "execution_count": 76,
   "id": "f4f0d1ae",
   "metadata": {},
   "outputs": [],
   "source": [
    "import urllib.request"
   ]
  },
  {
   "cell_type": "code",
   "execution_count": 77,
   "id": "248646ff",
   "metadata": {},
   "outputs": [],
   "source": [
    "import threading"
   ]
  },
  {
   "cell_type": "code",
   "execution_count": 79,
   "id": "27adc253",
   "metadata": {},
   "outputs": [],
   "source": [
    "def files(url,fname):\n",
    "    urllib.request.urlretrieve(url,fname)\n",
    "    "
   ]
  },
  {
   "cell_type": "code",
   "execution_count": 80,
   "id": "d4d6c877",
   "metadata": {},
   "outputs": [],
   "source": [
    "files('https://takeuforward.org/strivers-a2z-dsa-course/strivers-a2z-dsa-course-sheet-2/','test.txt')"
   ]
  },
  {
   "cell_type": "code",
   "execution_count": 81,
   "id": "f2d341a1",
   "metadata": {},
   "outputs": [],
   "source": [
    "url_lst=['https://www.linkedin.com/feed/','https://github.com/chandrashekhard17/My-works-on-Python','https://takeuforward.org/strivers-a2z-dsa-course/strivers-a2z-dsa-course-sheet-2/']"
   ]
  },
  {
   "cell_type": "code",
   "execution_count": 82,
   "id": "83c07eb5",
   "metadata": {},
   "outputs": [],
   "source": [
    "data_lst=['data1.txt','data2.txt','data3.txt']"
   ]
  },
  {
   "cell_type": "code",
   "execution_count": 83,
   "id": "6dec4a01",
   "metadata": {},
   "outputs": [],
   "source": [
    "thread3=[threading.Thread(target=files, args=(url_lst[i],data_lst[i])) for i in range(len(url_lst))]"
   ]
  },
  {
   "cell_type": "code",
   "execution_count": 84,
   "id": "c3649987",
   "metadata": {},
   "outputs": [
    {
     "data": {
      "text/plain": [
       "[<Thread(Thread-52 (files), initial)>,\n",
       " <Thread(Thread-53 (files), initial)>,\n",
       " <Thread(Thread-54 (files), initial)>]"
      ]
     },
     "execution_count": 84,
     "metadata": {},
     "output_type": "execute_result"
    }
   ],
   "source": [
    "thread3"
   ]
  },
  {
   "cell_type": "code",
   "execution_count": 85,
   "id": "20ce07fc",
   "metadata": {},
   "outputs": [],
   "source": [
    "for t in thread3:\n",
    "    t.start()"
   ]
  },
  {
   "cell_type": "code",
   "execution_count": null,
   "id": "2fd434d6",
   "metadata": {},
   "outputs": [],
   "source": []
  },
  {
   "cell_type": "code",
   "execution_count": 108,
   "id": "0a41e656",
   "metadata": {},
   "outputs": [],
   "source": [
    "import threading\n",
    "import time \n",
    "def test4(id):\n",
    "    for i in range(10):\n",
    "        print(f'this is my {id} which is run in {i}')\n",
    "        time.sleep(1)"
   ]
  },
  {
   "cell_type": "code",
   "execution_count": 109,
   "id": "f3625489",
   "metadata": {},
   "outputs": [],
   "source": [
    "thread4=[threading.Thread(target=test4,args=(i,)) for i in [100,25,4,56]]"
   ]
  },
  {
   "cell_type": "code",
   "execution_count": 110,
   "id": "3d6fe7d2",
   "metadata": {},
   "outputs": [
    {
     "data": {
      "text/plain": [
       "[<Thread(Thread-71 (test4), initial)>,\n",
       " <Thread(Thread-72 (test4), initial)>,\n",
       " <Thread(Thread-73 (test4), initial)>,\n",
       " <Thread(Thread-74 (test4), initial)>]"
      ]
     },
     "execution_count": 110,
     "metadata": {},
     "output_type": "execute_result"
    }
   ],
   "source": [
    "thread4"
   ]
  },
  {
   "cell_type": "code",
   "execution_count": 111,
   "id": "44cf9cae",
   "metadata": {},
   "outputs": [
    {
     "name": "stdout",
     "output_type": "stream",
     "text": [
      "this is my 100 which is run in 0\n",
      "this is my 25 which is run in 0\n",
      "this is my 4 which is run in 0\n",
      "this is my 56 which is run in 0\n",
      "this is my 56 which is run in 1this is my 4 which is run in 1\n",
      "this is my 25 which is run in 1\n",
      "this is my 100 which is run in 1\n",
      "\n",
      "this is my 56 which is run in 2\n",
      "this is my 4 which is run in 2\n",
      "this is my 100 which is run in 2\n",
      "this is my 25 which is run in 2\n",
      "this is my 56 which is run in 3this is my 4 which is run in 3\n",
      "this is my 100 which is run in 3\n",
      "this is my 25 which is run in 3\n",
      "\n",
      "this is my 4 which is run in 4\n",
      "this is my 100 which is run in 4\n",
      "this is my 25 which is run in 4\n",
      "this is my 56 which is run in 4\n",
      "this is my 56 which is run in 5this is my 25 which is run in 5\n",
      "this is my 100 which is run in 5\n",
      "this is my 4 which is run in 5\n",
      "\n",
      "this is my 56 which is run in 6\n",
      "this is my 4 which is run in 6\n",
      "this is my 100 which is run in 6\n",
      "this is my 25 which is run in 6\n",
      "this is my 25 which is run in 7this is my 100 which is run in 7\n",
      "this is my 4 which is run in 7\n",
      "this is my 56 which is run in 7\n",
      "\n",
      "this is my 25 which is run in 8this is my 56 which is run in 8\n",
      "this is my 4 which is run in 8\n",
      "this is my 100 which is run in 8\n",
      "\n",
      "this is my 25 which is run in 9this is my 100 which is run in 9\n",
      "this is my 4 which is run in 9\n",
      "this is my 56 which is run in 9\n",
      "\n"
     ]
    }
   ],
   "source": [
    "for t in thread4:\n",
    "    t.start()"
   ]
  },
  {
   "cell_type": "code",
   "execution_count": null,
   "id": "ae090a13",
   "metadata": {},
   "outputs": [],
   "source": []
  },
  {
   "cell_type": "code",
   "execution_count": null,
   "id": "1e72f974",
   "metadata": {},
   "outputs": [],
   "source": []
  }
 ],
 "metadata": {
  "kernelspec": {
   "display_name": "Python 3 (ipykernel)",
   "language": "python",
   "name": "python3"
  },
  "language_info": {
   "codemirror_mode": {
    "name": "ipython",
    "version": 3
   },
   "file_extension": ".py",
   "mimetype": "text/x-python",
   "name": "python",
   "nbconvert_exporter": "python",
   "pygments_lexer": "ipython3",
   "version": "3.10.9"
  }
 },
 "nbformat": 4,
 "nbformat_minor": 5
}
