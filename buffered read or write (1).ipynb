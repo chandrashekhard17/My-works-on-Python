{
 "cells": [
  {
   "cell_type": "code",
   "execution_count": 8,
   "id": "d500fc40",
   "metadata": {},
   "outputs": [],
   "source": [
    "import io"
   ]
  },
  {
   "cell_type": "code",
   "execution_count": 9,
   "id": "f8cf6296",
   "metadata": {},
   "outputs": [],
   "source": [
    "with open('test2.txt','wb') as f:\n",
    "    file=io.BufferedWriter(f)\n",
    "    file.write(b'In 2013, Kohli was ranked number one in the ICC rankings for ODI batsmen. In 2018, he was ranked top Test batsman, making him the only Indian cricketer to hold the number one spot in all three formats of the game. He is the first player to score 20,000 runs in a decade.')\n",
    "    file.flush()"
   ]
  },
  {
   "cell_type": "code",
   "execution_count": 11,
   "id": "ffefdd7f",
   "metadata": {},
   "outputs": [
    {
     "name": "stdout",
     "output_type": "stream",
     "text": [
      "b''\n"
     ]
    }
   ],
   "source": [
    "with open('test2.txt','rb') as f:\n",
    "    file=io.BufferedReader(f)\n",
    "    data=file.read(0)\n",
    "    print(data)"
   ]
  },
  {
   "cell_type": "code",
   "execution_count": 12,
   "id": "95a696c2",
   "metadata": {},
   "outputs": [
    {
     "name": "stdout",
     "output_type": "stream",
     "text": [
      "b'In 2013, K'\n"
     ]
    }
   ],
   "source": [
    "with open('test2.txt','rb') as f:\n",
    "    file=io.BufferedReader(f)\n",
    "    data=file.read(10)\n",
    "    print(data)"
   ]
  },
  {
   "cell_type": "code",
   "execution_count": 13,
   "id": "51b39762",
   "metadata": {},
   "outputs": [
    {
     "name": "stdout",
     "output_type": "stream",
     "text": [
      "b'In 2013, Kohli was ranked number one in the ICC rankings for ODI batsmen. In 2018, he was ranked top'\n"
     ]
    }
   ],
   "source": [
    "with open('test2.txt','rb') as f:\n",
    "    file=io.BufferedReader(f)\n",
    "    data=file.read(100)\n",
    "    print(data)"
   ]
  },
  {
   "cell_type": "code",
   "execution_count": 14,
   "id": "542d6d06",
   "metadata": {},
   "outputs": [
    {
     "name": "stdout",
     "output_type": "stream",
     "text": [
      "b'In 2013, Kohli was ranked number one in the ICC rankings for ODI batsmen. In 2018, he was ranked top Test batsman, making him the only Indian cricketer to hold the number one spot in all three formats of the game. He is the first player to score 20,000 runs in a decade.'\n"
     ]
    }
   ],
   "source": [
    "with open('test2.txt','rb') as f:\n",
    "    file=io.BufferedReader(f)\n",
    "    data=file.read(1000)\n",
    "    print(data)"
   ]
  },
  {
   "cell_type": "code",
   "execution_count": 15,
   "id": "40107079",
   "metadata": {},
   "outputs": [],
   "source": [
    "import os "
   ]
  },
  {
   "cell_type": "code",
   "execution_count": 16,
   "id": "deb368eb",
   "metadata": {},
   "outputs": [],
   "source": [
    "os.remove('test2.txt')"
   ]
  },
  {
   "cell_type": "code",
   "execution_count": 17,
   "id": "4c4c9d9c",
   "metadata": {},
   "outputs": [
    {
     "ename": "NameError",
     "evalue": "name 'close' is not defined",
     "output_type": "error",
     "traceback": [
      "\u001b[1;31m---------------------------------------------------------------------------\u001b[0m",
      "\u001b[1;31mNameError\u001b[0m                                 Traceback (most recent call last)",
      "Cell \u001b[1;32mIn[17], line 1\u001b[0m\n\u001b[1;32m----> 1\u001b[0m \u001b[43mclose\u001b[49m(\u001b[38;5;124m'\u001b[39m\u001b[38;5;124mtest2.txt\u001b[39m\u001b[38;5;124m'\u001b[39m)\n",
      "\u001b[1;31mNameError\u001b[0m: name 'close' is not defined"
     ]
    }
   ],
   "source": [
    "close('test2.txt')"
   ]
  },
  {
   "cell_type": "code",
   "execution_count": null,
   "id": "99693279",
   "metadata": {},
   "outputs": [],
   "source": []
  }
 ],
 "metadata": {
  "kernelspec": {
   "display_name": "Python 3 (ipykernel)",
   "language": "python",
   "name": "python3"
  },
  "language_info": {
   "codemirror_mode": {
    "name": "ipython",
    "version": 3
   },
   "file_extension": ".py",
   "mimetype": "text/x-python",
   "name": "python",
   "nbconvert_exporter": "python",
   "pygments_lexer": "ipython3",
   "version": "3.10.9"
  }
 },
 "nbformat": 4,
 "nbformat_minor": 5
}
