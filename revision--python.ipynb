{
 "cells": [
  {
   "cell_type": "code",
   "execution_count": 8,
   "id": "4312103c",
   "metadata": {},
   "outputs": [
    {
     "name": "stdout",
     "output_type": "stream",
     "text": [
      "*\r\n",
      "**\r\n",
      "***\r\n",
      "****\r\n",
      "*****\r\n",
      "******\r\n"
     ]
    }
   ],
   "source": [
    "n=6\n",
    "for i in range(n):\n",
    "    for j in range(i+1):\n",
    "        print('*',end='')\n",
    "    print('\\r')\n",
    "    \n",
    "    "
   ]
  },
  {
   "cell_type": "code",
   "execution_count": 30,
   "id": "ebf3e5e6",
   "metadata": {},
   "outputs": [
    {
     "name": "stdout",
     "output_type": "stream",
     "text": [
      "['p']['w'][' ']['s']['k']['i']['l']['l']['s'][' ']['d']['a']['t']['a'][' ']['s']['c']['i']['e']['n']['c']['e'][' ']['m']['a']['s']['t']['e']['r']['s'][' ']['v']['e']['r']['s']['i']['o']['n'][' ']['2']['.']['0']"
     ]
    }
   ],
   "source": [
    "str3=\"pw skills data science masters version 2.0\"\n",
    "for i in str3:\n",
    "    for j in i:\n",
    "        a=j\n",
    "    print(list(a),end='')"
   ]
  },
  {
   "cell_type": "code",
   "execution_count": 31,
   "id": "ccb12d1b",
   "metadata": {},
   "outputs": [],
   "source": [
    "str3=\"pw skills data science masters version 2.0\""
   ]
  },
  {
   "cell_type": "code",
   "execution_count": 33,
   "id": "c751f74e",
   "metadata": {},
   "outputs": [
    {
     "name": "stdout",
     "output_type": "stream",
     "text": [
      "['p', 'w', ' ', 's', 'k', 'i', 'l', 'l', 's', ' ', 'd', 'a', 't', 'a', ' ', 's', 'c', 'i', 'e', 'n', 'c', 'e', ' ', 'm', 'a', 's', 't', 'e', 'r', 's', ' ', 'v', 'e', 'r', 's', 'i', 'o', 'n', ' ', '2', '.', '0']"
     ]
    }
   ],
   "source": [
    "print(list(str3),end='')"
   ]
  },
  {
   "cell_type": "code",
   "execution_count": 42,
   "id": "1cf201d6",
   "metadata": {},
   "outputs": [
    {
     "name": "stdout",
     "output_type": "stream",
     "text": [
      "['pw', 'skills', 'data', 'science', 'masters', 'version', '2.0']\n"
     ]
    }
   ],
   "source": [
    "str3=\"pw skills data science masters version 2.0\"\n",
    "print(str3.split(' '))\n",
    "    "
   ]
  },
  {
   "cell_type": "code",
   "execution_count": 43,
   "id": "aaf37e0e",
   "metadata": {},
   "outputs": [],
   "source": [
    "lst=[[1, -2, 3], [4, -5, 6], [7, -8, 9]]"
   ]
  },
  {
   "cell_type": "code",
   "execution_count": 44,
   "id": "5b227e4b",
   "metadata": {},
   "outputs": [],
   "source": [
    "lst1= [j for i in lst for j in i]"
   ]
  },
  {
   "cell_type": "code",
   "execution_count": 45,
   "id": "b158c931",
   "metadata": {},
   "outputs": [
    {
     "data": {
      "text/plain": [
       "[1, -2, 3, 4, -5, 6, 7, -8, 9]"
      ]
     },
     "execution_count": 45,
     "metadata": {},
     "output_type": "execute_result"
    }
   ],
   "source": [
    "lst1"
   ]
  },
  {
   "cell_type": "code",
   "execution_count": 47,
   "id": "025df8d6",
   "metadata": {},
   "outputs": [
    {
     "data": {
      "text/plain": [
       "[1, 9, 16, 36, 49, 81]"
      ]
     },
     "execution_count": 47,
     "metadata": {},
     "output_type": "execute_result"
    }
   ],
   "source": [
    "[i*i for i in lst1 if i>0 ]"
   ]
  },
  {
   "cell_type": "code",
   "execution_count": 48,
   "id": "af00a741",
   "metadata": {},
   "outputs": [
    {
     "data": {
      "text/plain": [
       "[-8, -125, -512]"
      ]
     },
     "execution_count": 48,
     "metadata": {},
     "output_type": "execute_result"
    }
   ],
   "source": [
    "[i*i*i for i in lst1 if i<0 ]"
   ]
  },
  {
   "cell_type": "code",
   "execution_count": 54,
   "id": "1048481c",
   "metadata": {},
   "outputs": [],
   "source": [
    "lst10=[j**2 if j>0 else j**3 for i in lst for j in i]"
   ]
  },
  {
   "cell_type": "code",
   "execution_count": 55,
   "id": "13a480ab",
   "metadata": {},
   "outputs": [],
   "source": [
    "lst=[[1, -2, 3], [4, -5, 6], [7, -8, 9]]\n",
    "lst10=[j**2 if j>0 else j**3 for i in lst for j in i]"
   ]
  },
  {
   "cell_type": "code",
   "execution_count": 56,
   "id": "25ae28ec",
   "metadata": {},
   "outputs": [
    {
     "data": {
      "text/plain": [
       "[1, -8, 9, 16, -125, 36, 49, -512, 81]"
      ]
     },
     "execution_count": 56,
     "metadata": {},
     "output_type": "execute_result"
    }
   ],
   "source": [
    "lst10"
   ]
  },
  {
   "cell_type": "code",
   "execution_count": 57,
   "id": "36385582",
   "metadata": {},
   "outputs": [],
   "source": [
    "course = 'Data science masters version'\n"
   ]
  },
  {
   "cell_type": "code",
   "execution_count": 59,
   "id": "cd3b15ff",
   "metadata": {},
   "outputs": [
    {
     "name": "stdout",
     "output_type": "stream",
     "text": [
      "['n', 'o', 'i', 's', 'r', 'e', 'v', ' ', 's', 'r', 'e', 't', 's', 'a', 'm', ' ', 'e', 'c', 'n', 'e', 'i', 'c', 's', ' ', 'a', 't', 'a', 'D']"
     ]
    }
   ],
   "source": [
    "print(list(course[::-1]),end='')"
   ]
  },
  {
   "cell_type": "code",
   "execution_count": 1,
   "id": "fa68001b",
   "metadata": {},
   "outputs": [],
   "source": [
    "s={}"
   ]
  },
  {
   "cell_type": "code",
   "execution_count": 2,
   "id": "c0ad788e",
   "metadata": {},
   "outputs": [
    {
     "data": {
      "text/plain": [
       "dict"
      ]
     },
     "execution_count": 2,
     "metadata": {},
     "output_type": "execute_result"
    }
   ],
   "source": [
    "type(s)"
   ]
  },
  {
   "cell_type": "code",
   "execution_count": 3,
   "id": "7f99d011",
   "metadata": {},
   "outputs": [],
   "source": [
    "s={1,2,3,4}"
   ]
  },
  {
   "cell_type": "code",
   "execution_count": 4,
   "id": "bb15f681",
   "metadata": {},
   "outputs": [
    {
     "data": {
      "text/plain": [
       "set"
      ]
     },
     "execution_count": 4,
     "metadata": {},
     "output_type": "execute_result"
    }
   ],
   "source": [
    "type(s)"
   ]
  },
  {
   "cell_type": "code",
   "execution_count": 5,
   "id": "3ef0ff8c",
   "metadata": {},
   "outputs": [
    {
     "ename": "TypeError",
     "evalue": "unhashable type: 'list'",
     "output_type": "error",
     "traceback": [
      "\u001b[1;31m---------------------------------------------------------------------------\u001b[0m",
      "\u001b[1;31mTypeError\u001b[0m                                 Traceback (most recent call last)",
      "Cell \u001b[1;32mIn[5], line 1\u001b[0m\n\u001b[1;32m----> 1\u001b[0m s\u001b[38;5;241m=\u001b[39m{\u001b[38;5;241m1\u001b[39m,\u001b[38;5;241m3\u001b[39m,\u001b[38;5;241m2\u001b[39m,\u001b[38;5;241m4\u001b[39m,\u001b[38;5;241m5\u001b[39m,\u001b[38;5;241m6\u001b[39m,[\u001b[38;5;241m1\u001b[39m,\u001b[38;5;241m2\u001b[39m,\u001b[38;5;241m3\u001b[39m,\u001b[38;5;241m4\u001b[39m,\u001b[38;5;241m5\u001b[39m]}\n",
      "\u001b[1;31mTypeError\u001b[0m: unhashable type: 'list'"
     ]
    }
   ],
   "source": [
    "s={1,3,2,4,5,6,[1,2,3,4,5]}"
   ]
  },
  {
   "cell_type": "code",
   "execution_count": 6,
   "id": "792db057",
   "metadata": {},
   "outputs": [],
   "source": [
    "lst=[1,2,3,4,5,{1,2,34,5,6}]"
   ]
  },
  {
   "cell_type": "code",
   "execution_count": 7,
   "id": "69dcd993",
   "metadata": {},
   "outputs": [
    {
     "data": {
      "text/plain": [
       "[1, 2, 3, 4, 5, {1, 2, 5, 6, 34}]"
      ]
     },
     "execution_count": 7,
     "metadata": {},
     "output_type": "execute_result"
    }
   ],
   "source": [
    "lst"
   ]
  },
  {
   "cell_type": "code",
   "execution_count": null,
   "id": "509092dc",
   "metadata": {},
   "outputs": [],
   "source": []
  }
 ],
 "metadata": {
  "kernelspec": {
   "display_name": "Python 3 (ipykernel)",
   "language": "python",
   "name": "python3"
  },
  "language_info": {
   "codemirror_mode": {
    "name": "ipython",
    "version": 3
   },
   "file_extension": ".py",
   "mimetype": "text/x-python",
   "name": "python",
   "nbconvert_exporter": "python",
   "pygments_lexer": "ipython3",
   "version": "3.10.9"
  }
 },
 "nbformat": 4,
 "nbformat_minor": 5
}
