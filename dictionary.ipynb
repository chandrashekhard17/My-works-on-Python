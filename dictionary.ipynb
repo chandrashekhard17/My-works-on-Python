{
 "cells": [
  {
   "cell_type": "code",
   "execution_count": 1,
   "id": "c47f99db",
   "metadata": {},
   "outputs": [],
   "source": [
    "t={}"
   ]
  },
  {
   "cell_type": "code",
   "execution_count": 2,
   "id": "bd0178e8",
   "metadata": {},
   "outputs": [
    {
     "data": {
      "text/plain": [
       "dict"
      ]
     },
     "execution_count": 2,
     "metadata": {},
     "output_type": "execute_result"
    }
   ],
   "source": [
    "type(t)"
   ]
  },
  {
   "cell_type": "code",
   "execution_count": 3,
   "id": "0e942e35",
   "metadata": {},
   "outputs": [],
   "source": [
    "d={'name':'sudhanshu','email':'ss@gmail.com','number':3234322}"
   ]
  },
  {
   "cell_type": "code",
   "execution_count": 4,
   "id": "b83c91af",
   "metadata": {},
   "outputs": [
    {
     "data": {
      "text/plain": [
       "{'name': 'sudhanshu', 'email': 'ss@gmail.com', 'number': 3234322}"
      ]
     },
     "execution_count": 4,
     "metadata": {},
     "output_type": "execute_result"
    }
   ],
   "source": [
    "d"
   ]
  },
  {
   "cell_type": "code",
   "execution_count": 5,
   "id": "60f0b0f6",
   "metadata": {},
   "outputs": [],
   "source": [
    "d1={\"name\":\"sudh\",'name':\"sudhanshu\"}"
   ]
  },
  {
   "cell_type": "code",
   "execution_count": 6,
   "id": "c54c19a7",
   "metadata": {},
   "outputs": [
    {
     "data": {
      "text/plain": [
       "{'name': 'sudhanshu'}"
      ]
     },
     "execution_count": 6,
     "metadata": {},
     "output_type": "execute_result"
    }
   ],
   "source": [
    "d1"
   ]
  },
  {
   "cell_type": "code",
   "execution_count": 7,
   "id": "8b12431a",
   "metadata": {},
   "outputs": [],
   "source": [
    "d2={1234:'Data'}"
   ]
  },
  {
   "cell_type": "code",
   "execution_count": 8,
   "id": "f67f4d02",
   "metadata": {},
   "outputs": [
    {
     "data": {
      "text/plain": [
       "{1234: 'Data'}"
      ]
     },
     "execution_count": 8,
     "metadata": {},
     "output_type": "execute_result"
    }
   ],
   "source": [
    "d2"
   ]
  },
  {
   "cell_type": "code",
   "execution_count": 9,
   "id": "c4721c78",
   "metadata": {},
   "outputs": [],
   "source": [
    "d3={324.54:'abc'}"
   ]
  },
  {
   "cell_type": "code",
   "execution_count": 10,
   "id": "a612ca85",
   "metadata": {},
   "outputs": [
    {
     "data": {
      "text/plain": [
       "{324.54: 'abc'}"
      ]
     },
     "execution_count": 10,
     "metadata": {},
     "output_type": "execute_result"
    }
   ],
   "source": [
    "d3"
   ]
  },
  {
   "cell_type": "code",
   "execution_count": 11,
   "id": "051afe04",
   "metadata": {},
   "outputs": [],
   "source": [
    "d4={True:'cde'}"
   ]
  },
  {
   "cell_type": "code",
   "execution_count": 12,
   "id": "ac214b16",
   "metadata": {},
   "outputs": [
    {
     "data": {
      "text/plain": [
       "{True: 'cde'}"
      ]
     },
     "execution_count": 12,
     "metadata": {},
     "output_type": "execute_result"
    }
   ],
   "source": [
    "d4"
   ]
  },
  {
   "cell_type": "code",
   "execution_count": 13,
   "id": "3b6f9e86",
   "metadata": {},
   "outputs": [
    {
     "ename": "SyntaxError",
     "evalue": "incomplete input (1464675513.py, line 1)",
     "output_type": "error",
     "traceback": [
      "\u001b[1;36m  Cell \u001b[1;32mIn[13], line 1\u001b[1;36m\u001b[0m\n\u001b[1;33m    d5={# : 'chandra'}\u001b[0m\n\u001b[1;37m                      ^\u001b[0m\n\u001b[1;31mSyntaxError\u001b[0m\u001b[1;31m:\u001b[0m incomplete input\n"
     ]
    }
   ],
   "source": [
    "d5={# : 'chandra'}"
   ]
  },
  {
   "cell_type": "code",
   "execution_count": 14,
   "id": "e944d7e2",
   "metadata": {},
   "outputs": [
    {
     "ename": "SyntaxError",
     "evalue": "invalid syntax (3231024371.py, line 1)",
     "output_type": "error",
     "traceback": [
      "\u001b[1;36m  Cell \u001b[1;32mIn[14], line 1\u001b[1;36m\u001b[0m\n\u001b[1;33m    d6={@ : 'manu'}\u001b[0m\n\u001b[1;37m        ^\u001b[0m\n\u001b[1;31mSyntaxError\u001b[0m\u001b[1;31m:\u001b[0m invalid syntax\n"
     ]
    }
   ],
   "source": [
    "d6={@ : 'manu'}"
   ]
  },
  {
   "cell_type": "code",
   "execution_count": 15,
   "id": "d72f2696",
   "metadata": {},
   "outputs": [
    {
     "ename": "TypeError",
     "evalue": "unhashable type: 'list'",
     "output_type": "error",
     "traceback": [
      "\u001b[1;31m---------------------------------------------------------------------------\u001b[0m",
      "\u001b[1;31mTypeError\u001b[0m                                 Traceback (most recent call last)",
      "Cell \u001b[1;32mIn[15], line 1\u001b[0m\n\u001b[1;32m----> 1\u001b[0m d7\u001b[38;5;241m=\u001b[39m{[\u001b[38;5;241m1\u001b[39m,\u001b[38;5;241m2\u001b[39m,\u001b[38;5;241m3\u001b[39m,\u001b[38;5;241m4\u001b[39m]:\u001b[38;5;124m'\u001b[39m\u001b[38;5;124mmasters\u001b[39m\u001b[38;5;124m'\u001b[39m}\n",
      "\u001b[1;31mTypeError\u001b[0m: unhashable type: 'list'"
     ]
    }
   ],
   "source": [
    "d7={[1,2,3,4]:'masters'}"
   ]
  },
  {
   "cell_type": "code",
   "execution_count": 16,
   "id": "50b8080b",
   "metadata": {},
   "outputs": [],
   "source": [
    "d8={(1,2,3,4):'krish'}"
   ]
  },
  {
   "cell_type": "code",
   "execution_count": 17,
   "id": "94b73f43",
   "metadata": {},
   "outputs": [
    {
     "data": {
      "text/plain": [
       "{(1, 2, 3, 4): 'krish'}"
      ]
     },
     "execution_count": 17,
     "metadata": {},
     "output_type": "execute_result"
    }
   ],
   "source": [
    "d8"
   ]
  },
  {
   "cell_type": "code",
   "execution_count": 18,
   "id": "1cc5f114",
   "metadata": {},
   "outputs": [],
   "source": [
    "d8[0]=(5,6,7)"
   ]
  },
  {
   "cell_type": "code",
   "execution_count": 19,
   "id": "a3593524",
   "metadata": {},
   "outputs": [
    {
     "data": {
      "text/plain": [
       "{(1, 2, 3, 4): 'krish', 0: (5, 6, 7)}"
      ]
     },
     "execution_count": 19,
     "metadata": {},
     "output_type": "execute_result"
    }
   ],
   "source": [
    "d8"
   ]
  },
  {
   "cell_type": "code",
   "execution_count": 21,
   "id": "b29ec0a4",
   "metadata": {},
   "outputs": [
    {
     "data": {
      "text/plain": [
       "dict_keys([(1, 2, 3, 4), 0])"
      ]
     },
     "execution_count": 21,
     "metadata": {},
     "output_type": "execute_result"
    }
   ],
   "source": [
    "d8.keys()"
   ]
  },
  {
   "cell_type": "code",
   "execution_count": 23,
   "id": "f9a1fb5c",
   "metadata": {},
   "outputs": [
    {
     "ename": "TypeError",
     "evalue": "unhashable type: 'set'",
     "output_type": "error",
     "traceback": [
      "\u001b[1;31m---------------------------------------------------------------------------\u001b[0m",
      "\u001b[1;31mTypeError\u001b[0m                                 Traceback (most recent call last)",
      "Cell \u001b[1;32mIn[23], line 1\u001b[0m\n\u001b[1;32m----> 1\u001b[0m d9\u001b[38;5;241m=\u001b[39m{{\u001b[38;5;241m5\u001b[39m,\u001b[38;5;241m3\u001b[39m,\u001b[38;5;241m4\u001b[39m,\u001b[38;5;241m2\u001b[39m}:\u001b[38;5;124m'\u001b[39m\u001b[38;5;124msuperhuman\u001b[39m\u001b[38;5;124m'\u001b[39m}\n",
      "\u001b[1;31mTypeError\u001b[0m: unhashable type: 'set'"
     ]
    }
   ],
   "source": [
    "d9={{5,3,4,2}:'superhuman'}"
   ]
  },
  {
   "cell_type": "code",
   "execution_count": 25,
   "id": "6d269cd1",
   "metadata": {},
   "outputs": [
    {
     "ename": "TypeError",
     "evalue": "unhashable type: 'dict'",
     "output_type": "error",
     "traceback": [
      "\u001b[1;31m---------------------------------------------------------------------------\u001b[0m",
      "\u001b[1;31mTypeError\u001b[0m                                 Traceback (most recent call last)",
      "Cell \u001b[1;32mIn[25], line 1\u001b[0m\n\u001b[1;32m----> 1\u001b[0m d10\u001b[38;5;241m=\u001b[39m{{\u001b[38;5;124m'\u001b[39m\u001b[38;5;124mname\u001b[39m\u001b[38;5;124m'\u001b[39m:\u001b[38;5;124m'\u001b[39m\u001b[38;5;124msudh\u001b[39m\u001b[38;5;124m'\u001b[39m,\u001b[38;5;124m'\u001b[39m\u001b[38;5;124mmail\u001b[39m\u001b[38;5;124m'\u001b[39m:\u001b[38;5;124m'\u001b[39m\u001b[38;5;124mss@gmail.com\u001b[39m\u001b[38;5;124m'\u001b[39m}:\u001b[38;5;124m'\u001b[39m\u001b[38;5;124mchandrashekhar\u001b[39m\u001b[38;5;124m'\u001b[39m}\n",
      "\u001b[1;31mTypeError\u001b[0m: unhashable type: 'dict'"
     ]
    }
   ],
   "source": [
    "d10={{'name':'sudh','mail':'ss@gmail.com'}:'chandrashekhar'}"
   ]
  },
  {
   "cell_type": "code",
   "execution_count": 26,
   "id": "ebb6cbfe",
   "metadata": {},
   "outputs": [],
   "source": [
    "d11={'name':['krish','sudh','hitesh','anurag','chandra']}"
   ]
  },
  {
   "cell_type": "code",
   "execution_count": 27,
   "id": "d69463d8",
   "metadata": {},
   "outputs": [
    {
     "data": {
      "text/plain": [
       "{'name': ['krish', 'sudh', 'hitesh', 'anurag', 'chandra']}"
      ]
     },
     "execution_count": 27,
     "metadata": {},
     "output_type": "execute_result"
    }
   ],
   "source": [
    "d11"
   ]
  },
  {
   "cell_type": "code",
   "execution_count": 28,
   "id": "179d6dd1",
   "metadata": {},
   "outputs": [],
   "source": [
    "d12={'course_name':('data science','cyber security', 'web dev')}"
   ]
  },
  {
   "cell_type": "code",
   "execution_count": 29,
   "id": "e30fe39b",
   "metadata": {},
   "outputs": [
    {
     "data": {
      "text/plain": [
       "{'course_name': ('data science', 'cyber security', 'web dev')}"
      ]
     },
     "execution_count": 29,
     "metadata": {},
     "output_type": "execute_result"
    }
   ],
   "source": [
    "d12"
   ]
  },
  {
   "cell_type": "code",
   "execution_count": 31,
   "id": "3508fe67",
   "metadata": {},
   "outputs": [],
   "source": [
    "d13={'friends':{'subhash','chandra','bose'}}"
   ]
  },
  {
   "cell_type": "code",
   "execution_count": 32,
   "id": "bb8139f5",
   "metadata": {},
   "outputs": [
    {
     "data": {
      "text/plain": [
       "{'friends': {'bose', 'chandra', 'subhash'}}"
      ]
     },
     "execution_count": 32,
     "metadata": {},
     "output_type": "execute_result"
    }
   ],
   "source": [
    "d13"
   ]
  },
  {
   "cell_type": "code",
   "execution_count": 33,
   "id": "2c8f21b2",
   "metadata": {},
   "outputs": [],
   "source": [
    "d14={'college':{'bahubali':'bce','rajeev':'rv'}}"
   ]
  },
  {
   "cell_type": "code",
   "execution_count": 34,
   "id": "922b1482",
   "metadata": {},
   "outputs": [
    {
     "data": {
      "text/plain": [
       "{'college': {'bahubali': 'bce', 'rajeev': 'rv'}}"
      ]
     },
     "execution_count": 34,
     "metadata": {},
     "output_type": "execute_result"
    }
   ],
   "source": [
    "d14"
   ]
  },
  {
   "cell_type": "code",
   "execution_count": 35,
   "id": "c41b8a00",
   "metadata": {},
   "outputs": [
    {
     "data": {
      "text/plain": [
       "['college']"
      ]
     },
     "execution_count": 35,
     "metadata": {},
     "output_type": "execute_result"
    }
   ],
   "source": [
    "list(d14)"
   ]
  },
  {
   "cell_type": "code",
   "execution_count": 37,
   "id": "8802d1a2",
   "metadata": {},
   "outputs": [
    {
     "data": {
      "text/plain": [
       "[('college', {'bahubali': 'bce', 'rajeev': 'rv'})]"
      ]
     },
     "execution_count": 37,
     "metadata": {},
     "output_type": "execute_result"
    }
   ],
   "source": [
    "list(d14.items())"
   ]
  },
  {
   "cell_type": "code",
   "execution_count": 39,
   "id": "41dae5c0",
   "metadata": {},
   "outputs": [
    {
     "data": {
      "text/plain": [
       "[('course_name', ('data science', 'cyber security', 'web dev'))]"
      ]
     },
     "execution_count": 39,
     "metadata": {},
     "output_type": "execute_result"
    }
   ],
   "source": [
    "list(d12.items())"
   ]
  },
  {
   "cell_type": "code",
   "execution_count": 40,
   "id": "a2ad324c",
   "metadata": {},
   "outputs": [
    {
     "data": {
      "text/plain": [
       "('college',)"
      ]
     },
     "execution_count": 40,
     "metadata": {},
     "output_type": "execute_result"
    }
   ],
   "source": [
    "tuple(d14)"
   ]
  },
  {
   "cell_type": "code",
   "execution_count": 41,
   "id": "de847b1c",
   "metadata": {},
   "outputs": [
    {
     "data": {
      "text/plain": [
       "(('college', {'bahubali': 'bce', 'rajeev': 'rv'}),)"
      ]
     },
     "execution_count": 41,
     "metadata": {},
     "output_type": "execute_result"
    }
   ],
   "source": [
    "tuple(d14.items())"
   ]
  },
  {
   "cell_type": "code",
   "execution_count": 42,
   "id": "47811b09",
   "metadata": {},
   "outputs": [],
   "source": [
    "d15={'batch_name':{'Data science','web dev','java','DSA'},'start_date':{28,10,11},'mentors':{'krish','sudhanshu','navin','hyder','hitesh'}}"
   ]
  },
  {
   "cell_type": "code",
   "execution_count": 43,
   "id": "4557029e",
   "metadata": {},
   "outputs": [
    {
     "data": {
      "text/plain": [
       "{'batch_name': {'DSA', 'Data science', 'java', 'web dev'},\n",
       " 'start_date': {10, 11, 28},\n",
       " 'mentors': {'hitesh', 'hyder', 'krish', 'navin', 'sudhanshu'}}"
      ]
     },
     "execution_count": 43,
     "metadata": {},
     "output_type": "execute_result"
    }
   ],
   "source": [
    "d15"
   ]
  },
  {
   "cell_type": "code",
   "execution_count": 44,
   "id": "93594aa9",
   "metadata": {},
   "outputs": [],
   "source": [
    "d15['name']='bhagath'"
   ]
  },
  {
   "cell_type": "code",
   "execution_count": 45,
   "id": "fabead54",
   "metadata": {},
   "outputs": [
    {
     "data": {
      "text/plain": [
       "{'batch_name': {'DSA', 'Data science', 'java', 'web dev'},\n",
       " 'start_date': {10, 11, 28},\n",
       " 'mentors': {'hitesh', 'hyder', 'krish', 'navin', 'sudhanshu'},\n",
       " 'name': 'bhagath'}"
      ]
     },
     "execution_count": 45,
     "metadata": {},
     "output_type": "execute_result"
    }
   ],
   "source": [
    "d15"
   ]
  },
  {
   "cell_type": "code",
   "execution_count": 48,
   "id": "76b49eba",
   "metadata": {},
   "outputs": [],
   "source": [
    "d15['timing']=(8,8,8)"
   ]
  },
  {
   "cell_type": "code",
   "execution_count": 49,
   "id": "064c2d0f",
   "metadata": {},
   "outputs": [
    {
     "data": {
      "text/plain": [
       "{'batch_name': {'DSA', 'Data science', 'java', 'web dev'},\n",
       " 'start_date': {10, 11, 28},\n",
       " 'mentors': {'hitesh', 'hyder', 'krish', 'navin', 'sudhanshu'},\n",
       " 'name': 'bhagath',\n",
       " 'timing': (8, 8, 8)}"
      ]
     },
     "execution_count": 49,
     "metadata": {},
     "output_type": "execute_result"
    }
   ],
   "source": [
    "d15"
   ]
  },
  {
   "cell_type": "code",
   "execution_count": 50,
   "id": "7a71a4be",
   "metadata": {},
   "outputs": [],
   "source": [
    "d15['timing']=[8,8,8]"
   ]
  },
  {
   "cell_type": "code",
   "execution_count": 51,
   "id": "d8da74f2",
   "metadata": {},
   "outputs": [
    {
     "data": {
      "text/plain": [
       "{'batch_name': {'DSA', 'Data science', 'java', 'web dev'},\n",
       " 'start_date': {10, 11, 28},\n",
       " 'mentors': {'hitesh', 'hyder', 'krish', 'navin', 'sudhanshu'},\n",
       " 'name': 'bhagath',\n",
       " 'timing': [8, 8, 8]}"
      ]
     },
     "execution_count": 51,
     "metadata": {},
     "output_type": "execute_result"
    }
   ],
   "source": [
    "d15"
   ]
  },
  {
   "cell_type": "code",
   "execution_count": 53,
   "id": "20719028",
   "metadata": {},
   "outputs": [],
   "source": [
    "d15['timing']={8,8,8}"
   ]
  },
  {
   "cell_type": "code",
   "execution_count": 54,
   "id": "0e4f509f",
   "metadata": {},
   "outputs": [
    {
     "data": {
      "text/plain": [
       "{'batch_name': {'DSA', 'Data science', 'java', 'web dev'},\n",
       " 'start_date': {10, 11, 28},\n",
       " 'mentors': {'hitesh', 'hyder', 'krish', 'navin', 'sudhanshu'},\n",
       " 'name': 'bhagath',\n",
       " 'timing': {8}}"
      ]
     },
     "execution_count": 54,
     "metadata": {},
     "output_type": "execute_result"
    }
   ],
   "source": [
    "d15"
   ]
  },
  {
   "cell_type": "code",
   "execution_count": 57,
   "id": "d3380cb6",
   "metadata": {},
   "outputs": [],
   "source": [
    "d16={'batch_name':['Data science','web dev','java','DSA'],'start_date':{28,10,11},'mentors':('krish','sudhanshu','navin','hyder','hitesh')}"
   ]
  },
  {
   "cell_type": "code",
   "execution_count": 58,
   "id": "4ab1b827",
   "metadata": {},
   "outputs": [
    {
     "data": {
      "text/plain": [
       "{'batch_name': ['Data science', 'web dev', 'java', 'DSA'],\n",
       " 'start_date': {10, 11, 28},\n",
       " 'mentors': ('krish', 'sudhanshu', 'navin', 'hyder', 'hitesh')}"
      ]
     },
     "execution_count": 58,
     "metadata": {},
     "output_type": "execute_result"
    }
   ],
   "source": [
    "d16"
   ]
  },
  {
   "cell_type": "code",
   "execution_count": 60,
   "id": "28e29db6",
   "metadata": {},
   "outputs": [
    {
     "data": {
      "text/plain": [
       "str"
      ]
     },
     "execution_count": 60,
     "metadata": {},
     "output_type": "execute_result"
    }
   ],
   "source": [
    "type('mentors')"
   ]
  },
  {
   "cell_type": "code",
   "execution_count": 61,
   "id": "4ca4a6d5",
   "metadata": {},
   "outputs": [
    {
     "data": {
      "text/plain": [
       "tuple"
      ]
     },
     "execution_count": 61,
     "metadata": {},
     "output_type": "execute_result"
    }
   ],
   "source": [
    "type(d16['mentors'])"
   ]
  },
  {
   "cell_type": "code",
   "execution_count": 63,
   "id": "06a54032",
   "metadata": {},
   "outputs": [
    {
     "data": {
      "text/plain": [
       "list"
      ]
     },
     "execution_count": 63,
     "metadata": {},
     "output_type": "execute_result"
    }
   ],
   "source": [
    "type(d16['batch_name'])"
   ]
  },
  {
   "cell_type": "code",
   "execution_count": 64,
   "id": "776ad3c0",
   "metadata": {},
   "outputs": [
    {
     "data": {
      "text/plain": [
       "set"
      ]
     },
     "execution_count": 64,
     "metadata": {},
     "output_type": "execute_result"
    }
   ],
   "source": [
    "type(d16['start_date'])"
   ]
  },
  {
   "cell_type": "code",
   "execution_count": 65,
   "id": "f8872367",
   "metadata": {},
   "outputs": [],
   "source": [
    "d16['name']='bhagath'"
   ]
  },
  {
   "cell_type": "code",
   "execution_count": 66,
   "id": "206565f2",
   "metadata": {},
   "outputs": [
    {
     "data": {
      "text/plain": [
       "{'batch_name': ['Data science', 'web dev', 'java', 'DSA'],\n",
       " 'start_date': {10, 11, 28},\n",
       " 'mentors': ('krish', 'sudhanshu', 'navin', 'hyder', 'hitesh'),\n",
       " 'name': 'bhagath'}"
      ]
     },
     "execution_count": 66,
     "metadata": {},
     "output_type": "execute_result"
    }
   ],
   "source": [
    "d16"
   ]
  },
  {
   "cell_type": "code",
   "execution_count": 67,
   "id": "51cdf731",
   "metadata": {},
   "outputs": [
    {
     "data": {
      "text/plain": [
       "['Data science', 'web dev', 'java', 'DSA']"
      ]
     },
     "execution_count": 67,
     "metadata": {},
     "output_type": "execute_result"
    }
   ],
   "source": [
    "d16['batch_name']"
   ]
  },
  {
   "cell_type": "code",
   "execution_count": 68,
   "id": "caca7d48",
   "metadata": {},
   "outputs": [
    {
     "data": {
      "text/plain": [
       "('krish', 'sudhanshu', 'navin', 'hyder', 'hitesh')"
      ]
     },
     "execution_count": 68,
     "metadata": {},
     "output_type": "execute_result"
    }
   ],
   "source": [
    "d16['mentors']"
   ]
  },
  {
   "cell_type": "code",
   "execution_count": 69,
   "id": "8bf5a7f9",
   "metadata": {},
   "outputs": [
    {
     "ename": "KeyError",
     "evalue": "'keys'",
     "output_type": "error",
     "traceback": [
      "\u001b[1;31m---------------------------------------------------------------------------\u001b[0m",
      "\u001b[1;31mKeyError\u001b[0m                                  Traceback (most recent call last)",
      "Cell \u001b[1;32mIn[69], line 1\u001b[0m\n\u001b[1;32m----> 1\u001b[0m \u001b[43md16\u001b[49m\u001b[43m[\u001b[49m\u001b[38;5;124;43m'\u001b[39;49m\u001b[38;5;124;43mkeys\u001b[39;49m\u001b[38;5;124;43m'\u001b[39;49m\u001b[43m]\u001b[49m\n",
      "\u001b[1;31mKeyError\u001b[0m: 'keys'"
     ]
    }
   ],
   "source": [
    "d16['keys']"
   ]
  },
  {
   "cell_type": "code",
   "execution_count": 72,
   "id": "3f3b6838",
   "metadata": {},
   "outputs": [
    {
     "data": {
      "text/plain": [
       "'BHAGATH'"
      ]
     },
     "execution_count": 72,
     "metadata": {},
     "output_type": "execute_result"
    }
   ],
   "source": [
    "d16['name'].upper()"
   ]
  },
  {
   "cell_type": "code",
   "execution_count": 73,
   "id": "6a1b7a6e",
   "metadata": {},
   "outputs": [
    {
     "ename": "AttributeError",
     "evalue": "'tuple' object has no attribute 'upper'",
     "output_type": "error",
     "traceback": [
      "\u001b[1;31m---------------------------------------------------------------------------\u001b[0m",
      "\u001b[1;31mAttributeError\u001b[0m                            Traceback (most recent call last)",
      "Cell \u001b[1;32mIn[73], line 1\u001b[0m\n\u001b[1;32m----> 1\u001b[0m \u001b[43md16\u001b[49m\u001b[43m[\u001b[49m\u001b[38;5;124;43m'\u001b[39;49m\u001b[38;5;124;43mmentors\u001b[39;49m\u001b[38;5;124;43m'\u001b[39;49m\u001b[43m]\u001b[49m\u001b[38;5;241;43m.\u001b[39;49m\u001b[43mupper\u001b[49m()\n",
      "\u001b[1;31mAttributeError\u001b[0m: 'tuple' object has no attribute 'upper'"
     ]
    }
   ],
   "source": [
    "d16['mentors'].upper()"
   ]
  },
  {
   "cell_type": "code",
   "execution_count": 74,
   "id": "bb0554d4",
   "metadata": {},
   "outputs": [
    {
     "ename": "AttributeError",
     "evalue": "'list' object has no attribute 'upper'",
     "output_type": "error",
     "traceback": [
      "\u001b[1;31m---------------------------------------------------------------------------\u001b[0m",
      "\u001b[1;31mAttributeError\u001b[0m                            Traceback (most recent call last)",
      "Cell \u001b[1;32mIn[74], line 1\u001b[0m\n\u001b[1;32m----> 1\u001b[0m \u001b[43md16\u001b[49m\u001b[43m[\u001b[49m\u001b[38;5;124;43m'\u001b[39;49m\u001b[38;5;124;43mbatch_name\u001b[39;49m\u001b[38;5;124;43m'\u001b[39;49m\u001b[43m]\u001b[49m\u001b[38;5;241;43m.\u001b[39;49m\u001b[43mupper\u001b[49m()\n",
      "\u001b[1;31mAttributeError\u001b[0m: 'list' object has no attribute 'upper'"
     ]
    }
   ],
   "source": [
    "d16['batch_name'].upper()"
   ]
  },
  {
   "cell_type": "code",
   "execution_count": 75,
   "id": "c820cdb0",
   "metadata": {},
   "outputs": [
    {
     "data": {
      "text/plain": [
       "{'batch_name': ['Data science', 'web dev', 'java', 'DSA'],\n",
       " 'start_date': {10, 11, 28},\n",
       " 'mentors': ('krish', 'sudhanshu', 'navin', 'hyder', 'hitesh'),\n",
       " 'name': 'bhagath'}"
      ]
     },
     "execution_count": 75,
     "metadata": {},
     "output_type": "execute_result"
    }
   ],
   "source": [
    "d16"
   ]
  },
  {
   "cell_type": "code",
   "execution_count": 77,
   "id": "40bd8879",
   "metadata": {},
   "outputs": [
    {
     "data": {
      "text/plain": [
       "[('batch_name', ['Data science', 'web dev', 'java', 'DSA']),\n",
       " ('start_date', {10, 11, 28}),\n",
       " ('mentors', ('krish', 'sudhanshu', 'navin', 'hyder', 'hitesh')),\n",
       " ('name', 'bhagath')]"
      ]
     },
     "execution_count": 77,
     "metadata": {},
     "output_type": "execute_result"
    }
   ],
   "source": [
    "list(d16.items())"
   ]
  },
  {
   "cell_type": "code",
   "execution_count": 79,
   "id": "447396d6",
   "metadata": {},
   "outputs": [
    {
     "data": {
      "text/plain": [
       "['Data science', 'web dev', 'java', 'DSA']"
      ]
     },
     "execution_count": 79,
     "metadata": {},
     "output_type": "execute_result"
    }
   ],
   "source": [
    "d16['batch_name']"
   ]
  },
  {
   "cell_type": "code",
   "execution_count": 80,
   "id": "79990598",
   "metadata": {},
   "outputs": [],
   "source": [
    "d17={'key':{'name':'krish','class':'DSM'}}"
   ]
  },
  {
   "cell_type": "code",
   "execution_count": 81,
   "id": "2b917904",
   "metadata": {},
   "outputs": [
    {
     "data": {
      "text/plain": [
       "'krish'"
      ]
     },
     "execution_count": 81,
     "metadata": {},
     "output_type": "execute_result"
    }
   ],
   "source": [
    "d17['key']['name']"
   ]
  },
  {
   "cell_type": "code",
   "execution_count": 82,
   "id": "7603e79c",
   "metadata": {},
   "outputs": [
    {
     "ename": "TypeError",
     "evalue": "unhashable type: 'slice'",
     "output_type": "error",
     "traceback": [
      "\u001b[1;31m---------------------------------------------------------------------------\u001b[0m",
      "\u001b[1;31mTypeError\u001b[0m                                 Traceback (most recent call last)",
      "Cell \u001b[1;32mIn[82], line 1\u001b[0m\n\u001b[1;32m----> 1\u001b[0m \u001b[43md17\u001b[49m\u001b[43m[\u001b[49m\u001b[38;5;124;43m'\u001b[39;49m\u001b[38;5;124;43mkey\u001b[39;49m\u001b[38;5;124;43m'\u001b[39;49m\u001b[43m]\u001b[49m\u001b[43m[\u001b[49m\u001b[38;5;124;43m'\u001b[39;49m\u001b[38;5;124;43mname\u001b[39;49m\u001b[38;5;124;43m'\u001b[39;49m\u001b[43m:\u001b[49m\u001b[43m]\u001b[49m\n",
      "\u001b[1;31mTypeError\u001b[0m: unhashable type: 'slice'"
     ]
    }
   ],
   "source": [
    "d17['key']['name':]"
   ]
  },
  {
   "cell_type": "code",
   "execution_count": 83,
   "id": "ca9ccf31",
   "metadata": {},
   "outputs": [],
   "source": [
    "d17['key1']='abcd'"
   ]
  },
  {
   "cell_type": "code",
   "execution_count": 84,
   "id": "a0942599",
   "metadata": {},
   "outputs": [
    {
     "data": {
      "text/plain": [
       "{'key': {'name': 'krish', 'class': 'DSM'}, 'key1': 'abcd'}"
      ]
     },
     "execution_count": 84,
     "metadata": {},
     "output_type": "execute_result"
    }
   ],
   "source": [
    "d17"
   ]
  },
  {
   "cell_type": "code",
   "execution_count": 89,
   "id": "287a9992",
   "metadata": {},
   "outputs": [],
   "source": [
    "del d17['key1']"
   ]
  },
  {
   "cell_type": "code",
   "execution_count": 90,
   "id": "54705643",
   "metadata": {},
   "outputs": [
    {
     "data": {
      "text/plain": [
       "{'key': {'name': 'krish', 'class': 'DSM'}}"
      ]
     },
     "execution_count": 90,
     "metadata": {},
     "output_type": "execute_result"
    }
   ],
   "source": [
    "d17"
   ]
  },
  {
   "cell_type": "code",
   "execution_count": 91,
   "id": "c9c3fe89",
   "metadata": {},
   "outputs": [],
   "source": [
    "d17.clear()"
   ]
  },
  {
   "cell_type": "code",
   "execution_count": 92,
   "id": "0872029f",
   "metadata": {},
   "outputs": [
    {
     "data": {
      "text/plain": [
       "{}"
      ]
     },
     "execution_count": 92,
     "metadata": {},
     "output_type": "execute_result"
    }
   ],
   "source": [
    "d17"
   ]
  },
  {
   "cell_type": "code",
   "execution_count": 93,
   "id": "101047e7",
   "metadata": {},
   "outputs": [
    {
     "data": {
      "text/plain": [
       "{'batch_name': ['Data science', 'web dev', 'java', 'DSA'],\n",
       " 'start_date': {10, 11, 28},\n",
       " 'mentors': ('krish', 'sudhanshu', 'navin', 'hyder', 'hitesh'),\n",
       " 'name': 'bhagath'}"
      ]
     },
     "execution_count": 93,
     "metadata": {},
     "output_type": "execute_result"
    }
   ],
   "source": [
    "d16"
   ]
  },
  {
   "cell_type": "code",
   "execution_count": 94,
   "id": "35256288",
   "metadata": {},
   "outputs": [
    {
     "data": {
      "text/plain": [
       "4"
      ]
     },
     "execution_count": 94,
     "metadata": {},
     "output_type": "execute_result"
    }
   ],
   "source": [
    "len(d16)"
   ]
  },
  {
   "cell_type": "code",
   "execution_count": 95,
   "id": "64c77efd",
   "metadata": {},
   "outputs": [],
   "source": [
    "d16['timing']=(8,8,8)"
   ]
  },
  {
   "cell_type": "code",
   "execution_count": 96,
   "id": "e330e3a8",
   "metadata": {},
   "outputs": [],
   "source": [
    "d16['doubt_clear']='via mail'"
   ]
  },
  {
   "cell_type": "code",
   "execution_count": 97,
   "id": "0f69a15f",
   "metadata": {},
   "outputs": [
    {
     "data": {
      "text/plain": [
       "{'batch_name': ['Data science', 'web dev', 'java', 'DSA'],\n",
       " 'start_date': {10, 11, 28},\n",
       " 'mentors': ('krish', 'sudhanshu', 'navin', 'hyder', 'hitesh'),\n",
       " 'name': 'bhagath',\n",
       " 'timing': (8, 8, 8),\n",
       " 'doubt_clear': 'via mail'}"
      ]
     },
     "execution_count": 97,
     "metadata": {},
     "output_type": "execute_result"
    }
   ],
   "source": [
    "d16"
   ]
  },
  {
   "cell_type": "code",
   "execution_count": 98,
   "id": "e925b57d",
   "metadata": {},
   "outputs": [
    {
     "data": {
      "text/plain": [
       "dict_keys(['batch_name', 'start_date', 'mentors', 'name', 'timing', 'doubt_clear'])"
      ]
     },
     "execution_count": 98,
     "metadata": {},
     "output_type": "execute_result"
    }
   ],
   "source": [
    "d16.keys()"
   ]
  },
  {
   "cell_type": "code",
   "execution_count": 100,
   "id": "be15d150",
   "metadata": {},
   "outputs": [
    {
     "data": {
      "text/plain": [
       "dict_values([['Data science', 'web dev', 'java', 'DSA'], {10, 11, 28}, ('krish', 'sudhanshu', 'navin', 'hyder', 'hitesh'), 'bhagath', (8, 8, 8), 'via mail'])"
      ]
     },
     "execution_count": 100,
     "metadata": {},
     "output_type": "execute_result"
    }
   ],
   "source": [
    "d16.values()"
   ]
  },
  {
   "cell_type": "code",
   "execution_count": 101,
   "id": "93f4b1d0",
   "metadata": {},
   "outputs": [
    {
     "data": {
      "text/plain": [
       "dict_items([('batch_name', ['Data science', 'web dev', 'java', 'DSA']), ('start_date', {10, 11, 28}), ('mentors', ('krish', 'sudhanshu', 'navin', 'hyder', 'hitesh')), ('name', 'bhagath'), ('timing', (8, 8, 8)), ('doubt_clear', 'via mail')])"
      ]
     },
     "execution_count": 101,
     "metadata": {},
     "output_type": "execute_result"
    }
   ],
   "source": [
    "d16.items()"
   ]
  },
  {
   "cell_type": "code",
   "execution_count": 102,
   "id": "679c0142",
   "metadata": {},
   "outputs": [],
   "source": [
    "d17=d16.copy()"
   ]
  },
  {
   "cell_type": "code",
   "execution_count": 103,
   "id": "446ccb4b",
   "metadata": {},
   "outputs": [
    {
     "data": {
      "text/plain": [
       "{'batch_name': ['Data science', 'web dev', 'java', 'DSA'],\n",
       " 'start_date': {10, 11, 28},\n",
       " 'mentors': ('krish', 'sudhanshu', 'navin', 'hyder', 'hitesh'),\n",
       " 'name': 'bhagath',\n",
       " 'timing': (8, 8, 8),\n",
       " 'doubt_clear': 'via mail'}"
      ]
     },
     "execution_count": 103,
     "metadata": {},
     "output_type": "execute_result"
    }
   ],
   "source": [
    "d17"
   ]
  },
  {
   "cell_type": "code",
   "execution_count": 104,
   "id": "17927c34",
   "metadata": {},
   "outputs": [],
   "source": [
    "del d16['name']"
   ]
  },
  {
   "cell_type": "code",
   "execution_count": 105,
   "id": "2aeba216",
   "metadata": {},
   "outputs": [
    {
     "data": {
      "text/plain": [
       "{'batch_name': ['Data science', 'web dev', 'java', 'DSA'],\n",
       " 'start_date': {10, 11, 28},\n",
       " 'mentors': ('krish', 'sudhanshu', 'navin', 'hyder', 'hitesh'),\n",
       " 'timing': (8, 8, 8),\n",
       " 'doubt_clear': 'via mail'}"
      ]
     },
     "execution_count": 105,
     "metadata": {},
     "output_type": "execute_result"
    }
   ],
   "source": [
    "d16"
   ]
  },
  {
   "cell_type": "code",
   "execution_count": 106,
   "id": "b3a92f6d",
   "metadata": {},
   "outputs": [
    {
     "data": {
      "text/plain": [
       "{'batch_name': ['Data science', 'web dev', 'java', 'DSA'],\n",
       " 'start_date': {10, 11, 28},\n",
       " 'mentors': ('krish', 'sudhanshu', 'navin', 'hyder', 'hitesh'),\n",
       " 'name': 'bhagath',\n",
       " 'timing': (8, 8, 8),\n",
       " 'doubt_clear': 'via mail'}"
      ]
     },
     "execution_count": 106,
     "metadata": {},
     "output_type": "execute_result"
    }
   ],
   "source": [
    "d17"
   ]
  },
  {
   "cell_type": "code",
   "execution_count": 107,
   "id": "2978218a",
   "metadata": {},
   "outputs": [],
   "source": [
    "d18=d17"
   ]
  },
  {
   "cell_type": "code",
   "execution_count": 108,
   "id": "c1756c8e",
   "metadata": {},
   "outputs": [
    {
     "data": {
      "text/plain": [
       "{'batch_name': ['Data science', 'web dev', 'java', 'DSA'],\n",
       " 'start_date': {10, 11, 28},\n",
       " 'mentors': ('krish', 'sudhanshu', 'navin', 'hyder', 'hitesh'),\n",
       " 'name': 'bhagath',\n",
       " 'timing': (8, 8, 8),\n",
       " 'doubt_clear': 'via mail'}"
      ]
     },
     "execution_count": 108,
     "metadata": {},
     "output_type": "execute_result"
    }
   ],
   "source": [
    "d18"
   ]
  },
  {
   "cell_type": "code",
   "execution_count": 109,
   "id": "0e005f93",
   "metadata": {},
   "outputs": [],
   "source": [
    "del d17['name']"
   ]
  },
  {
   "cell_type": "code",
   "execution_count": 110,
   "id": "5e9e4fd2",
   "metadata": {},
   "outputs": [
    {
     "data": {
      "text/plain": [
       "{'batch_name': ['Data science', 'web dev', 'java', 'DSA'],\n",
       " 'start_date': {10, 11, 28},\n",
       " 'mentors': ('krish', 'sudhanshu', 'navin', 'hyder', 'hitesh'),\n",
       " 'timing': (8, 8, 8),\n",
       " 'doubt_clear': 'via mail'}"
      ]
     },
     "execution_count": 110,
     "metadata": {},
     "output_type": "execute_result"
    }
   ],
   "source": [
    "d17"
   ]
  },
  {
   "cell_type": "code",
   "execution_count": 111,
   "id": "f5a9b0f5",
   "metadata": {},
   "outputs": [
    {
     "data": {
      "text/plain": [
       "{'batch_name': ['Data science', 'web dev', 'java', 'DSA'],\n",
       " 'start_date': {10, 11, 28},\n",
       " 'mentors': ('krish', 'sudhanshu', 'navin', 'hyder', 'hitesh'),\n",
       " 'timing': (8, 8, 8),\n",
       " 'doubt_clear': 'via mail'}"
      ]
     },
     "execution_count": 111,
     "metadata": {},
     "output_type": "execute_result"
    }
   ],
   "source": [
    "d18"
   ]
  },
  {
   "cell_type": "code",
   "execution_count": 112,
   "id": "472db021",
   "metadata": {},
   "outputs": [
    {
     "data": {
      "text/plain": [
       "'via mail'"
      ]
     },
     "execution_count": 112,
     "metadata": {},
     "output_type": "execute_result"
    }
   ],
   "source": [
    "d18.pop('doubt_clear')"
   ]
  },
  {
   "cell_type": "code",
   "execution_count": 113,
   "id": "c454ecd6",
   "metadata": {},
   "outputs": [
    {
     "data": {
      "text/plain": [
       "{'batch_name': ['Data science', 'web dev', 'java', 'DSA'],\n",
       " 'start_date': {10, 11, 28},\n",
       " 'mentors': ('krish', 'sudhanshu', 'navin', 'hyder', 'hitesh'),\n",
       " 'timing': (8, 8, 8)}"
      ]
     },
     "execution_count": 113,
     "metadata": {},
     "output_type": "execute_result"
    }
   ],
   "source": [
    "d18"
   ]
  },
  {
   "cell_type": "code",
   "execution_count": 115,
   "id": "1a16a9ee",
   "metadata": {},
   "outputs": [
    {
     "data": {
      "text/plain": [
       "('timing', (8, 8, 8))"
      ]
     },
     "execution_count": 115,
     "metadata": {},
     "output_type": "execute_result"
    }
   ],
   "source": [
    "d18.popitem()"
   ]
  },
  {
   "cell_type": "code",
   "execution_count": 116,
   "id": "89fdddb4",
   "metadata": {},
   "outputs": [
    {
     "data": {
      "text/plain": [
       "{'batch_name': ['Data science', 'web dev', 'java', 'DSA'],\n",
       " 'start_date': {10, 11, 28},\n",
       " 'mentors': ('krish', 'sudhanshu', 'navin', 'hyder', 'hitesh')}"
      ]
     },
     "execution_count": 116,
     "metadata": {},
     "output_type": "execute_result"
    }
   ],
   "source": [
    "d18"
   ]
  },
  {
   "cell_type": "code",
   "execution_count": 117,
   "id": "1aec748c",
   "metadata": {},
   "outputs": [],
   "source": [
    "d18.clear()"
   ]
  },
  {
   "cell_type": "code",
   "execution_count": 118,
   "id": "efcb9dca",
   "metadata": {},
   "outputs": [
    {
     "data": {
      "text/plain": [
       "{}"
      ]
     },
     "execution_count": 118,
     "metadata": {},
     "output_type": "execute_result"
    }
   ],
   "source": [
    "d18"
   ]
  },
  {
   "cell_type": "code",
   "execution_count": 120,
   "id": "99f57a85",
   "metadata": {},
   "outputs": [
    {
     "data": {
      "text/plain": [
       "{2: ('a', 'b', 'c'),\n",
       " 3: ('a', 'b', 'c'),\n",
       " 4: ('a', 'b', 'c'),\n",
       " 6: ('a', 'b', 'c')}"
      ]
     },
     "execution_count": 120,
     "metadata": {},
     "output_type": "execute_result"
    }
   ],
   "source": [
    "d.fromkeys((2,3,4,2,6),('a','b','c'))"
   ]
  },
  {
   "cell_type": "code",
   "execution_count": 122,
   "id": "7debf1d6",
   "metadata": {},
   "outputs": [],
   "source": [
    "d18=d.fromkeys((1,2,3,4),('a','b','c'))"
   ]
  },
  {
   "cell_type": "code",
   "execution_count": 123,
   "id": "acda22cd",
   "metadata": {},
   "outputs": [
    {
     "data": {
      "text/plain": [
       "{1: ('a', 'b', 'c'),\n",
       " 2: ('a', 'b', 'c'),\n",
       " 3: ('a', 'b', 'c'),\n",
       " 4: ('a', 'b', 'c')}"
      ]
     },
     "execution_count": 123,
     "metadata": {},
     "output_type": "execute_result"
    }
   ],
   "source": [
    "d18"
   ]
  },
  {
   "cell_type": "code",
   "execution_count": 125,
   "id": "93edc58a",
   "metadata": {},
   "outputs": [
    {
     "data": {
      "text/plain": [
       "[(1, ('a', 'b', 'c')),\n",
       " (2, ('a', 'b', 'c')),\n",
       " (3, ('a', 'b', 'c')),\n",
       " (4, ('a', 'b', 'c'))]"
      ]
     },
     "execution_count": 125,
     "metadata": {},
     "output_type": "execute_result"
    }
   ],
   "source": [
    "list(d18.items())"
   ]
  },
  {
   "cell_type": "code",
   "execution_count": 127,
   "id": "7d5db5e0",
   "metadata": {},
   "outputs": [],
   "source": [
    "d19={'key1':'value1','key2':'value2'}\n",
    "d20={'key3':'value3','key4':'value4'}"
   ]
  },
  {
   "cell_type": "code",
   "execution_count": 128,
   "id": "c3e309a8",
   "metadata": {},
   "outputs": [
    {
     "data": {
      "text/plain": [
       "{'key1': 'value1', 'key2': 'value2'}"
      ]
     },
     "execution_count": 128,
     "metadata": {},
     "output_type": "execute_result"
    }
   ],
   "source": [
    "d19"
   ]
  },
  {
   "cell_type": "code",
   "execution_count": 129,
   "id": "2ff08e52",
   "metadata": {},
   "outputs": [],
   "source": [
    "d19.update(d20)"
   ]
  },
  {
   "cell_type": "code",
   "execution_count": 130,
   "id": "fa22c7b3",
   "metadata": {},
   "outputs": [
    {
     "data": {
      "text/plain": [
       "{'key1': 'value1', 'key2': 'value2', 'key3': 'value3', 'key4': 'value4'}"
      ]
     },
     "execution_count": 130,
     "metadata": {},
     "output_type": "execute_result"
    }
   ],
   "source": [
    "d19"
   ]
  },
  {
   "cell_type": "code",
   "execution_count": 131,
   "id": "28fc46e1",
   "metadata": {},
   "outputs": [
    {
     "data": {
      "text/plain": [
       "{'key3': 'value3', 'key4': 'value4'}"
      ]
     },
     "execution_count": 131,
     "metadata": {},
     "output_type": "execute_result"
    }
   ],
   "source": [
    "d20"
   ]
  },
  {
   "cell_type": "code",
   "execution_count": 132,
   "id": "9a7147f3",
   "metadata": {},
   "outputs": [],
   "source": [
    "d20.update(d19)"
   ]
  },
  {
   "cell_type": "code",
   "execution_count": 133,
   "id": "a7837bc2",
   "metadata": {},
   "outputs": [
    {
     "data": {
      "text/plain": [
       "{'key3': 'value3', 'key4': 'value4', 'key1': 'value1', 'key2': 'value2'}"
      ]
     },
     "execution_count": 133,
     "metadata": {},
     "output_type": "execute_result"
    }
   ],
   "source": [
    "d20"
   ]
  },
  {
   "cell_type": "code",
   "execution_count": 134,
   "id": "b8284e0d",
   "metadata": {},
   "outputs": [
    {
     "data": {
      "text/plain": [
       "'value3'"
      ]
     },
     "execution_count": 134,
     "metadata": {},
     "output_type": "execute_result"
    }
   ],
   "source": [
    "d19.get('key3')"
   ]
  },
  {
   "cell_type": "code",
   "execution_count": 135,
   "id": "95c94bd2",
   "metadata": {},
   "outputs": [],
   "source": [
    "d19.get('key5')"
   ]
  },
  {
   "cell_type": "code",
   "execution_count": 136,
   "id": "97d8a20f",
   "metadata": {},
   "outputs": [
    {
     "data": {
      "text/plain": [
       "{'key1': 'value1', 'key2': 'value2', 'key3': 'value3', 'key4': 'value4'}"
      ]
     },
     "execution_count": 136,
     "metadata": {},
     "output_type": "execute_result"
    }
   ],
   "source": [
    "d19"
   ]
  },
  {
   "cell_type": "markdown",
   "id": "4a347955",
   "metadata": {},
   "source": [
    "Dictionary comprehension"
   ]
  },
  {
   "cell_type": "code",
   "execution_count": 139,
   "id": "4ec8b4cc",
   "metadata": {},
   "outputs": [
    {
     "data": {
      "text/plain": [
       "{1: 1, 2: 4, 3: 9, 4: 16, 5: 25, 6: 36, 7: 49, 8: 64, 9: 81, 10: 100}"
      ]
     },
     "execution_count": 139,
     "metadata": {},
     "output_type": "execute_result"
    }
   ],
   "source": [
    "{i:i**2 for i in range(1,11)}"
   ]
  },
  {
   "cell_type": "code",
   "execution_count": 141,
   "id": "e74f983f",
   "metadata": {},
   "outputs": [
    {
     "data": {
      "text/plain": [
       "[1, 2, 3, 4, 5, 6, 7, 8, 9, 10]"
      ]
     },
     "execution_count": 141,
     "metadata": {},
     "output_type": "execute_result"
    }
   ],
   "source": [
    "list(range(1,11))"
   ]
  },
  {
   "cell_type": "code",
   "execution_count": 142,
   "id": "bcf2e890",
   "metadata": {},
   "outputs": [
    {
     "data": {
      "text/plain": [
       "{1: 11, 2: 12, 3: 13, 4: 14, 5: 15, 6: 16, 7: 17, 8: 18, 9: 19, 10: 20}"
      ]
     },
     "execution_count": 142,
     "metadata": {},
     "output_type": "execute_result"
    }
   ],
   "source": [
    "{i:i+10 for i in range(1,11)}"
   ]
  },
  {
   "cell_type": "code",
   "execution_count": 146,
   "id": "24bd3f55",
   "metadata": {},
   "outputs": [],
   "source": [
    "import math\n",
    "d20={i:math.log10(i) for i in range(1,11)}"
   ]
  },
  {
   "cell_type": "code",
   "execution_count": 147,
   "id": "0e9673c2",
   "metadata": {},
   "outputs": [
    {
     "data": {
      "text/plain": [
       "{1: <function math.log2(x, /)>,\n",
       " 2: <function math.log2(x, /)>,\n",
       " 3: <function math.log2(x, /)>,\n",
       " 4: <function math.log2(x, /)>,\n",
       " 5: <function math.log2(x, /)>,\n",
       " 6: <function math.log2(x, /)>,\n",
       " 7: <function math.log2(x, /)>,\n",
       " 8: <function math.log2(x, /)>,\n",
       " 9: <function math.log2(x, /)>,\n",
       " 10: <function math.log2(x, /)>}"
      ]
     },
     "execution_count": 147,
     "metadata": {},
     "output_type": "execute_result"
    }
   ],
   "source": [
    "import math\n",
    "{i:math.log2 for i in range(1,11)}"
   ]
  },
  {
   "cell_type": "code",
   "execution_count": 148,
   "id": "efb5276f",
   "metadata": {},
   "outputs": [
    {
     "data": {
      "text/plain": [
       "{1: 0.0,\n",
       " 2: 0.3010299956639812,\n",
       " 3: 0.47712125471966244,\n",
       " 4: 0.6020599913279624,\n",
       " 5: 0.6989700043360189,\n",
       " 6: 0.7781512503836436,\n",
       " 7: 0.8450980400142568,\n",
       " 8: 0.9030899869919435,\n",
       " 9: 0.9542425094393249,\n",
       " 10: 1.0}"
      ]
     },
     "execution_count": 148,
     "metadata": {},
     "output_type": "execute_result"
    }
   ],
   "source": [
    "d20"
   ]
  },
  {
   "cell_type": "code",
   "execution_count": 149,
   "id": "8459e0da",
   "metadata": {},
   "outputs": [
    {
     "data": {
      "text/plain": [
       "True"
      ]
     },
     "execution_count": 149,
     "metadata": {},
     "output_type": "execute_result"
    }
   ],
   "source": [
    "'mentors' in d16"
   ]
  },
  {
   "cell_type": "code",
   "execution_count": 150,
   "id": "f954f1c1",
   "metadata": {},
   "outputs": [
    {
     "data": {
      "text/plain": [
       "False"
      ]
     },
     "execution_count": 150,
     "metadata": {},
     "output_type": "execute_result"
    }
   ],
   "source": [
    "'course' in d16"
   ]
  },
  {
   "cell_type": "code",
   "execution_count": 156,
   "id": "450013cb",
   "metadata": {},
   "outputs": [
    {
     "name": "stdout",
     "output_type": "stream",
     "text": [
      "0.3010299956639812\n",
      "0.6020599913279624\n",
      "0.7781512503836436\n",
      "0.9030899869919435\n",
      "1.0\n"
     ]
    }
   ],
   "source": [
    "for i in d20.keys():\n",
    "    if i%2 == 0:\n",
    "        print(d20[i])"
   ]
  },
  {
   "cell_type": "code",
   "execution_count": null,
   "id": "3e9e23a5",
   "metadata": {},
   "outputs": [],
   "source": []
  }
 ],
 "metadata": {
  "kernelspec": {
   "display_name": "Python 3 (ipykernel)",
   "language": "python",
   "name": "python3"
  },
  "language_info": {
   "codemirror_mode": {
    "name": "ipython",
    "version": 3
   },
   "file_extension": ".py",
   "mimetype": "text/x-python",
   "name": "python",
   "nbconvert_exporter": "python",
   "pygments_lexer": "ipython3",
   "version": "3.10.9"
  }
 },
 "nbformat": 4,
 "nbformat_minor": 5
}
