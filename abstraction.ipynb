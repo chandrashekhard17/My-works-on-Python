{
 "cells": [
  {
   "cell_type": "code",
   "execution_count": 1,
   "id": "5ccc49c3",
   "metadata": {},
   "outputs": [],
   "source": [
    "class pwskills:\n",
    "    def student_details(self):\n",
    "        pass\n",
    "    \n",
    "    def student_assaignments(self):\n",
    "        pass\n",
    "    \n",
    "    def student_marks(self):\n",
    "        pass\n",
    "    \n"
   ]
  },
  {
   "cell_type": "code",
   "execution_count": 2,
   "id": "eb9de5c4",
   "metadata": {},
   "outputs": [],
   "source": [
    "class data_science(pwskills):\n",
    "    def student_details(self):\n",
    "        return 'It will give data science masters student details'\n",
    "    \n",
    "    def student_assaignments(self):\n",
    "        return 'Assaign the assaignments of each students in data science batch'"
   ]
  },
  {
   "cell_type": "code",
   "execution_count": 3,
   "id": "f2eaaf77",
   "metadata": {},
   "outputs": [],
   "source": [
    "class web_dev(pwskills):\n",
    "    def student_details(self):\n",
    "        return 'it will give datails of web dev students '\n",
    "    \n",
    "    def student_marks(self):\n",
    "        return 'it will give marks of the students in web devolapment'\n",
    "    "
   ]
  },
  {
   "cell_type": "code",
   "execution_count": 4,
   "id": "b7ca86bc",
   "metadata": {},
   "outputs": [],
   "source": [
    "ds=data_science()"
   ]
  },
  {
   "cell_type": "code",
   "execution_count": 5,
   "id": "9ddb262c",
   "metadata": {},
   "outputs": [
    {
     "data": {
      "text/plain": [
       "'Assaign the assaignments of each students in data science batch'"
      ]
     },
     "execution_count": 5,
     "metadata": {},
     "output_type": "execute_result"
    }
   ],
   "source": [
    "ds.student_assaignments()"
   ]
  },
  {
   "cell_type": "code",
   "execution_count": 6,
   "id": "1a812978",
   "metadata": {},
   "outputs": [
    {
     "data": {
      "text/plain": [
       "'It will give data science masters student details'"
      ]
     },
     "execution_count": 6,
     "metadata": {},
     "output_type": "execute_result"
    }
   ],
   "source": [
    "ds.student_details()"
   ]
  },
  {
   "cell_type": "code",
   "execution_count": 7,
   "id": "5b666b9a",
   "metadata": {},
   "outputs": [],
   "source": [
    "wb=web_dev()\n"
   ]
  },
  {
   "cell_type": "code",
   "execution_count": 8,
   "id": "077faff2",
   "metadata": {},
   "outputs": [],
   "source": [
    "wb.student_assaignments()"
   ]
  },
  {
   "cell_type": "code",
   "execution_count": 9,
   "id": "5348e8dc",
   "metadata": {},
   "outputs": [
    {
     "data": {
      "text/plain": [
       "'it will give datails of web dev students '"
      ]
     },
     "execution_count": 9,
     "metadata": {},
     "output_type": "execute_result"
    }
   ],
   "source": [
    "wb.student_details()"
   ]
  },
  {
   "cell_type": "code",
   "execution_count": 10,
   "id": "56866390",
   "metadata": {},
   "outputs": [
    {
     "data": {
      "text/plain": [
       "'it will give marks of the students in web devolapment'"
      ]
     },
     "execution_count": 10,
     "metadata": {},
     "output_type": "execute_result"
    }
   ],
   "source": [
    "wb.student_marks()"
   ]
  },
  {
   "cell_type": "code",
   "execution_count": 11,
   "id": "0ce7f429",
   "metadata": {},
   "outputs": [],
   "source": [
    "#abstraction\n",
    "import abc\n",
    "class pwskills:\n",
    "    @abc.abstractmethod\n",
    "    def student_details(self):\n",
    "        pass\n",
    "    \n",
    "    @abc.abstractmethod\n",
    "    def student_assaignments(self):\n",
    "        pass\n",
    "    \n",
    "    \n",
    "    @abc.abstractmethod\n",
    "    def student_marks(self):\n",
    "        pass\n",
    "    \n"
   ]
  },
  {
   "cell_type": "code",
   "execution_count": 13,
   "id": "e4f26c0b",
   "metadata": {},
   "outputs": [],
   "source": [
    "class data_science(pwskills):\n",
    "    def student_details(self):\n",
    "        return 'It will give data science masters student details'\n",
    "    \n",
    "    def student_assaignments(self):\n",
    "        return 'Assaign the assaignments of each students i'"
   ]
  },
  {
   "cell_type": "code",
   "execution_count": 14,
   "id": "9b5517b9",
   "metadata": {},
   "outputs": [],
   "source": [
    "class web_dev(pwskills):\n",
    "    def student_details(self):\n",
    "        return 'it will give datails of web dev students '\n",
    "    \n",
    "    def student_marks(self):\n",
    "        return 'it will give marks of the students in web devolapment'\n",
    "    "
   ]
  },
  {
   "cell_type": "code",
   "execution_count": 16,
   "id": "1df9b722",
   "metadata": {},
   "outputs": [],
   "source": [
    "ds=data_science()"
   ]
  },
  {
   "cell_type": "code",
   "execution_count": 17,
   "id": "f0a6436b",
   "metadata": {},
   "outputs": [
    {
     "data": {
      "text/plain": [
       "'Assaign the assaignments of each students i'"
      ]
     },
     "execution_count": 17,
     "metadata": {},
     "output_type": "execute_result"
    }
   ],
   "source": [
    "ds.student_assaignments()"
   ]
  },
  {
   "cell_type": "code",
   "execution_count": 18,
   "id": "bb288696",
   "metadata": {},
   "outputs": [
    {
     "data": {
      "text/plain": [
       "'It will give data science masters student details'"
      ]
     },
     "execution_count": 18,
     "metadata": {},
     "output_type": "execute_result"
    }
   ],
   "source": [
    "ds.student_details()"
   ]
  },
  {
   "cell_type": "code",
   "execution_count": 19,
   "id": "2d66f7bf",
   "metadata": {},
   "outputs": [],
   "source": [
    "ds.student_marks()"
   ]
  },
  {
   "cell_type": "code",
   "execution_count": 20,
   "id": "f67e8217",
   "metadata": {},
   "outputs": [],
   "source": [
    "wb=web_dev()"
   ]
  },
  {
   "cell_type": "code",
   "execution_count": 21,
   "id": "d5fd6863",
   "metadata": {},
   "outputs": [],
   "source": [
    "wb.student_assaignments()"
   ]
  },
  {
   "cell_type": "code",
   "execution_count": 22,
   "id": "bed8ef2f",
   "metadata": {},
   "outputs": [
    {
     "data": {
      "text/plain": [
       "'it will give datails of web dev students '"
      ]
     },
     "execution_count": 22,
     "metadata": {},
     "output_type": "execute_result"
    }
   ],
   "source": [
    "wb.student_details()"
   ]
  },
  {
   "cell_type": "code",
   "execution_count": 23,
   "id": "7f83923f",
   "metadata": {},
   "outputs": [
    {
     "data": {
      "text/plain": [
       "'it will give marks of the students in web devolapment'"
      ]
     },
     "execution_count": 23,
     "metadata": {},
     "output_type": "execute_result"
    }
   ],
   "source": [
    "wb.student_marks()"
   ]
  },
  {
   "cell_type": "code",
   "execution_count": null,
   "id": "64c4ca96",
   "metadata": {},
   "outputs": [],
   "source": []
  }
 ],
 "metadata": {
  "kernelspec": {
   "display_name": "Python 3 (ipykernel)",
   "language": "python",
   "name": "python3"
  },
  "language_info": {
   "codemirror_mode": {
    "name": "ipython",
    "version": 3
   },
   "file_extension": ".py",
   "mimetype": "text/x-python",
   "name": "python",
   "nbconvert_exporter": "python",
   "pygments_lexer": "ipython3",
   "version": "3.10.9"
  }
 },
 "nbformat": 4,
 "nbformat_minor": 5
}
