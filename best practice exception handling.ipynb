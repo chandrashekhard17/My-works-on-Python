{
 "cells": [
  {
   "cell_type": "code",
   "execution_count": 1,
   "id": "11895d03",
   "metadata": {},
   "outputs": [
    {
     "name": "stdout",
     "output_type": "stream",
     "text": [
      "division by zero\n"
     ]
    }
   ],
   "source": [
    "#always try to specific exception\n",
    "try:\n",
    "    10/0\n",
    "except Exception as e:\n",
    "    print(e)"
   ]
  },
  {
   "cell_type": "code",
   "execution_count": 2,
   "id": "f256650d",
   "metadata": {},
   "outputs": [],
   "source": [
    "#using a exception is bad practice b.cos it's not their in their production grade code\n",
    "#so we can use understandable error"
   ]
  },
  {
   "cell_type": "code",
   "execution_count": 3,
   "id": "9ab7d49e",
   "metadata": {},
   "outputs": [
    {
     "name": "stdout",
     "output_type": "stream",
     "text": [
      "division by zero\n"
     ]
    }
   ],
   "source": [
    "try:\n",
    "    10/0\n",
    "except ZeroDivisionError as e:\n",
    "    print(e)"
   ]
  },
  {
   "cell_type": "code",
   "execution_count": 4,
   "id": "f1e19e2f",
   "metadata": {},
   "outputs": [],
   "source": [
    "#always try to use log function\n"
   ]
  },
  {
   "cell_type": "code",
   "execution_count": 5,
   "id": "7fe546b8",
   "metadata": {},
   "outputs": [],
   "source": [
    "import logging"
   ]
  },
  {
   "cell_type": "code",
   "execution_count": 6,
   "id": "49236c99",
   "metadata": {},
   "outputs": [],
   "source": [
    "logging.basicConfig(filename='test.log',level=logging.ERROR)"
   ]
  },
  {
   "cell_type": "code",
   "execution_count": 8,
   "id": "3c3e82a3",
   "metadata": {},
   "outputs": [],
   "source": [
    "try:\n",
    "    10/0\n",
    "except ZeroDivisionError as e:\n",
    "    logging.error(f'this is my error related to the zero divison error {e}')\n"
   ]
  },
  {
   "cell_type": "code",
   "execution_count": 12,
   "id": "2f9b6299",
   "metadata": {},
   "outputs": [],
   "source": [
    "#its seen o/p seen"
   ]
  },
  {
   "cell_type": "code",
   "execution_count": 18,
   "id": "967f16c9",
   "metadata": {},
   "outputs": [],
   "source": [
    "try:\n",
    "    10/0\n",
    "except ZeroDivisionError as e:\n",
    "    logging.error(f'this is my error related to the zero divison error {e}')\n",
    "finally:\n",
    "    with open('test.log','w') as f:\n",
    "        f.close()"
   ]
  },
  {
   "cell_type": "code",
   "execution_count": 19,
   "id": "6c87972a",
   "metadata": {},
   "outputs": [
    {
     "ename": "PermissionError",
     "evalue": "[WinError 32] The process cannot access the file because it is being used by another process: 'test.log'",
     "output_type": "error",
     "traceback": [
      "\u001b[1;31m---------------------------------------------------------------------------\u001b[0m",
      "\u001b[1;31mPermissionError\u001b[0m                           Traceback (most recent call last)",
      "Cell \u001b[1;32mIn[19], line 2\u001b[0m\n\u001b[0;32m      1\u001b[0m \u001b[38;5;28;01mimport\u001b[39;00m \u001b[38;5;21;01mos\u001b[39;00m\n\u001b[1;32m----> 2\u001b[0m \u001b[43mos\u001b[49m\u001b[38;5;241;43m.\u001b[39;49m\u001b[43mremove\u001b[49m\u001b[43m(\u001b[49m\u001b[38;5;124;43m'\u001b[39;49m\u001b[38;5;124;43mtest.log\u001b[39;49m\u001b[38;5;124;43m'\u001b[39;49m\u001b[43m)\u001b[49m\n",
      "\u001b[1;31mPermissionError\u001b[0m: [WinError 32] The process cannot access the file because it is being used by another process: 'test.log'"
     ]
    }
   ],
   "source": [
    "import os\n",
    "os.remove('test.log')"
   ]
  },
  {
   "cell_type": "code",
   "execution_count": 22,
   "id": "b29fdd13",
   "metadata": {},
   "outputs": [
    {
     "name": "stdout",
     "output_type": "stream",
     "text": [
      "this is an error related to the divison by zero division by zero\n"
     ]
    }
   ],
   "source": [
    "#always avoid to write multiple exception handling\n",
    "try:\n",
    "    10/0\n",
    "except AttributeError as e:\n",
    "    print(f'this is error related to the attribute {e}')\n",
    "except TypeError as e:\n",
    "    print(f'this is an error related to the type error{e}')\n",
    "except ZeroDivisionError as e:\n",
    "    print(f'this is an error related to the divison by zero {e}')"
   ]
  },
  {
   "cell_type": "code",
   "execution_count": 23,
   "id": "d160eccb",
   "metadata": {},
   "outputs": [
    {
     "name": "stdout",
     "output_type": "stream",
     "text": [
      "division by zero\n"
     ]
    }
   ],
   "source": [
    "#give a proper msg for the user convineint\n",
    "try:\n",
    "    10/0\n",
    "except ZeroDivisionError as e:\n",
    "    print(e)"
   ]
  },
  {
   "cell_type": "code",
   "execution_count": 24,
   "id": "00cb2c1b",
   "metadata": {},
   "outputs": [],
   "source": [
    "# the above one is the wrong practice which we have ever made"
   ]
  },
  {
   "cell_type": "code",
   "execution_count": 25,
   "id": "2873cb65",
   "metadata": {},
   "outputs": [],
   "source": [
    "#so we avoid to as much as possible"
   ]
  },
  {
   "cell_type": "code",
   "execution_count": 26,
   "id": "47bd7c2d",
   "metadata": {},
   "outputs": [
    {
     "name": "stdout",
     "output_type": "stream",
     "text": [
      "this is an error which gives to the divison by error division by zero\n"
     ]
    }
   ],
   "source": [
    "try:\n",
    "    10/0\n",
    "except ZeroDivisionError as e:\n",
    "    print(f'this is an error which gives to the divison by error { e}')"
   ]
  },
  {
   "cell_type": "code",
   "execution_count": 30,
   "id": "788d2b56",
   "metadata": {},
   "outputs": [],
   "source": [
    "#clean up all the resources\n",
    "try:\n",
    "    with open('test.log','w') as f:\n",
    "        f.write('hi this is chandrashekhar')\n",
    "except FileNotFoundError as e:\n",
    "    logging.error(f'this is an file not found error {e}')\n",
    "finally:\n",
    "    f.close()"
   ]
  },
  {
   "cell_type": "code",
   "execution_count": null,
   "id": "6fb06871",
   "metadata": {},
   "outputs": [],
   "source": []
  }
 ],
 "metadata": {
  "kernelspec": {
   "display_name": "Python 3 (ipykernel)",
   "language": "python",
   "name": "python3"
  },
  "language_info": {
   "codemirror_mode": {
    "name": "ipython",
    "version": 3
   },
   "file_extension": ".py",
   "mimetype": "text/x-python",
   "name": "python",
   "nbconvert_exporter": "python",
   "pygments_lexer": "ipython3",
   "version": "3.10.9"
  }
 },
 "nbformat": 4,
 "nbformat_minor": 5
}
