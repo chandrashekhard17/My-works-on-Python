{
 "cells": [
  {
   "cell_type": "code",
   "execution_count": 22,
   "id": "4055970f",
   "metadata": {},
   "outputs": [],
   "source": [
    "\n",
    "class class1:\n",
    "    def test_class1(self):\n",
    "        print('this is my class 1')"
   ]
  },
  {
   "cell_type": "code",
   "execution_count": 23,
   "id": "ad7f5b88",
   "metadata": {},
   "outputs": [],
   "source": [
    "class class2(class1):\n",
    "    pass\n"
   ]
  },
  {
   "cell_type": "code",
   "execution_count": 24,
   "id": "539314fa",
   "metadata": {},
   "outputs": [],
   "source": [
    "class1_obj=class1()\n"
   ]
  },
  {
   "cell_type": "code",
   "execution_count": 25,
   "id": "86016b69",
   "metadata": {},
   "outputs": [
    {
     "name": "stdout",
     "output_type": "stream",
     "text": [
      "this is my class 1\n"
     ]
    }
   ],
   "source": [
    "class1_obj.test_class1()"
   ]
  },
  {
   "cell_type": "markdown",
   "id": "33736a02",
   "metadata": {},
   "source": [
    "single level inheritence"
   ]
  },
  {
   "cell_type": "code",
   "execution_count": 26,
   "id": "544885a8",
   "metadata": {},
   "outputs": [],
   "source": [
    "class class1:\n",
    "    def test_class1(self) :\n",
    "        print(\"This is my test class function\")"
   ]
  },
  {
   "cell_type": "code",
   "execution_count": 27,
   "id": "f413fd0e",
   "metadata": {},
   "outputs": [],
   "source": [
    "class class2(class1):\n",
    "    pass\n",
    "    "
   ]
  },
  {
   "cell_type": "code",
   "execution_count": 28,
   "id": "8e6b2c04",
   "metadata": {},
   "outputs": [],
   "source": [
    "class2_obj=class2()"
   ]
  },
  {
   "cell_type": "code",
   "execution_count": 30,
   "id": "0b29e63f",
   "metadata": {},
   "outputs": [
    {
     "name": "stdout",
     "output_type": "stream",
     "text": [
      "This is my test class function\n"
     ]
    }
   ],
   "source": [
    "class2_obj.test_class1()"
   ]
  },
  {
   "cell_type": "code",
   "execution_count": 31,
   "id": "22ad3474",
   "metadata": {},
   "outputs": [],
   "source": [
    "#example 2"
   ]
  },
  {
   "cell_type": "code",
   "execution_count": 32,
   "id": "4f91af5e",
   "metadata": {},
   "outputs": [],
   "source": [
    "class parent:\n",
    "    def test_parent(self):\n",
    "        print('This is my parent class inherit properties to the child class')"
   ]
  },
  {
   "cell_type": "code",
   "execution_count": 34,
   "id": "77eed957",
   "metadata": {},
   "outputs": [],
   "source": [
    "class child(parent):\n",
    "    def test_child(self):\n",
    "        \n",
    "        print(\"hi is it available or not\")"
   ]
  },
  {
   "cell_type": "code",
   "execution_count": 35,
   "id": "9ae6d020",
   "metadata": {},
   "outputs": [],
   "source": [
    "obj_child=child()"
   ]
  },
  {
   "cell_type": "code",
   "execution_count": 36,
   "id": "40723644",
   "metadata": {},
   "outputs": [
    {
     "name": "stdout",
     "output_type": "stream",
     "text": [
      "hi is it available or not\n"
     ]
    }
   ],
   "source": [
    "obj_child.test_child()"
   ]
  },
  {
   "cell_type": "code",
   "execution_count": 37,
   "id": "86d99fd0",
   "metadata": {},
   "outputs": [
    {
     "name": "stdout",
     "output_type": "stream",
     "text": [
      "This is my parent class inherit properties to the child class\n"
     ]
    }
   ],
   "source": [
    "obj_child.test_parent()"
   ]
  },
  {
   "cell_type": "code",
   "execution_count": 38,
   "id": "6259f6d5",
   "metadata": {},
   "outputs": [],
   "source": [
    "#multilevel inheritence\n",
    "#example 1"
   ]
  },
  {
   "cell_type": "code",
   "execution_count": 45,
   "id": "6d6f5b7e",
   "metadata": {},
   "outputs": [],
   "source": [
    "class class1:\n",
    "    def test1_class1(self):\n",
    "        print('this is my test class1 function')"
   ]
  },
  {
   "cell_type": "code",
   "execution_count": 46,
   "id": "35eb5521",
   "metadata": {},
   "outputs": [],
   "source": [
    "class class2(class1):\n",
    "    def test1_class2(self):\n",
    "        print('this is my test class2 function')"
   ]
  },
  {
   "cell_type": "code",
   "execution_count": null,
   "id": "933d7e00",
   "metadata": {},
   "outputs": [],
   "source": []
  },
  {
   "cell_type": "code",
   "execution_count": 47,
   "id": "82233c39",
   "metadata": {},
   "outputs": [],
   "source": [
    "class class3(class2):\n",
    "    def test1_class3(self):\n",
    "        print('this is my test class3 function')"
   ]
  },
  {
   "cell_type": "code",
   "execution_count": 48,
   "id": "e9f95a9c",
   "metadata": {},
   "outputs": [],
   "source": [
    "obj_class3=class3()"
   ]
  },
  {
   "cell_type": "code",
   "execution_count": 49,
   "id": "896bf9d9",
   "metadata": {},
   "outputs": [
    {
     "name": "stdout",
     "output_type": "stream",
     "text": [
      "this is my test class1 function\n"
     ]
    }
   ],
   "source": [
    "obj_class3.test1_class1()"
   ]
  },
  {
   "cell_type": "code",
   "execution_count": 50,
   "id": "989e241b",
   "metadata": {},
   "outputs": [
    {
     "name": "stdout",
     "output_type": "stream",
     "text": [
      "this is my test class2 function\n"
     ]
    }
   ],
   "source": [
    "obj_class3.test1_class2()"
   ]
  },
  {
   "cell_type": "code",
   "execution_count": 51,
   "id": "d3c61c78",
   "metadata": {},
   "outputs": [
    {
     "name": "stdout",
     "output_type": "stream",
     "text": [
      "this is my test class3 function\n"
     ]
    }
   ],
   "source": [
    "obj_class3.test1_class3()"
   ]
  },
  {
   "cell_type": "code",
   "execution_count": 52,
   "id": "150bd6a6",
   "metadata": {},
   "outputs": [],
   "source": [
    "obj_class1=class1()"
   ]
  },
  {
   "cell_type": "code",
   "execution_count": 54,
   "id": "fccff52b",
   "metadata": {},
   "outputs": [
    {
     "name": "stdout",
     "output_type": "stream",
     "text": [
      "this is my test class1 function\n"
     ]
    }
   ],
   "source": [
    "obj_class1.test1_class1()"
   ]
  },
  {
   "cell_type": "code",
   "execution_count": 55,
   "id": "fd8895eb",
   "metadata": {},
   "outputs": [
    {
     "name": "stdout",
     "output_type": "stream",
     "text": [
      "this is my test class1 function\n"
     ]
    }
   ],
   "source": [
    "obj_class2=class2()\n",
    "obj_class2.test1_class1()"
   ]
  },
  {
   "cell_type": "code",
   "execution_count": 56,
   "id": "7dc7f0d6",
   "metadata": {},
   "outputs": [
    {
     "name": "stdout",
     "output_type": "stream",
     "text": [
      "this is my test class2 function\n"
     ]
    }
   ],
   "source": [
    "obj_class2.test1_class2()"
   ]
  },
  {
   "cell_type": "code",
   "execution_count": 57,
   "id": "8c25d055",
   "metadata": {},
   "outputs": [],
   "source": [
    "#example 2"
   ]
  },
  {
   "cell_type": "code",
   "execution_count": 58,
   "id": "07bd4013",
   "metadata": {},
   "outputs": [],
   "source": [
    "class car_maker:\n",
    "    def audi(self):\n",
    "        print('This is one of the luxuries car in the city')"
   ]
  },
  {
   "cell_type": "code",
   "execution_count": 59,
   "id": "9ffe6d28",
   "metadata": {},
   "outputs": [],
   "source": [
    "class car_breaker(car_maker):\n",
    "    def bmw(self):\n",
    "        print(\"this is one of my dream car \")"
   ]
  },
  {
   "cell_type": "code",
   "execution_count": 60,
   "id": "144fb83f",
   "metadata": {},
   "outputs": [],
   "source": [
    "obj_car_breaker=car_breaker()"
   ]
  },
  {
   "cell_type": "code",
   "execution_count": 62,
   "id": "f21db5c7",
   "metadata": {},
   "outputs": [
    {
     "name": "stdout",
     "output_type": "stream",
     "text": [
      "this is one of my dream car \n"
     ]
    }
   ],
   "source": [
    "obj_car_breaker.bmw()"
   ]
  },
  {
   "cell_type": "code",
   "execution_count": 63,
   "id": "6f754def",
   "metadata": {},
   "outputs": [
    {
     "name": "stdout",
     "output_type": "stream",
     "text": [
      "This is one of the luxuries car in the city\n"
     ]
    }
   ],
   "source": [
    "obj_car_breaker.audi()"
   ]
  },
  {
   "cell_type": "code",
   "execution_count": 64,
   "id": "67c72a62",
   "metadata": {},
   "outputs": [],
   "source": []
  },
  {
   "cell_type": "code",
   "execution_count": 65,
   "id": "b5590235",
   "metadata": {},
   "outputs": [],
   "source": [
    "class car:\n",
    "    def bmw(self):\n",
    "        print(\"Dream car most looking good\")\n",
    "    \n",
    "    def audi(self):\n",
    "        print('Luxuries car in the city')\n",
    "        \n",
    "    def jaguar(self):\n",
    "        print('Car used by richest person')\n",
    "        "
   ]
  },
  {
   "cell_type": "code",
   "execution_count": 68,
   "id": "f48b2ab8",
   "metadata": {},
   "outputs": [],
   "source": [
    "class course(car):\n",
    "    def data_science(self):\n",
    "        print('THis is one of sexiest job in 21st century')\n",
    "    \n",
    "    def web_dev(self):\n",
    "        print('This is the web devolapment course')\n",
    "        \n",
    "    def cyber_security(self):\n",
    "        print('This is most scope of trending now')"
   ]
  },
  {
   "cell_type": "code",
   "execution_count": 69,
   "id": "f17d2117",
   "metadata": {},
   "outputs": [],
   "source": [
    "obj_course=course()"
   ]
  },
  {
   "cell_type": "code",
   "execution_count": 70,
   "id": "18b593ec",
   "metadata": {},
   "outputs": [
    {
     "name": "stdout",
     "output_type": "stream",
     "text": [
      "Luxuries car in the city\n"
     ]
    }
   ],
   "source": [
    "obj_course.audi()"
   ]
  },
  {
   "cell_type": "code",
   "execution_count": 71,
   "id": "733b485c",
   "metadata": {},
   "outputs": [
    {
     "name": "stdout",
     "output_type": "stream",
     "text": [
      "Dream car most looking good\n"
     ]
    }
   ],
   "source": [
    "obj_course.bmw()"
   ]
  },
  {
   "cell_type": "code",
   "execution_count": 74,
   "id": "00482aca",
   "metadata": {},
   "outputs": [
    {
     "name": "stdout",
     "output_type": "stream",
     "text": [
      "THis is one of sexiest job in 21st century\n",
      "None\n",
      "This is the web devolapment course\n",
      "None\n",
      "This is most scope of trending now\n",
      "None\n"
     ]
    }
   ],
   "source": [
    "for key,value in course.__dict__.items():\n",
    "    if callable(value):\n",
    "        print(value(obj_course))"
   ]
  },
  {
   "cell_type": "code",
   "execution_count": 75,
   "id": "a05a5af6",
   "metadata": {},
   "outputs": [],
   "source": [
    "#multiple inheritance"
   ]
  },
  {
   "cell_type": "code",
   "execution_count": 76,
   "id": "51e216b6",
   "metadata": {},
   "outputs": [],
   "source": [
    "class class1:\n",
    "    def test2_class1(self):\n",
    "        print('this is class1')"
   ]
  },
  {
   "cell_type": "code",
   "execution_count": 77,
   "id": "3bafc40a",
   "metadata": {},
   "outputs": [],
   "source": [
    "class class2:\n",
    "    def test2_class2(self):\n",
    "        print('this is class2')"
   ]
  },
  {
   "cell_type": "code",
   "execution_count": 78,
   "id": "a89b9a42",
   "metadata": {},
   "outputs": [],
   "source": [
    "class class3(class1,class2):\n",
    "    pass"
   ]
  },
  {
   "cell_type": "code",
   "execution_count": 79,
   "id": "0e6181d3",
   "metadata": {},
   "outputs": [],
   "source": [
    "obj3=class3()"
   ]
  },
  {
   "cell_type": "code",
   "execution_count": 80,
   "id": "bbb92e81",
   "metadata": {},
   "outputs": [
    {
     "name": "stdout",
     "output_type": "stream",
     "text": [
      "this is class1\n"
     ]
    }
   ],
   "source": [
    "obj3.test2_class1()"
   ]
  },
  {
   "cell_type": "code",
   "execution_count": 81,
   "id": "0469ca73",
   "metadata": {},
   "outputs": [
    {
     "name": "stdout",
     "output_type": "stream",
     "text": [
      "this is class2\n"
     ]
    }
   ],
   "source": [
    "obj3.test2_class2()"
   ]
  },
  {
   "cell_type": "code",
   "execution_count": null,
   "id": "050b1108",
   "metadata": {},
   "outputs": [],
   "source": []
  }
 ],
 "metadata": {
  "kernelspec": {
   "display_name": "Python 3 (ipykernel)",
   "language": "python",
   "name": "python3"
  },
  "language_info": {
   "codemirror_mode": {
    "name": "ipython",
    "version": 3
   },
   "file_extension": ".py",
   "mimetype": "text/x-python",
   "name": "python",
   "nbconvert_exporter": "python",
   "pygments_lexer": "ipython3",
   "version": "3.10.9"
  }
 },
 "nbformat": 4,
 "nbformat_minor": 5
}
