{
 "cells": [
  {
   "cell_type": "code",
   "execution_count": 2,
   "id": "d6ab6676",
   "metadata": {},
   "outputs": [],
   "source": [
    "def test(a,b,c,d,e):\n",
    "    pass"
   ]
  },
  {
   "cell_type": "code",
   "execution_count": 3,
   "id": "6636ef97",
   "metadata": {},
   "outputs": [
    {
     "ename": "TypeError",
     "evalue": "test() takes 5 positional arguments but 6 were given",
     "output_type": "error",
     "traceback": [
      "\u001b[1;31m---------------------------------------------------------------------------\u001b[0m",
      "\u001b[1;31mTypeError\u001b[0m                                 Traceback (most recent call last)",
      "Cell \u001b[1;32mIn[3], line 1\u001b[0m\n\u001b[1;32m----> 1\u001b[0m \u001b[43mtest\u001b[49m\u001b[43m(\u001b[49m\u001b[38;5;241;43m1\u001b[39;49m\u001b[43m,\u001b[49m\u001b[38;5;241;43m2\u001b[39;49m\u001b[43m,\u001b[49m\u001b[38;5;241;43m3\u001b[39;49m\u001b[43m,\u001b[49m\u001b[38;5;241;43m4\u001b[39;49m\u001b[43m,\u001b[49m\u001b[38;5;241;43m5\u001b[39;49m\u001b[43m,\u001b[49m\u001b[38;5;241;43m5\u001b[39;49m\u001b[43m)\u001b[49m\n",
      "\u001b[1;31mTypeError\u001b[0m: test() takes 5 positional arguments but 6 were given"
     ]
    }
   ],
   "source": [
    "test(1,2,3,4,5,5)"
   ]
  },
  {
   "cell_type": "code",
   "execution_count": 4,
   "id": "9217f882",
   "metadata": {},
   "outputs": [],
   "source": [
    "def test1(*args):\n",
    "    return args"
   ]
  },
  {
   "cell_type": "code",
   "execution_count": 5,
   "id": "54b6cd41",
   "metadata": {},
   "outputs": [
    {
     "data": {
      "text/plain": [
       "(3, 4, 5, 67, 4, 34, 8, 1)"
      ]
     },
     "execution_count": 5,
     "metadata": {},
     "output_type": "execute_result"
    }
   ],
   "source": [
    "test1(3,4,5,67,4,34,8,1)"
   ]
  },
  {
   "cell_type": "code",
   "execution_count": 6,
   "id": "eaebf89a",
   "metadata": {},
   "outputs": [],
   "source": [
    "def test2(*chandra):\n",
    "    return chandra"
   ]
  },
  {
   "cell_type": "code",
   "execution_count": 7,
   "id": "24a608b1",
   "metadata": {},
   "outputs": [
    {
     "data": {
      "text/plain": [
       "(3, 5, 7, 8, 2, 2.3, 5.3, 7.9)"
      ]
     },
     "execution_count": 7,
     "metadata": {},
     "output_type": "execute_result"
    }
   ],
   "source": [
    "test2(3,5,7,8,2,2.3,5.3,7.9)"
   ]
  },
  {
   "cell_type": "code",
   "execution_count": 12,
   "id": "ecdab8bb",
   "metadata": {},
   "outputs": [],
   "source": [
    "def test4(*args,**arg):\n",
    "    return args,arg"
   ]
  },
  {
   "cell_type": "code",
   "execution_count": 13,
   "id": "571d5f28",
   "metadata": {},
   "outputs": [
    {
     "data": {
      "text/plain": [
       "(('sudh', 'krish', [1, 2, 3, 4, 5], (1, 2, 3, 4, 5, 6)), {})"
      ]
     },
     "execution_count": 13,
     "metadata": {},
     "output_type": "execute_result"
    }
   ],
   "source": [
    "test4('sudh','krish',[1,2,3,4,5],(1,2,3,4,5,6))"
   ]
  },
  {
   "cell_type": "code",
   "execution_count": 14,
   "id": "308ad940",
   "metadata": {},
   "outputs": [
    {
     "data": {
      "text/plain": [
       "(('sudh', 'krish', [1, 2, 3, 4, 5], (1, 2, 3, 4, 5, 6)),\n",
       " {'a': 2, 'b': 8, 'c': 9})"
      ]
     },
     "execution_count": 14,
     "metadata": {},
     "output_type": "execute_result"
    }
   ],
   "source": [
    "test4('sudh','krish',[1,2,3,4,5],(1,2,3,4,5,6),a=2,b=8,c=9)"
   ]
  },
  {
   "cell_type": "code",
   "execution_count": 15,
   "id": "af243eb7",
   "metadata": {},
   "outputs": [],
   "source": [
    "def test5(*args,**arg):\n",
    "    n=[]\n",
    "    for i in args:\n",
    "        if type(i)==list:\n",
    "            n.append(i)\n",
    "    return n\n",
    "        "
   ]
  },
  {
   "cell_type": "code",
   "execution_count": 16,
   "id": "84e16d93",
   "metadata": {},
   "outputs": [
    {
     "data": {
      "text/plain": [
       "[[1, 2, 3, 4, 5]]"
      ]
     },
     "execution_count": 16,
     "metadata": {},
     "output_type": "execute_result"
    }
   ],
   "source": [
    "test5('sudh','krish',[1,2,3,4,5],(1,2,3,4,5,6),a=2,b=8,c=9)"
   ]
  },
  {
   "cell_type": "code",
   "execution_count": 19,
   "id": "70f1f405",
   "metadata": {},
   "outputs": [],
   "source": [
    "def test6(**mane):\n",
    "    n=[]\n",
    "    for i in mane:\n",
    "        if type(i)==dict:\n",
    "            n.append(i)\n",
    "    return n"
   ]
  },
  {
   "cell_type": "code",
   "execution_count": 20,
   "id": "61ed9375",
   "metadata": {},
   "outputs": [
    {
     "data": {
      "text/plain": [
       "[]"
      ]
     },
     "execution_count": 20,
     "metadata": {},
     "output_type": "execute_result"
    }
   ],
   "source": [
    "test6(a=[1,2,3,4,5],sup={'calender','venue'})"
   ]
  },
  {
   "cell_type": "code",
   "execution_count": 21,
   "id": "8d0b67e9",
   "metadata": {},
   "outputs": [],
   "source": [
    "def test6(**mane):\n",
    "    return mane"
   ]
  },
  {
   "cell_type": "code",
   "execution_count": 22,
   "id": "80383795",
   "metadata": {},
   "outputs": [
    {
     "data": {
      "text/plain": [
       "{'a': [1, 2, 3, 4, 5], 'sup': {'calender', 'venue'}}"
      ]
     },
     "execution_count": 22,
     "metadata": {},
     "output_type": "execute_result"
    }
   ],
   "source": [
    "test6(a=[1,2,3,4,5],sup={'calender','venue'})"
   ]
  },
  {
   "cell_type": "code",
   "execution_count": 24,
   "id": "04acb4e3",
   "metadata": {},
   "outputs": [],
   "source": [
    "def fun1(*args,a):\n",
    "    return args,a"
   ]
  },
  {
   "cell_type": "code",
   "execution_count": 26,
   "id": "0e0c733d",
   "metadata": {},
   "outputs": [
    {
     "data": {
      "text/plain": [
       "((2, 4, 2.2, 6, 7, 9, 7), 80)"
      ]
     },
     "execution_count": 26,
     "metadata": {},
     "output_type": "execute_result"
    }
   ],
   "source": [
    "fun1(2,4,2.2,6,7,9,7 , a=80)"
   ]
  },
  {
   "cell_type": "code",
   "execution_count": 27,
   "id": "1eaf3615",
   "metadata": {},
   "outputs": [],
   "source": [
    "def fun2(*args):\n",
    "    l=[]\n",
    "    for i in args:\n",
    "        if type(i)==list:\n",
    "            l.append(i)\n",
    "    return l"
   ]
  },
  {
   "cell_type": "code",
   "execution_count": 28,
   "id": "1a299b6b",
   "metadata": {},
   "outputs": [
    {
     "data": {
      "text/plain": [
       "[[1, 2, 3, 4, 4], [4, 5, 6], [6, 7, 8]]"
      ]
     },
     "execution_count": 28,
     "metadata": {},
     "output_type": "execute_result"
    }
   ],
   "source": [
    "fun2(1,2,3,[1,2,3,4,4] , (1,2,3,4,4) , \"sudh\" , [4,5,6] , [6,7,8])"
   ]
  },
  {
   "cell_type": "code",
   "execution_count": 29,
   "id": "a54bfa83",
   "metadata": {},
   "outputs": [],
   "source": [
    "def fun3(**kwargs):\n",
    "    return kwargs"
   ]
  },
  {
   "cell_type": "code",
   "execution_count": 31,
   "id": "a1ee2448",
   "metadata": {},
   "outputs": [
    {
     "data": {
      "text/plain": [
       "{}"
      ]
     },
     "execution_count": 31,
     "metadata": {},
     "output_type": "execute_result"
    }
   ],
   "source": [
    "fun3()"
   ]
  },
  {
   "cell_type": "code",
   "execution_count": 32,
   "id": "7ab64b4f",
   "metadata": {},
   "outputs": [
    {
     "data": {
      "text/plain": [
       "function"
      ]
     },
     "execution_count": 32,
     "metadata": {},
     "output_type": "execute_result"
    }
   ],
   "source": [
    "type(fun3)"
   ]
  },
  {
   "cell_type": "code",
   "execution_count": 33,
   "id": "002ac635",
   "metadata": {},
   "outputs": [
    {
     "data": {
      "text/plain": [
       "dict"
      ]
     },
     "execution_count": 33,
     "metadata": {},
     "output_type": "execute_result"
    }
   ],
   "source": [
    "type(fun3())"
   ]
  },
  {
   "cell_type": "code",
   "execution_count": 36,
   "id": "30ffbf93",
   "metadata": {},
   "outputs": [
    {
     "data": {
      "text/plain": [
       "{'a': 34,\n",
       " 'b': 54,\n",
       " 'c': 89,\n",
       " 'd': [1, 2, 3, 4],\n",
       " 'mentors': ('krish', 'sudh', 'hitesh', 'sigh', 'navin')}"
      ]
     },
     "execution_count": 36,
     "metadata": {},
     "output_type": "execute_result"
    }
   ],
   "source": [
    "fun3(a=34,b=54,c=89,d=[1,2,3,4],mentors=('krish','sudh','hitesh','sigh','navin'))"
   ]
  },
  {
   "cell_type": "code",
   "execution_count": 42,
   "id": "80148280",
   "metadata": {},
   "outputs": [],
   "source": [
    "def fun4(**kwargs):\n",
    "    for i in kwargs:\n",
    "        if type(kwargs[i])==list:\n",
    "            return i,':',kwargs[i]\n",
    "            \n",
    "    "
   ]
  },
  {
   "cell_type": "code",
   "execution_count": 43,
   "id": "e2f47b88",
   "metadata": {},
   "outputs": [
    {
     "data": {
      "text/plain": [
       "('c', ':', [1, 2, 3, 4])"
      ]
     },
     "execution_count": 43,
     "metadata": {},
     "output_type": "execute_result"
    }
   ],
   "source": [
    "fun4(a = 34 , b = 23 , c = [1,2,3,4] , d = (\"sudh\" , \"pwskills\"))"
   ]
  },
  {
   "cell_type": "code",
   "execution_count": 48,
   "id": "4c4a558a",
   "metadata": {},
   "outputs": [],
   "source": [
    "def fun5(*args,**kwargs):\n",
    "    return args, kwargs"
   ]
  },
  {
   "cell_type": "code",
   "execution_count": 49,
   "id": "ebde64af",
   "metadata": {},
   "outputs": [
    {
     "data": {
      "text/plain": [
       "((2, 4, 5, 6), {'a': 98, 'b': 56})"
      ]
     },
     "execution_count": 49,
     "metadata": {},
     "output_type": "execute_result"
    }
   ],
   "source": [
    "fun5(2,4,5,6,a=98,b=56)"
   ]
  },
  {
   "cell_type": "code",
   "execution_count": null,
   "id": "13a71e2c",
   "metadata": {},
   "outputs": [],
   "source": []
  }
 ],
 "metadata": {
  "kernelspec": {
   "display_name": "Python 3 (ipykernel)",
   "language": "python",
   "name": "python3"
  },
  "language_info": {
   "codemirror_mode": {
    "name": "ipython",
    "version": 3
   },
   "file_extension": ".py",
   "mimetype": "text/x-python",
   "name": "python",
   "nbconvert_exporter": "python",
   "pygments_lexer": "ipython3",
   "version": "3.10.9"
  }
 },
 "nbformat": 4,
 "nbformat_minor": 5
}
