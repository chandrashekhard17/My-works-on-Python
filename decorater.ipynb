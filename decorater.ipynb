{
 "cells": [
  {
   "cell_type": "code",
   "execution_count": 2,
   "id": "e59d46cb",
   "metadata": {},
   "outputs": [],
   "source": [
    "def test():\n",
    "    print('this is start of my function')\n",
    "    print(4+3)\n",
    "    print('this is end of my function')"
   ]
  },
  {
   "cell_type": "code",
   "execution_count": 3,
   "id": "ee448851",
   "metadata": {},
   "outputs": [
    {
     "name": "stdout",
     "output_type": "stream",
     "text": [
      "this is start of my function\n",
      "7\n",
      "this is end of my function\n"
     ]
    }
   ],
   "source": [
    "test()"
   ]
  },
  {
   "cell_type": "code",
   "execution_count": 5,
   "id": "cf353867",
   "metadata": {},
   "outputs": [],
   "source": [
    "#how can we implement it in all function\n",
    "#by using decorator\n",
    "\n"
   ]
  },
  {
   "cell_type": "code",
   "execution_count": 10,
   "id": "97b51abd",
   "metadata": {},
   "outputs": [],
   "source": [
    "def deco(func):\n",
    "    def my_inner_deco():\n",
    "        print('this is starting of my function')\n",
    "        func()\n",
    "        print('this is ending of my function')\n",
    "    return my_inner_deco\n",
    "        "
   ]
  },
  {
   "cell_type": "code",
   "execution_count": 11,
   "id": "eb0ae45d",
   "metadata": {},
   "outputs": [],
   "source": [
    "@deco\n",
    "def test():\n",
    "    print(4+3)"
   ]
  },
  {
   "cell_type": "code",
   "execution_count": 12,
   "id": "76b2a910",
   "metadata": {},
   "outputs": [
    {
     "name": "stdout",
     "output_type": "stream",
     "text": [
      "this is starting of my function\n",
      "7\n",
      "this is ending of my function\n"
     ]
    }
   ],
   "source": [
    "test()"
   ]
  },
  {
   "cell_type": "code",
   "execution_count": 26,
   "id": "e55b741c",
   "metadata": {},
   "outputs": [],
   "source": [
    "import time\n",
    "def time_count(func):\n",
    "    def time_complexity():\n",
    "        start=time.time()\n",
    "        func()\n",
    "        end=time.time()\n",
    "        print(end-start)\n",
    "    return time_complexity"
   ]
  },
  {
   "cell_type": "code",
   "execution_count": 27,
   "id": "01a41179",
   "metadata": {},
   "outputs": [],
   "source": [
    "@time_count\n",
    "def test1():\n",
    "    print(332+234)"
   ]
  },
  {
   "cell_type": "code",
   "execution_count": 28,
   "id": "b9e9de21",
   "metadata": {},
   "outputs": [
    {
     "name": "stdout",
     "output_type": "stream",
     "text": [
      "566\n",
      "0.0\n"
     ]
    }
   ],
   "source": [
    "test1()"
   ]
  },
  {
   "cell_type": "code",
   "execution_count": 33,
   "id": "663fc04a",
   "metadata": {},
   "outputs": [],
   "source": [
    "@time_count\n",
    "def test2():\n",
    "    for i in range(100000000):\n",
    "        pass"
   ]
  },
  {
   "cell_type": "code",
   "execution_count": 34,
   "id": "abb109fa",
   "metadata": {},
   "outputs": [
    {
     "name": "stdout",
     "output_type": "stream",
     "text": [
      "1.1785705089569092\n"
     ]
    }
   ],
   "source": [
    "test2()"
   ]
  },
  {
   "cell_type": "code",
   "execution_count": 37,
   "id": "d32e1c4d",
   "metadata": {},
   "outputs": [],
   "source": [
    "def house(home):\n",
    "    def inter_deco():\n",
    "        print('welcome to my house')\n",
    "        home()\n",
    "        print('thank you visit again')\n",
    "    return inter_deco"
   ]
  },
  {
   "cell_type": "code",
   "execution_count": 38,
   "id": "02d7b6c2",
   "metadata": {},
   "outputs": [],
   "source": [
    "@house\n",
    "def my_home():\n",
    "    cost=10000000\n",
    "    print('my house having beautiful furnitures')\n",
    "    print('There are some beautiful roooms ')\n",
    "    study_material='data science masters'\n",
    "    print('i will be preparing it my career through ',study_material)\n",
    "    print('for this  i have to spend the expanses of ',cost)\n",
    "    "
   ]
  },
  {
   "cell_type": "code",
   "execution_count": 39,
   "id": "3626d296",
   "metadata": {},
   "outputs": [
    {
     "name": "stdout",
     "output_type": "stream",
     "text": [
      "welcome to my house\n",
      "my house having beautiful furnitures\n",
      "There are some beautiful roooms \n",
      "i will be preparing it my career through  data science masters\n",
      "for this  i have to spend the expanses of  10000000\n",
      "thank you visit again\n"
     ]
    }
   ],
   "source": [
    "my_home()"
   ]
  },
  {
   "cell_type": "code",
   "execution_count": 44,
   "id": "94e0755b",
   "metadata": {},
   "outputs": [
    {
     "ename": "NameError",
     "evalue": "name 'func' is not defined",
     "output_type": "error",
     "traceback": [
      "\u001b[1;31m---------------------------------------------------------------------------\u001b[0m",
      "\u001b[1;31mNameError\u001b[0m                                 Traceback (most recent call last)",
      "Cell \u001b[1;32mIn[44], line 1\u001b[0m\n\u001b[1;32m----> 1\u001b[0m \u001b[38;5;28;01mclass\u001b[39;00m \u001b[38;5;21;01mcar\u001b[39;00m(\u001b[43mfunc\u001b[49m):\n\u001b[0;32m      2\u001b[0m     \u001b[38;5;28;01mdef\u001b[39;00m \u001b[38;5;21maudi\u001b[39m(\u001b[38;5;28mself\u001b[39m):\n\u001b[0;32m      3\u001b[0m         \u001b[38;5;28mprint\u001b[39m(\u001b[38;5;124m'\u001b[39m\u001b[38;5;124mone of the smartest car \u001b[39m\u001b[38;5;124m'\u001b[39m)\n",
      "\u001b[1;31mNameError\u001b[0m: name 'func' is not defined"
     ]
    }
   ],
   "source": [
    "\n",
    "class car(func):\n",
    "    def audi(self):\n",
    "        print('one of the smartest car ')\n",
    "        \n",
    "    func()\n",
    "    \n",
    "    def bmw(self):\n",
    "        print('this is one of my dream car')\n",
    "    "
   ]
  },
  {
   "cell_type": "code",
   "execution_count": 45,
   "id": "c3c876b3",
   "metadata": {},
   "outputs": [
    {
     "ename": "TypeError",
     "evalue": "house.<locals>.inter_deco() takes 0 positional arguments but 1 was given",
     "output_type": "error",
     "traceback": [
      "\u001b[1;31m---------------------------------------------------------------------------\u001b[0m",
      "\u001b[1;31mTypeError\u001b[0m                                 Traceback (most recent call last)",
      "Cell \u001b[1;32mIn[45], line 2\u001b[0m\n\u001b[0;32m      1\u001b[0m \u001b[38;5;129;43m@car\u001b[39;49m\n\u001b[1;32m----> 2\u001b[0m \u001b[38;5;28;43;01mdef\u001b[39;49;00m\u001b[43m \u001b[49m\u001b[38;5;21;43mtest10\u001b[39;49m\u001b[43m(\u001b[49m\u001b[43m)\u001b[49m\u001b[43m:\u001b[49m\n\u001b[0;32m      3\u001b[0m \u001b[43m    \u001b[49m\u001b[38;5;28;43mprint\u001b[39;49m\u001b[43m(\u001b[49m\u001b[38;5;124;43m'\u001b[39;49m\u001b[38;5;124;43mthis is my function\u001b[39;49m\u001b[38;5;124;43m'\u001b[39;49m\u001b[43m)\u001b[49m\n",
      "\u001b[1;31mTypeError\u001b[0m: house.<locals>.inter_deco() takes 0 positional arguments but 1 was given"
     ]
    }
   ],
   "source": [
    "@car\n",
    "def test10():\n",
    "    print('this is my function')\n"
   ]
  },
  {
   "cell_type": "code",
   "execution_count": 46,
   "id": "9cd1bdb7",
   "metadata": {},
   "outputs": [],
   "source": [
    "#by using constructor we can did this but not as above"
   ]
  },
  {
   "cell_type": "code",
   "execution_count": 47,
   "id": "fe86a117",
   "metadata": {},
   "outputs": [
    {
     "name": "stdout",
     "output_type": "stream",
     "text": [
      "Decorating with @car\n",
      "This is my function\n"
     ]
    }
   ],
   "source": [
    "class CarDecorator:\n",
    "    def __init__(self, func):\n",
    "        self.func = func\n",
    "\n",
    "    def __call__(self, *args, **kwargs):\n",
    "        print(\"Decorating with @car\")\n",
    "        result = self.func(*args, **kwargs)\n",
    "        return result\n",
    "\n",
    "@CarDecorator\n",
    "def test10():\n",
    "    print('This is my function')\n",
    "\n",
    "# Calling the decorated function\n",
    "test10()\n"
   ]
  },
  {
   "cell_type": "code",
   "execution_count": null,
   "id": "5d9f2e50",
   "metadata": {},
   "outputs": [],
   "source": []
  }
 ],
 "metadata": {
  "kernelspec": {
   "display_name": "Python 3 (ipykernel)",
   "language": "python",
   "name": "python3"
  },
  "language_info": {
   "codemirror_mode": {
    "name": "ipython",
    "version": 3
   },
   "file_extension": ".py",
   "mimetype": "text/x-python",
   "name": "python",
   "nbconvert_exporter": "python",
   "pygments_lexer": "ipython3",
   "version": "3.10.9"
  }
 },
 "nbformat": 4,
 "nbformat_minor": 5
}
