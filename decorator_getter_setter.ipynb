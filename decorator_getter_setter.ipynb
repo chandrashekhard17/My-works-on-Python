{
 "cells": [
  {
   "cell_type": "code",
   "execution_count": 1,
   "id": "f14b0380",
   "metadata": {},
   "outputs": [],
   "source": [
    "class pwskills:\n",
    "    def __init__(self,course_name,course_fees):\n",
    "        self.__course_fees=course_fees\n",
    "        self.course_name=course_name\n",
    "        \n"
   ]
  },
  {
   "cell_type": "code",
   "execution_count": 3,
   "id": "ba5cc300",
   "metadata": {},
   "outputs": [],
   "source": [
    "pw=pwskills('data science',3500)"
   ]
  },
  {
   "cell_type": "code",
   "execution_count": 4,
   "id": "ccc52d62",
   "metadata": {},
   "outputs": [
    {
     "data": {
      "text/plain": [
       "'data science'"
      ]
     },
     "execution_count": 4,
     "metadata": {},
     "output_type": "execute_result"
    }
   ],
   "source": [
    "pw.course_name"
   ]
  },
  {
   "cell_type": "code",
   "execution_count": 5,
   "id": "50dacaae",
   "metadata": {},
   "outputs": [
    {
     "data": {
      "text/plain": [
       "3500"
      ]
     },
     "execution_count": 5,
     "metadata": {},
     "output_type": "execute_result"
    }
   ],
   "source": [
    "pw._pwskills__course_fees"
   ]
  },
  {
   "cell_type": "code",
   "execution_count": 6,
   "id": "68d28291",
   "metadata": {},
   "outputs": [],
   "source": [
    "class pwskills:\n",
    "    def __init__(self,course_name,course_fees):\n",
    "        self.__course_fees=course_fees\n",
    "        self.course_name=course_name\n",
    "        \n",
    "    @property\n",
    "    def course_price_access(self):\n",
    "        return self.__course_fees"
   ]
  },
  {
   "cell_type": "code",
   "execution_count": 7,
   "id": "13ac2502",
   "metadata": {},
   "outputs": [],
   "source": [
    "pw1=pwskills('data science',3500)"
   ]
  },
  {
   "cell_type": "code",
   "execution_count": 8,
   "id": "a8daf52a",
   "metadata": {},
   "outputs": [
    {
     "data": {
      "text/plain": [
       "3500"
      ]
     },
     "execution_count": 8,
     "metadata": {},
     "output_type": "execute_result"
    }
   ],
   "source": [
    "pw1.course_price_access"
   ]
  },
  {
   "cell_type": "code",
   "execution_count": 16,
   "id": "d4e45284",
   "metadata": {},
   "outputs": [],
   "source": [
    "class pwskills:\n",
    "    def __init__(self,course_name,course_fees):\n",
    "        self.__course_fees=course_fees\n",
    "        self.course_name=course_name\n",
    "        \n",
    "    @property\n",
    "    def course_price_access(self):\n",
    "        return self.__course_fees\n",
    "    \n",
    "    @course_price_access.setter\n",
    "    def course_price_set(self,course_price):\n",
    "        if course_price <= 3500:\n",
    "            pass\n",
    "        else:\n",
    "            self.__course_fees=course_price"
   ]
  },
  {
   "cell_type": "code",
   "execution_count": 17,
   "id": "6ef32ec2",
   "metadata": {},
   "outputs": [],
   "source": [
    "pw2=pwskills('webdev',4500)"
   ]
  },
  {
   "cell_type": "code",
   "execution_count": 20,
   "id": "96ac1a5c",
   "metadata": {},
   "outputs": [],
   "source": [
    "pw2.course_price_set=2800"
   ]
  },
  {
   "cell_type": "code",
   "execution_count": 21,
   "id": "c71c2cdd",
   "metadata": {},
   "outputs": [
    {
     "data": {
      "text/plain": [
       "4500"
      ]
     },
     "execution_count": 21,
     "metadata": {},
     "output_type": "execute_result"
    }
   ],
   "source": [
    "pw2.course_price_access"
   ]
  },
  {
   "cell_type": "code",
   "execution_count": 22,
   "id": "a7865521",
   "metadata": {},
   "outputs": [],
   "source": [
    "pw2=pwskills('data science',3800)"
   ]
  },
  {
   "cell_type": "code",
   "execution_count": 23,
   "id": "a5fc78a7",
   "metadata": {},
   "outputs": [],
   "source": [
    "pw2.course_price_set=100000"
   ]
  },
  {
   "cell_type": "code",
   "execution_count": 26,
   "id": "388a0c95",
   "metadata": {},
   "outputs": [
    {
     "data": {
      "text/plain": [
       "100000"
      ]
     },
     "execution_count": 26,
     "metadata": {},
     "output_type": "execute_result"
    }
   ],
   "source": [
    "pw2.course_price_access"
   ]
  },
  {
   "cell_type": "code",
   "execution_count": 33,
   "id": "82ae3214",
   "metadata": {},
   "outputs": [],
   "source": [
    "class pwskills:\n",
    "    def __init__(self,course_name,course_fees):\n",
    "        self.__course_fees=course_fees\n",
    "        self.course_name=course_name\n",
    "        \n",
    "    @property\n",
    "    def course_price_access(self):\n",
    "        return self.__course_fees\n",
    "    \n",
    "    @course_price_access.setter\n",
    "    def course_price_set(self,course_price):\n",
    "        if course_price <= 3500:\n",
    "            pass\n",
    "        else:\n",
    "            self.__course_fees=course_price\n",
    "            \n",
    "    @course_price_access.deleter\n",
    "    def course_price_del(self):\n",
    "        del self.__course_fees"
   ]
  },
  {
   "cell_type": "code",
   "execution_count": 34,
   "id": "211a239f",
   "metadata": {},
   "outputs": [],
   "source": [
    "pw4=pwskills('data science',8000)"
   ]
  },
  {
   "cell_type": "code",
   "execution_count": 35,
   "id": "9253324d",
   "metadata": {},
   "outputs": [],
   "source": [
    "pw4.course_price_set=5000"
   ]
  },
  {
   "cell_type": "code",
   "execution_count": 36,
   "id": "8393902d",
   "metadata": {},
   "outputs": [
    {
     "data": {
      "text/plain": [
       "5000"
      ]
     },
     "execution_count": 36,
     "metadata": {},
     "output_type": "execute_result"
    }
   ],
   "source": [
    "pw4.course_price_access"
   ]
  },
  {
   "cell_type": "code",
   "execution_count": 37,
   "id": "dd1b56db",
   "metadata": {},
   "outputs": [
    {
     "data": {
      "text/plain": [
       "5000"
      ]
     },
     "execution_count": 37,
     "metadata": {},
     "output_type": "execute_result"
    }
   ],
   "source": [
    "pw4.course_price_del"
   ]
  },
  {
   "cell_type": "code",
   "execution_count": 38,
   "id": "6d93668a",
   "metadata": {},
   "outputs": [
    {
     "data": {
      "text/plain": [
       "5000"
      ]
     },
     "execution_count": 38,
     "metadata": {},
     "output_type": "execute_result"
    }
   ],
   "source": [
    "pw4.course_price_access"
   ]
  },
  {
   "cell_type": "code",
   "execution_count": 39,
   "id": "098b8ccd",
   "metadata": {},
   "outputs": [
    {
     "data": {
      "text/plain": [
       "5000"
      ]
     },
     "execution_count": 39,
     "metadata": {},
     "output_type": "execute_result"
    }
   ],
   "source": [
    "pw4.course_price_set"
   ]
  },
  {
   "cell_type": "code",
   "execution_count": 40,
   "id": "cca40580",
   "metadata": {},
   "outputs": [],
   "source": [
    "del pw4.course_price_del"
   ]
  },
  {
   "cell_type": "code",
   "execution_count": 41,
   "id": "1467733e",
   "metadata": {},
   "outputs": [
    {
     "ename": "AttributeError",
     "evalue": "'pwskills' object has no attribute '_pwskills__course_fees'",
     "output_type": "error",
     "traceback": [
      "\u001b[1;31m---------------------------------------------------------------------------\u001b[0m",
      "\u001b[1;31mAttributeError\u001b[0m                            Traceback (most recent call last)",
      "Cell \u001b[1;32mIn[41], line 1\u001b[0m\n\u001b[1;32m----> 1\u001b[0m \u001b[43mpw4\u001b[49m\u001b[38;5;241;43m.\u001b[39;49m\u001b[43mcourse_price_del\u001b[49m\n",
      "Cell \u001b[1;32mIn[33], line 8\u001b[0m, in \u001b[0;36mpwskills.course_price_access\u001b[1;34m(self)\u001b[0m\n\u001b[0;32m      6\u001b[0m \u001b[38;5;129m@property\u001b[39m\n\u001b[0;32m      7\u001b[0m \u001b[38;5;28;01mdef\u001b[39;00m \u001b[38;5;21mcourse_price_access\u001b[39m(\u001b[38;5;28mself\u001b[39m):\n\u001b[1;32m----> 8\u001b[0m     \u001b[38;5;28;01mreturn\u001b[39;00m \u001b[38;5;28;43mself\u001b[39;49m\u001b[38;5;241;43m.\u001b[39;49m\u001b[43m__course_fees\u001b[49m\n",
      "\u001b[1;31mAttributeError\u001b[0m: 'pwskills' object has no attribute '_pwskills__course_fees'"
     ]
    }
   ],
   "source": [
    "pw4.course_price_del"
   ]
  },
  {
   "cell_type": "code",
   "execution_count": null,
   "id": "dbdd5d22",
   "metadata": {},
   "outputs": [],
   "source": []
  }
 ],
 "metadata": {
  "kernelspec": {
   "display_name": "Python 3 (ipykernel)",
   "language": "python",
   "name": "python3"
  },
  "language_info": {
   "codemirror_mode": {
    "name": "ipython",
    "version": 3
   },
   "file_extension": ".py",
   "mimetype": "text/x-python",
   "name": "python",
   "nbconvert_exporter": "python",
   "pygments_lexer": "ipython3",
   "version": "3.10.9"
  }
 },
 "nbformat": 4,
 "nbformat_minor": 5
}
