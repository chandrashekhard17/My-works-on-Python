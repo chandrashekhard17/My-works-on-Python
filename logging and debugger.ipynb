{
 "cells": [
  {
   "cell_type": "code",
   "execution_count": 1,
   "id": "a47aa168",
   "metadata": {},
   "outputs": [
    {
     "name": "stdout",
     "output_type": "stream",
     "text": [
      "This is my print statement\n"
     ]
    }
   ],
   "source": [
    "print(\"This is my print statement\")"
   ]
  },
  {
   "cell_type": "code",
   "execution_count": 2,
   "id": "2a7345fb",
   "metadata": {},
   "outputs": [],
   "source": [
    "#this print statement is not having permanent storage  thats why we use logging function"
   ]
  },
  {
   "cell_type": "code",
   "execution_count": 3,
   "id": "4ecb4922",
   "metadata": {},
   "outputs": [],
   "source": [
    "#It executes 6 levels"
   ]
  },
  {
   "cell_type": "markdown",
   "id": "14a44cf0",
   "metadata": {},
   "source": [
    "1.Noset\n",
    "2.Debug\n",
    "3.Info\n",
    "4.Warning\n",
    "5.Error\n",
    "6.Critical"
   ]
  },
  {
   "cell_type": "code",
   "execution_count": 5,
   "id": "a44fce4d",
   "metadata": {},
   "outputs": [],
   "source": [
    "import logging\n"
   ]
  },
  {
   "cell_type": "code",
   "execution_count": 6,
   "id": "42434fbb",
   "metadata": {},
   "outputs": [],
   "source": [
    "logging.basicConfig(filename='test.log',level=logging.INFO)"
   ]
  },
  {
   "cell_type": "code",
   "execution_count": 7,
   "id": "c9f871bd",
   "metadata": {},
   "outputs": [],
   "source": [
    "logging.info('this is my info')"
   ]
  },
  {
   "cell_type": "code",
   "execution_count": 8,
   "id": "28306173",
   "metadata": {},
   "outputs": [],
   "source": [
    "logging.warning('this is my warning')"
   ]
  },
  {
   "cell_type": "code",
   "execution_count": 9,
   "id": "d278db65",
   "metadata": {},
   "outputs": [],
   "source": [
    "logging.error('this is my error')"
   ]
  },
  {
   "cell_type": "code",
   "execution_count": 10,
   "id": "4bfe9433",
   "metadata": {},
   "outputs": [],
   "source": [
    "logging.critical('this is my critical')"
   ]
  },
  {
   "cell_type": "code",
   "execution_count": 11,
   "id": "9e695eff",
   "metadata": {},
   "outputs": [],
   "source": [
    "#what if we use above of the info statement in this "
   ]
  },
  {
   "cell_type": "code",
   "execution_count": 12,
   "id": "01187862",
   "metadata": {},
   "outputs": [],
   "source": [
    "logging.debug('this is my debug')"
   ]
  },
  {
   "cell_type": "code",
   "execution_count": 13,
   "id": "f49e35aa",
   "metadata": {},
   "outputs": [],
   "source": [
    "logging.info('this is my another info statement')"
   ]
  },
  {
   "cell_type": "code",
   "execution_count": 14,
   "id": "e68ada71",
   "metadata": {},
   "outputs": [],
   "source": [
    "#for closing the file logging and debugging option we use shutdown"
   ]
  },
  {
   "cell_type": "code",
   "execution_count": 15,
   "id": "f9f7dbd1",
   "metadata": {},
   "outputs": [],
   "source": [
    "logging.shutdown()"
   ]
  },
  {
   "cell_type": "code",
   "execution_count": 16,
   "id": "1a05758e",
   "metadata": {},
   "outputs": [],
   "source": [
    "logging.error('this is my another error statement')"
   ]
  },
  {
   "cell_type": "code",
   "execution_count": 17,
   "id": "363a7940",
   "metadata": {},
   "outputs": [],
   "source": [
    "#we use logging statement instead of print statement"
   ]
  },
  {
   "cell_type": "code",
   "execution_count": 18,
   "id": "a257767f",
   "metadata": {},
   "outputs": [],
   "source": [
    "import os"
   ]
  },
  {
   "cell_type": "code",
   "execution_count": 21,
   "id": "2315950c",
   "metadata": {},
   "outputs": [
    {
     "ename": "PermissionError",
     "evalue": "[WinError 32] The process cannot access the file because it is being used by another process: 'test.log'",
     "output_type": "error",
     "traceback": [
      "\u001b[1;31m---------------------------------------------------------------------------\u001b[0m",
      "\u001b[1;31mPermissionError\u001b[0m                           Traceback (most recent call last)",
      "Cell \u001b[1;32mIn[21], line 1\u001b[0m\n\u001b[1;32m----> 1\u001b[0m \u001b[43mos\u001b[49m\u001b[38;5;241;43m.\u001b[39;49m\u001b[43mremove\u001b[49m\u001b[43m(\u001b[49m\u001b[38;5;124;43m'\u001b[39;49m\u001b[38;5;124;43mtest.log\u001b[39;49m\u001b[38;5;124;43m'\u001b[39;49m\u001b[43m)\u001b[49m\n",
      "\u001b[1;31mPermissionError\u001b[0m: [WinError 32] The process cannot access the file because it is being used by another process: 'test.log'"
     ]
    }
   ],
   "source": [
    "os.remove('test.log')"
   ]
  },
  {
   "cell_type": "code",
   "execution_count": 22,
   "id": "637d0d5b",
   "metadata": {},
   "outputs": [],
   "source": [
    "logging.shutdown()"
   ]
  },
  {
   "cell_type": "code",
   "execution_count": 23,
   "id": "02aa84ef",
   "metadata": {},
   "outputs": [],
   "source": [
    "import os"
   ]
  },
  {
   "cell_type": "code",
   "execution_count": 24,
   "id": "a1968c92",
   "metadata": {},
   "outputs": [],
   "source": [
    "os.remove('test.log')"
   ]
  },
  {
   "cell_type": "code",
   "execution_count": 29,
   "id": "43123ebe",
   "metadata": {},
   "outputs": [],
   "source": [
    "logging.basicConfig(filename='test3.log',level=logging.DEBUG, format='%(asctime)s,%(name)s,%(levelname)s,%(messages)s')"
   ]
  },
  {
   "cell_type": "code",
   "execution_count": 30,
   "id": "5d6908a5",
   "metadata": {},
   "outputs": [],
   "source": [
    "logging.debug('Hi i am writing debug statament')"
   ]
  },
  {
   "cell_type": "code",
   "execution_count": 31,
   "id": "0feeeb64",
   "metadata": {},
   "outputs": [],
   "source": [
    "import os"
   ]
  },
  {
   "cell_type": "code",
   "execution_count": 33,
   "id": "4e4b777a",
   "metadata": {},
   "outputs": [
    {
     "ename": "FileNotFoundError",
     "evalue": "[WinError 2] The system cannot find the file specified: 'test3.log'",
     "output_type": "error",
     "traceback": [
      "\u001b[1;31m---------------------------------------------------------------------------\u001b[0m",
      "\u001b[1;31mFileNotFoundError\u001b[0m                         Traceback (most recent call last)",
      "Cell \u001b[1;32mIn[33], line 1\u001b[0m\n\u001b[1;32m----> 1\u001b[0m \u001b[43mos\u001b[49m\u001b[38;5;241;43m.\u001b[39;49m\u001b[43mremove\u001b[49m\u001b[43m(\u001b[49m\u001b[38;5;124;43m'\u001b[39;49m\u001b[38;5;124;43mtest3.log\u001b[39;49m\u001b[38;5;124;43m'\u001b[39;49m\u001b[43m)\u001b[49m\n",
      "\u001b[1;31mFileNotFoundError\u001b[0m: [WinError 2] The system cannot find the file specified: 'test3.log'"
     ]
    }
   ],
   "source": [
    "os.remove('test3.log')"
   ]
  },
  {
   "cell_type": "code",
   "execution_count": 37,
   "id": "90c36910",
   "metadata": {},
   "outputs": [],
   "source": [
    "import logging"
   ]
  },
  {
   "cell_type": "code",
   "execution_count": 38,
   "id": "826833e3",
   "metadata": {},
   "outputs": [],
   "source": [
    "logging.basicConfig(filename='test3.log',level=logging.DEBUG, format='%(asctime)s,%(name)s,%(levelname)s,%(message)s')"
   ]
  },
  {
   "cell_type": "code",
   "execution_count": 39,
   "id": "98eff5d8",
   "metadata": {},
   "outputs": [],
   "source": [
    "import logging"
   ]
  },
  {
   "cell_type": "code",
   "execution_count": 40,
   "id": "9be380dc",
   "metadata": {},
   "outputs": [],
   "source": [
    "logging.basicConfig(filename = \"test3.log\" , level = logging.DEBUG, format = '%(asctime)s %(name)s %(levelname)s  %(message)s')"
   ]
  },
  {
   "cell_type": "code",
   "execution_count": 41,
   "id": "04eea29d",
   "metadata": {},
   "outputs": [],
   "source": [
    "#the moral of this lesson is we can use logging function instead of print statement for permanent storage"
   ]
  },
  {
   "cell_type": "code",
   "execution_count": 42,
   "id": "7ab22425",
   "metadata": {},
   "outputs": [],
   "source": [
    "#this is not erasable even if it is shutdown"
   ]
  },
  {
   "cell_type": "code",
   "execution_count": null,
   "id": "8d5e0b4c",
   "metadata": {},
   "outputs": [],
   "source": []
  }
 ],
 "metadata": {
  "kernelspec": {
   "display_name": "Python 3 (ipykernel)",
   "language": "python",
   "name": "python3"
  },
  "language_info": {
   "codemirror_mode": {
    "name": "ipython",
    "version": 3
   },
   "file_extension": ".py",
   "mimetype": "text/x-python",
   "name": "python",
   "nbconvert_exporter": "python",
   "pygments_lexer": "ipython3",
   "version": "3.10.9"
  }
 },
 "nbformat": 4,
 "nbformat_minor": 5
}
