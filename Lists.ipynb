{
 "cells": [
  {
   "cell_type": "code",
   "execution_count": 1,
   "id": "dc6b64c2",
   "metadata": {},
   "outputs": [
    {
     "data": {
      "text/plain": [
       "list"
      ]
     },
     "execution_count": 1,
     "metadata": {},
     "output_type": "execute_result"
    }
   ],
   "source": [
    "type([])"
   ]
  },
  {
   "cell_type": "code",
   "execution_count": 2,
   "id": "03de3887",
   "metadata": {},
   "outputs": [],
   "source": [
    "lst=['krish','naik','pwskills','data','science','masters']"
   ]
  },
  {
   "cell_type": "code",
   "execution_count": 3,
   "id": "f676cf15",
   "metadata": {},
   "outputs": [
    {
     "data": {
      "text/plain": [
       "['krish', 'naik', 'pwskills', 'data', 'science', 'masters']"
      ]
     },
     "execution_count": 3,
     "metadata": {},
     "output_type": "execute_result"
    }
   ],
   "source": [
    "lst"
   ]
  },
  {
   "cell_type": "code",
   "execution_count": 4,
   "id": "5e28119e",
   "metadata": {},
   "outputs": [
    {
     "data": {
      "text/plain": [
       "[1, 2, 3, 4, 5]"
      ]
     },
     "execution_count": 4,
     "metadata": {},
     "output_type": "execute_result"
    }
   ],
   "source": [
    "list([1,2,3,4,5])"
   ]
  },
  {
   "cell_type": "code",
   "execution_count": 6,
   "id": "9a922707",
   "metadata": {},
   "outputs": [],
   "source": [
    "str2='Data science'"
   ]
  },
  {
   "cell_type": "code",
   "execution_count": 7,
   "id": "0cd5ae2a",
   "metadata": {},
   "outputs": [
    {
     "data": {
      "text/plain": [
       "['D', 'a', 't', 'a', ' ', 's', 'c', 'i', 'e', 'n', 'c', 'e']"
      ]
     },
     "execution_count": 7,
     "metadata": {},
     "output_type": "execute_result"
    }
   ],
   "source": [
    "list(str2)"
   ]
  },
  {
   "cell_type": "code",
   "execution_count": 8,
   "id": "fb5075d5",
   "metadata": {},
   "outputs": [],
   "source": [
    "str3=\"pw skills data science masters version 2.0\""
   ]
  },
  {
   "cell_type": "code",
   "execution_count": 24,
   "id": "7bcd6633",
   "metadata": {},
   "outputs": [
    {
     "data": {
      "text/plain": [
       "['pw', 'skills', 'data', 'science', 'masters', 'version', '2.0']"
      ]
     },
     "execution_count": 24,
     "metadata": {},
     "output_type": "execute_result"
    }
   ],
   "source": [
    "list(str3)\n"
   ]
  },
  {
   "cell_type": "code",
   "execution_count": 25,
   "id": "f2b9eddf",
   "metadata": {},
   "outputs": [],
   "source": [
    "str3[2]='Data'"
   ]
  },
  {
   "cell_type": "code",
   "execution_count": 26,
   "id": "3a38d275",
   "metadata": {},
   "outputs": [
    {
     "data": {
      "text/plain": [
       "['pw', 'skills', 'Data', 'science', 'masters', 'version', '2.0']"
      ]
     },
     "execution_count": 26,
     "metadata": {},
     "output_type": "execute_result"
    }
   ],
   "source": [
    "str3"
   ]
  },
  {
   "cell_type": "code",
   "execution_count": 8,
   "id": "1a39da2a",
   "metadata": {},
   "outputs": [],
   "source": [
    "str4='Bahubali college of engineering shravanabelagola'\n",
    "str5=list(str4.split(' '))"
   ]
  },
  {
   "cell_type": "code",
   "execution_count": 9,
   "id": "45a71b65",
   "metadata": {},
   "outputs": [
    {
     "data": {
      "text/plain": [
       "'ahubali college of engineering shravanabelagola'"
      ]
     },
     "execution_count": 9,
     "metadata": {},
     "output_type": "execute_result"
    }
   ],
   "source": [
    "str4[1::]"
   ]
  },
  {
   "cell_type": "code",
   "execution_count": 11,
   "id": "c62e67ac",
   "metadata": {},
   "outputs": [
    {
     "data": {
      "text/plain": [
       "'Bahubali college of engineering shravanabelagola'"
      ]
     },
     "execution_count": 11,
     "metadata": {},
     "output_type": "execute_result"
    }
   ],
   "source": [
    "str4[0::]"
   ]
  },
  {
   "cell_type": "code",
   "execution_count": 12,
   "id": "5d80a19d",
   "metadata": {},
   "outputs": [
    {
     "data": {
      "text/plain": [
       "'ahubali c'"
      ]
     },
     "execution_count": 12,
     "metadata": {},
     "output_type": "execute_result"
    }
   ],
   "source": [
    "str4[1:10:1]"
   ]
  },
  {
   "cell_type": "code",
   "execution_count": 13,
   "id": "db6c6343",
   "metadata": {},
   "outputs": [
    {
     "data": {
      "text/plain": [
       "['college', 'of', 'engineering', 'shravanabelagola']"
      ]
     },
     "execution_count": 13,
     "metadata": {},
     "output_type": "execute_result"
    }
   ],
   "source": [
    "str5[1::]"
   ]
  },
  {
   "cell_type": "code",
   "execution_count": 14,
   "id": "d01d2f0e",
   "metadata": {},
   "outputs": [
    {
     "data": {
      "text/plain": [
       "['shravanabelagola', 'engineering', 'of', 'college', 'Bahubali']"
      ]
     },
     "execution_count": 14,
     "metadata": {},
     "output_type": "execute_result"
    }
   ],
   "source": [
    "str5[::-1]"
   ]
  },
  {
   "cell_type": "code",
   "execution_count": 16,
   "id": "0cd955a6",
   "metadata": {},
   "outputs": [],
   "source": [
    "str5[4]='Hassan'"
   ]
  },
  {
   "cell_type": "code",
   "execution_count": 17,
   "id": "551a2e40",
   "metadata": {},
   "outputs": [
    {
     "data": {
      "text/plain": [
       "['Bahubali', 'college', 'of', 'engineering', 'Hassan']"
      ]
     },
     "execution_count": 17,
     "metadata": {},
     "output_type": "execute_result"
    }
   ],
   "source": [
    "str5"
   ]
  },
  {
   "cell_type": "code",
   "execution_count": 24,
   "id": "470f8b06",
   "metadata": {},
   "outputs": [],
   "source": [
    "str5.append('shravanabelagola')"
   ]
  },
  {
   "cell_type": "code",
   "execution_count": 25,
   "id": "fe75e288",
   "metadata": {},
   "outputs": [
    {
     "data": {
      "text/plain": [
       "['Bahubali',\n",
       " 'college',\n",
       " 'of',\n",
       " 'engineering',\n",
       " 'Hassan',\n",
       " 'B',\n",
       " 'a',\n",
       " 'h',\n",
       " 'u',\n",
       " 'b',\n",
       " 'a',\n",
       " 'l',\n",
       " 'i',\n",
       " ' ',\n",
       " 'c',\n",
       " 'o',\n",
       " 'l',\n",
       " 'l',\n",
       " 'e',\n",
       " 'g',\n",
       " 'e',\n",
       " ' ',\n",
       " 'o',\n",
       " 'f',\n",
       " ' ',\n",
       " 'e',\n",
       " 'n',\n",
       " 'g',\n",
       " 'i',\n",
       " 'n',\n",
       " 'e',\n",
       " 'e',\n",
       " 'r',\n",
       " 'i',\n",
       " 'n',\n",
       " 'g',\n",
       " ' ',\n",
       " 's',\n",
       " 'h',\n",
       " 'r',\n",
       " 'a',\n",
       " 'v',\n",
       " 'a',\n",
       " 'n',\n",
       " 'a',\n",
       " 'b',\n",
       " 'e',\n",
       " 'l',\n",
       " 'a',\n",
       " 'g',\n",
       " 'o',\n",
       " 'l',\n",
       " 'a',\n",
       " 'shravanabelagola']"
      ]
     },
     "execution_count": 25,
     "metadata": {},
     "output_type": "execute_result"
    }
   ],
   "source": [
    "str5"
   ]
  },
  {
   "cell_type": "code",
   "execution_count": 34,
   "id": "a899c77a",
   "metadata": {},
   "outputs": [],
   "source": [
    "lst='pw skills data science masters'\n"
   ]
  },
  {
   "cell_type": "code",
   "execution_count": 38,
   "id": "338c7e60",
   "metadata": {},
   "outputs": [
    {
     "data": {
      "text/plain": [
       "'pw skills data science masters new element '"
      ]
     },
     "execution_count": 38,
     "metadata": {},
     "output_type": "execute_result"
    }
   ],
   "source": [
    "lst + (' new element ')"
   ]
  },
  {
   "cell_type": "code",
   "execution_count": 36,
   "id": "4772afd4",
   "metadata": {},
   "outputs": [
    {
     "data": {
      "text/plain": [
       "'pw skills data science masters'"
      ]
     },
     "execution_count": 36,
     "metadata": {},
     "output_type": "execute_result"
    }
   ],
   "source": [
    "lst"
   ]
  },
  {
   "cell_type": "code",
   "execution_count": 39,
   "id": "7a36c778",
   "metadata": {},
   "outputs": [
    {
     "data": {
      "text/plain": [
       "['Bahubali',\n",
       " 'college',\n",
       " 'of',\n",
       " 'engineering',\n",
       " 'Hassan',\n",
       " 'B',\n",
       " 'a',\n",
       " 'h',\n",
       " 'u',\n",
       " 'b',\n",
       " 'a',\n",
       " 'l',\n",
       " 'i',\n",
       " ' ',\n",
       " 'c',\n",
       " 'o',\n",
       " 'l',\n",
       " 'l',\n",
       " 'e',\n",
       " 'g',\n",
       " 'e',\n",
       " ' ',\n",
       " 'o',\n",
       " 'f',\n",
       " ' ',\n",
       " 'e',\n",
       " 'n',\n",
       " 'g',\n",
       " 'i',\n",
       " 'n',\n",
       " 'e',\n",
       " 'e',\n",
       " 'r',\n",
       " 'i',\n",
       " 'n',\n",
       " 'g',\n",
       " ' ',\n",
       " 's',\n",
       " 'h',\n",
       " 'r',\n",
       " 'a',\n",
       " 'v',\n",
       " 'a',\n",
       " 'n',\n",
       " 'a',\n",
       " 'b',\n",
       " 'e',\n",
       " 'l',\n",
       " 'a',\n",
       " 'g',\n",
       " 'o',\n",
       " 'l',\n",
       " 'a',\n",
       " 'shravanabelagola']"
      ]
     },
     "execution_count": 39,
     "metadata": {},
     "output_type": "execute_result"
    }
   ],
   "source": [
    "str5"
   ]
  },
  {
   "cell_type": "code",
   "execution_count": 40,
   "id": "ad074855",
   "metadata": {},
   "outputs": [
    {
     "data": {
      "text/plain": [
       "'shravanabelagola'"
      ]
     },
     "execution_count": 40,
     "metadata": {},
     "output_type": "execute_result"
    }
   ],
   "source": [
    "str5[-1]"
   ]
  },
  {
   "cell_type": "code",
   "execution_count": 46,
   "id": "609fb56b",
   "metadata": {},
   "outputs": [
    {
     "data": {
      "text/plain": [
       "'sanega'"
      ]
     },
     "execution_count": 46,
     "metadata": {},
     "output_type": "execute_result"
    }
   ],
   "source": [
    "str5[-1][0::3]"
   ]
  },
  {
   "cell_type": "code",
   "execution_count": 47,
   "id": "40560477",
   "metadata": {},
   "outputs": [],
   "source": [
    "str5=str5[-1]"
   ]
  },
  {
   "cell_type": "code",
   "execution_count": 48,
   "id": "b6524460",
   "metadata": {},
   "outputs": [
    {
     "data": {
      "text/plain": [
       "'shravanabelagola'"
      ]
     },
     "execution_count": 48,
     "metadata": {},
     "output_type": "execute_result"
    }
   ],
   "source": [
    "str5"
   ]
  },
  {
   "cell_type": "code",
   "execution_count": 54,
   "id": "e869d2d2",
   "metadata": {},
   "outputs": [
    {
     "name": "stdout",
     "output_type": "stream",
     "text": [
      "shravanabelagolashravanabelagolashravanabelagolashravanabelagolashravanabelagolashravanabelagola\n"
     ]
    }
   ],
   "source": [
    "city=str5*6\n",
    "print(city,end='\\n')"
   ]
  },
  {
   "cell_type": "code",
   "execution_count": 55,
   "id": "15c0ae1b",
   "metadata": {},
   "outputs": [],
   "source": [
    "lst1=['apple','banana','cherry','mango']\n",
    "lst3=[3,4,5,2,6,7,8]"
   ]
  },
  {
   "cell_type": "code",
   "execution_count": 57,
   "id": "85151d09",
   "metadata": {},
   "outputs": [
    {
     "data": {
      "text/plain": [
       "'mango'"
      ]
     },
     "execution_count": 57,
     "metadata": {},
     "output_type": "execute_result"
    }
   ],
   "source": [
    "max(lst1)"
   ]
  },
  {
   "cell_type": "code",
   "execution_count": 58,
   "id": "704b3027",
   "metadata": {},
   "outputs": [
    {
     "data": {
      "text/plain": [
       "'apple'"
      ]
     },
     "execution_count": 58,
     "metadata": {},
     "output_type": "execute_result"
    }
   ],
   "source": [
    "min(lst1)"
   ]
  },
  {
   "cell_type": "code",
   "execution_count": 59,
   "id": "1b9d010a",
   "metadata": {},
   "outputs": [
    {
     "data": {
      "text/plain": [
       "2"
      ]
     },
     "execution_count": 59,
     "metadata": {},
     "output_type": "execute_result"
    }
   ],
   "source": [
    "min(lst3)"
   ]
  },
  {
   "cell_type": "code",
   "execution_count": 60,
   "id": "add732ba",
   "metadata": {},
   "outputs": [
    {
     "data": {
      "text/plain": [
       "2"
      ]
     },
     "execution_count": 60,
     "metadata": {},
     "output_type": "execute_result"
    }
   ],
   "source": [
    "min(lst3)"
   ]
  },
  {
   "cell_type": "code",
   "execution_count": 61,
   "id": "3f8caba0",
   "metadata": {},
   "outputs": [
    {
     "data": {
      "text/plain": [
       "8"
      ]
     },
     "execution_count": 61,
     "metadata": {},
     "output_type": "execute_result"
    }
   ],
   "source": [
    "max(lst3)"
   ]
  },
  {
   "cell_type": "code",
   "execution_count": 64,
   "id": "1415d654",
   "metadata": {},
   "outputs": [
    {
     "data": {
      "text/plain": [
       "['apple', 'banana', 'cherry', 'mango']"
      ]
     },
     "execution_count": 64,
     "metadata": {},
     "output_type": "execute_result"
    }
   ],
   "source": [
    "lst1"
   ]
  },
  {
   "cell_type": "code",
   "execution_count": 66,
   "id": "f5310c75",
   "metadata": {},
   "outputs": [
    {
     "data": {
      "text/plain": [
       "True"
      ]
     },
     "execution_count": 66,
     "metadata": {},
     "output_type": "execute_result"
    }
   ],
   "source": [
    "'mango' in lst1"
   ]
  },
  {
   "cell_type": "code",
   "execution_count": 69,
   "id": "db06cc08",
   "metadata": {},
   "outputs": [
    {
     "data": {
      "text/plain": [
       "False"
      ]
     },
     "execution_count": 69,
     "metadata": {},
     "output_type": "execute_result"
    }
   ],
   "source": [
    "1.99999999999 in [2,8,9]"
   ]
  },
  {
   "cell_type": "code",
   "execution_count": 70,
   "id": "49d3b74d",
   "metadata": {},
   "outputs": [],
   "source": [
    "lst1.append('pw skills')"
   ]
  },
  {
   "cell_type": "code",
   "execution_count": 71,
   "id": "e60992c3",
   "metadata": {},
   "outputs": [
    {
     "data": {
      "text/plain": [
       "['apple', 'banana', 'cherry', 'mango', 'pw skills']"
      ]
     },
     "execution_count": 71,
     "metadata": {},
     "output_type": "execute_result"
    }
   ],
   "source": [
    "lst1"
   ]
  },
  {
   "cell_type": "code",
   "execution_count": 72,
   "id": "5b459bb4",
   "metadata": {},
   "outputs": [
    {
     "data": {
      "text/plain": [
       "'pw skills'"
      ]
     },
     "execution_count": 72,
     "metadata": {},
     "output_type": "execute_result"
    }
   ],
   "source": [
    "lst1.pop()"
   ]
  },
  {
   "cell_type": "code",
   "execution_count": 73,
   "id": "43fe9b8a",
   "metadata": {},
   "outputs": [
    {
     "data": {
      "text/plain": [
       "['apple', 'banana', 'cherry', 'mango']"
      ]
     },
     "execution_count": 73,
     "metadata": {},
     "output_type": "execute_result"
    }
   ],
   "source": [
    "lst1"
   ]
  },
  {
   "cell_type": "code",
   "execution_count": 74,
   "id": "47dd5eb6",
   "metadata": {},
   "outputs": [
    {
     "data": {
      "text/plain": [
       "'cherry'"
      ]
     },
     "execution_count": 74,
     "metadata": {},
     "output_type": "execute_result"
    }
   ],
   "source": [
    "lst1.pop(-2)"
   ]
  },
  {
   "cell_type": "code",
   "execution_count": 75,
   "id": "3b53bc9e",
   "metadata": {},
   "outputs": [
    {
     "data": {
      "text/plain": [
       "['apple', 'banana', 'mango']"
      ]
     },
     "execution_count": 75,
     "metadata": {},
     "output_type": "execute_result"
    }
   ],
   "source": [
    "lst1"
   ]
  },
  {
   "cell_type": "code",
   "execution_count": 76,
   "id": "4ac3eaa1",
   "metadata": {},
   "outputs": [],
   "source": [
    "lst1.insert(3,'pwskills')"
   ]
  },
  {
   "cell_type": "code",
   "execution_count": 77,
   "id": "ce4d54f1",
   "metadata": {},
   "outputs": [
    {
     "data": {
      "text/plain": [
       "['apple', 'banana', 'mango', 'pwskills']"
      ]
     },
     "execution_count": 77,
     "metadata": {},
     "output_type": "execute_result"
    }
   ],
   "source": [
    "lst1"
   ]
  },
  {
   "cell_type": "code",
   "execution_count": 80,
   "id": "6dee4ed2",
   "metadata": {},
   "outputs": [],
   "source": [
    "lst1.insert(2,'donkey')"
   ]
  },
  {
   "cell_type": "code",
   "execution_count": 81,
   "id": "65f03fbf",
   "metadata": {},
   "outputs": [
    {
     "data": {
      "text/plain": [
       "['apple', 'banana', 'donkey', 'mango', 'pwskills', 'pwskills', 'pwskills']"
      ]
     },
     "execution_count": 81,
     "metadata": {},
     "output_type": "execute_result"
    }
   ],
   "source": [
    "lst1"
   ]
  },
  {
   "cell_type": "code",
   "execution_count": 82,
   "id": "31edc44d",
   "metadata": {},
   "outputs": [
    {
     "data": {
      "text/plain": [
       "['apple', 'banana', 'donkey', 'mango', 'pwskills', 'pwskills', 'pwskills']"
      ]
     },
     "execution_count": 82,
     "metadata": {},
     "output_type": "execute_result"
    }
   ],
   "source": [
    "lst1"
   ]
  },
  {
   "cell_type": "code",
   "execution_count": 84,
   "id": "b37689f3",
   "metadata": {},
   "outputs": [
    {
     "data": {
      "text/plain": [
       "'pwskills'"
      ]
     },
     "execution_count": 84,
     "metadata": {},
     "output_type": "execute_result"
    }
   ],
   "source": [
    "lst1.pop(-1)"
   ]
  },
  {
   "cell_type": "code",
   "execution_count": 85,
   "id": "be981f80",
   "metadata": {},
   "outputs": [
    {
     "data": {
      "text/plain": [
       "'pwskills'"
      ]
     },
     "execution_count": 85,
     "metadata": {},
     "output_type": "execute_result"
    }
   ],
   "source": [
    "lst1.pop(-1)"
   ]
  },
  {
   "cell_type": "code",
   "execution_count": 86,
   "id": "e6979681",
   "metadata": {},
   "outputs": [
    {
     "data": {
      "text/plain": [
       "['apple', 'banana', 'donkey', 'mango', 'pwskills']"
      ]
     },
     "execution_count": 86,
     "metadata": {},
     "output_type": "execute_result"
    }
   ],
   "source": [
    "lst1"
   ]
  },
  {
   "cell_type": "code",
   "execution_count": 87,
   "id": "0add37ae",
   "metadata": {},
   "outputs": [
    {
     "data": {
      "text/plain": [
       "['apple', 'banana', 'donkey', 'mango', 'pwskills']"
      ]
     },
     "execution_count": 87,
     "metadata": {},
     "output_type": "execute_result"
    }
   ],
   "source": [
    "lst1"
   ]
  },
  {
   "cell_type": "code",
   "execution_count": 89,
   "id": "a51ebb47",
   "metadata": {},
   "outputs": [],
   "source": [
    "lst2=['lion','cheetah','monkey']"
   ]
  },
  {
   "cell_type": "code",
   "execution_count": 90,
   "id": "12100fa5",
   "metadata": {},
   "outputs": [],
   "source": [
    "lst3=['arjun','karna','krishna','balarama']"
   ]
  },
  {
   "cell_type": "code",
   "execution_count": 91,
   "id": "532952e3",
   "metadata": {},
   "outputs": [],
   "source": [
    "lst=[lst1,lst2,lst3]"
   ]
  },
  {
   "cell_type": "code",
   "execution_count": 92,
   "id": "d4323644",
   "metadata": {},
   "outputs": [
    {
     "data": {
      "text/plain": [
       "[['apple', 'banana', 'donkey', 'mango', 'pwskills'],\n",
       " ['lion', 'cheetah', 'monkey'],\n",
       " ['arjun', 'karna', 'krishna', 'balarama']]"
      ]
     },
     "execution_count": 92,
     "metadata": {},
     "output_type": "execute_result"
    }
   ],
   "source": [
    "lst"
   ]
  },
  {
   "cell_type": "code",
   "execution_count": 93,
   "id": "94cea95f",
   "metadata": {},
   "outputs": [
    {
     "data": {
      "text/plain": [
       "'balarama'"
      ]
     },
     "execution_count": 93,
     "metadata": {},
     "output_type": "execute_result"
    }
   ],
   "source": [
    "lst[2][3]"
   ]
  },
  {
   "cell_type": "code",
   "execution_count": 95,
   "id": "4e2563d7",
   "metadata": {},
   "outputs": [
    {
     "data": {
      "text/plain": [
       "['krishna', 'balarama']"
      ]
     },
     "execution_count": 95,
     "metadata": {},
     "output_type": "execute_result"
    }
   ],
   "source": [
    "lst[2][2:]"
   ]
  },
  {
   "cell_type": "code",
   "execution_count": 99,
   "id": "68c48e27",
   "metadata": {},
   "outputs": [
    {
     "data": {
      "text/plain": [
       "['lion', 'cheetah', 'monkey']"
      ]
     },
     "execution_count": 99,
     "metadata": {},
     "output_type": "execute_result"
    }
   ],
   "source": [
    "lst[1:][0]"
   ]
  },
  {
   "cell_type": "markdown",
   "id": "7fe4a0d0",
   "metadata": {},
   "source": [
    "#list comprehension\n"
   ]
  },
  {
   "cell_type": "code",
   "execution_count": 100,
   "id": "d924271c",
   "metadata": {},
   "outputs": [
    {
     "data": {
      "text/plain": [
       "[0, 1, 2, 3, 4, 5, 6, 7, 8, 9, 10, 11, 12, 13, 14, 15, 16, 17, 18, 19]"
      ]
     },
     "execution_count": 100,
     "metadata": {},
     "output_type": "execute_result"
    }
   ],
   "source": [
    "[i for i in range(20)]"
   ]
  },
  {
   "cell_type": "code",
   "execution_count": 103,
   "id": "991536b9",
   "metadata": {},
   "outputs": [
    {
     "name": "stdout",
     "output_type": "stream",
     "text": [
      "0 is even\n",
      "2 is even\n",
      "4 is even\n",
      "6 is even\n",
      "8 is even\n",
      "10 is even\n",
      "12 is even\n",
      "14 is even\n",
      "16 is even\n",
      "18 is even\n"
     ]
    },
    {
     "data": {
      "text/plain": [
       "[None, None, None, None, None, None, None, None, None, None]"
      ]
     },
     "execution_count": 103,
     "metadata": {},
     "output_type": "execute_result"
    }
   ],
   "source": [
    "[print(f\"{i} is even\") for i in range(20) if i%2==0]"
   ]
  },
  {
   "cell_type": "code",
   "execution_count": 104,
   "id": "d8dbe6bb",
   "metadata": {},
   "outputs": [
    {
     "name": "stdout",
     "output_type": "stream",
     "text": [
      "1 is odd\n",
      "3 is odd\n",
      "5 is odd\n",
      "7 is odd\n",
      "9 is odd\n",
      "11 is odd\n",
      "13 is odd\n",
      "15 is odd\n",
      "17 is odd\n",
      "19 is odd\n"
     ]
    },
    {
     "data": {
      "text/plain": [
       "[None, None, None, None, None, None, None, None, None, None]"
      ]
     },
     "execution_count": 104,
     "metadata": {},
     "output_type": "execute_result"
    }
   ],
   "source": [
    "[print(f\"{i} is odd\") for i in range(20) if i%2!=0]"
   ]
  },
  {
   "cell_type": "code",
   "execution_count": 105,
   "id": "17249159",
   "metadata": {},
   "outputs": [],
   "source": [
    "lst=[1,2,3,4,5,6,7,8]"
   ]
  },
  {
   "cell_type": "code",
   "execution_count": 108,
   "id": "dcb498fe",
   "metadata": {},
   "outputs": [
    {
     "data": {
      "text/plain": [
       "20"
      ]
     },
     "execution_count": 108,
     "metadata": {},
     "output_type": "execute_result"
    }
   ],
   "source": [
    "sum([i for i in lst if i%2==0])"
   ]
  },
  {
   "cell_type": "code",
   "execution_count": 109,
   "id": "1c86f432",
   "metadata": {},
   "outputs": [
    {
     "data": {
      "text/plain": [
       "16"
      ]
     },
     "execution_count": 109,
     "metadata": {},
     "output_type": "execute_result"
    }
   ],
   "source": [
    "sum([i for i in lst if i%2!=0])"
   ]
  },
  {
   "cell_type": "code",
   "execution_count": 110,
   "id": "e3754c1b",
   "metadata": {},
   "outputs": [
    {
     "data": {
      "text/plain": [
       "[1, 2, 3, 4]"
      ]
     },
     "execution_count": 110,
     "metadata": {},
     "output_type": "execute_result"
    }
   ],
   "source": [
    "numbers = [-2, -1, 0, 1, 2, 3, 4]\n",
    "[i for i in numbers if i>0]"
   ]
  },
  {
   "cell_type": "code",
   "execution_count": 113,
   "id": "6fd4af0f",
   "metadata": {},
   "outputs": [
    {
     "data": {
      "text/plain": [
       "['a', 'b', 'c', 'd']"
      ]
     },
     "execution_count": 113,
     "metadata": {},
     "output_type": "execute_result"
    }
   ],
   "source": [
    "words = ['apple', 'banana', 'cherry', 'date']\n",
    "[word[0] for word in words]"
   ]
  },
  {
   "cell_type": "code",
   "execution_count": 116,
   "id": "cfdfd42d",
   "metadata": {},
   "outputs": [
    {
     "data": {
      "text/plain": [
       "[32.0, 50.0, 68.0, 86.0, 104.0, 122.0]"
      ]
     },
     "execution_count": 116,
     "metadata": {},
     "output_type": "execute_result"
    }
   ],
   "source": [
    "celsius_temperatures = [0, 10, 20, 30, 40, 50]\n",
    "[(9/5)*i+32 for i in celsius_temperatures ]"
   ]
  },
  {
   "cell_type": "code",
   "execution_count": 117,
   "id": "f8406114",
   "metadata": {},
   "outputs": [],
   "source": [
    "# Example 5: Flatten a list of lists into a single list\n",
    "lists = [[1, 2, 3], [4, 5, 6], [7, 8, 9]]"
   ]
  },
  {
   "cell_type": "code",
   "execution_count": 120,
   "id": "6aa198d0",
   "metadata": {},
   "outputs": [
    {
     "data": {
      "text/plain": [
       "[1, 2, 3, 4, 5, 6, 7, 8, 9]"
      ]
     },
     "execution_count": 120,
     "metadata": {},
     "output_type": "execute_result"
    }
   ],
   "source": [
    "[j for i in lists for j in i] "
   ]
  },
  {
   "cell_type": "code",
   "execution_count": 134,
   "id": "9d6430cc",
   "metadata": {},
   "outputs": [
    {
     "data": {
      "text/plain": [
       "[]"
      ]
     },
     "execution_count": 134,
     "metadata": {},
     "output_type": "execute_result"
    }
   ],
   "source": [
    "numbers = [1, 2, 3, 4, 5, 6, 7, 8, 9, 10]\n",
    "[i for i in numbers if i/2==0]"
   ]
  },
  {
   "cell_type": "code",
   "execution_count": 128,
   "id": "ff9da722",
   "metadata": {},
   "outputs": [
    {
     "data": {
      "text/plain": [
       "[(1, 1),\n",
       " (1, 2),\n",
       " (1, 3),\n",
       " (1, 4),\n",
       " (1, 5),\n",
       " (2, 1),\n",
       " (2, 2),\n",
       " (2, 3),\n",
       " (2, 4),\n",
       " (2, 5),\n",
       " (3, 1),\n",
       " (3, 2),\n",
       " (3, 3),\n",
       " (3, 4),\n",
       " (3, 5),\n",
       " (4, 1),\n",
       " (4, 2),\n",
       " (4, 3),\n",
       " (4, 4),\n",
       " (4, 5),\n",
       " (5, 1),\n",
       " (5, 2),\n",
       " (5, 3),\n",
       " (5, 4),\n",
       " (5, 5)]"
      ]
     },
     "execution_count": 128,
     "metadata": {},
     "output_type": "execute_result"
    }
   ],
   "source": [
    "numbers = [1, 2, 3, 4, 5]\n",
    "[(i,j) for i in numbers for j in numbers]"
   ]
  },
  {
   "cell_type": "code",
   "execution_count": 133,
   "id": "e87d155b",
   "metadata": {},
   "outputs": [],
   "source": [
    "for i in range(0):\n",
    "    print(i)"
   ]
  },
  {
   "cell_type": "code",
   "execution_count": null,
   "id": "e6d12d7f",
   "metadata": {},
   "outputs": [],
   "source": []
  }
 ],
 "metadata": {
  "kernelspec": {
   "display_name": "Python 3 (ipykernel)",
   "language": "python",
   "name": "python3"
  },
  "language_info": {
   "codemirror_mode": {
    "name": "ipython",
    "version": 3
   },
   "file_extension": ".py",
   "mimetype": "text/x-python",
   "name": "python",
   "nbconvert_exporter": "python",
   "pygments_lexer": "ipython3",
   "version": "3.10.9"
  }
 },
 "nbformat": 4,
 "nbformat_minor": 5
}
