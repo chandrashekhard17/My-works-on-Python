{
 "cells": [
  {
   "cell_type": "code",
   "execution_count": 1,
   "id": "ee757aa4",
   "metadata": {},
   "outputs": [
    {
     "name": "stdout",
     "output_type": "stream",
     "text": [
      "The Zen of Python, by Tim Peters\n",
      "\n",
      "Beautiful is better than ugly.\n",
      "Explicit is better than implicit.\n",
      "Simple is better than complex.\n",
      "Complex is better than complicated.\n",
      "Flat is better than nested.\n",
      "Sparse is better than dense.\n",
      "Readability counts.\n",
      "Special cases aren't special enough to break the rules.\n",
      "Although practicality beats purity.\n",
      "Errors should never pass silently.\n",
      "Unless explicitly silenced.\n",
      "In the face of ambiguity, refuse the temptation to guess.\n",
      "There should be one-- and preferably only one --obvious way to do it.\n",
      "Although that way may not be obvious at first unless you're Dutch.\n",
      "Now is better than never.\n",
      "Although never is often better than *right* now.\n",
      "If the implementation is hard to explain, it's a bad idea.\n",
      "If the implementation is easy to explain, it may be a good idea.\n",
      "Namespaces are one honking great idea -- let's do more of those!\n"
     ]
    }
   ],
   "source": [
    "import this\n"
   ]
  },
  {
   "cell_type": "code",
   "execution_count": 1,
   "id": "929d9cc9",
   "metadata": {},
   "outputs": [
    {
     "data": {
      "text/plain": [
       "<generator object my_generator at 0x000001354C52D8C0>"
      ]
     },
     "execution_count": 1,
     "metadata": {},
     "output_type": "execute_result"
    }
   ],
   "source": [
    "def my_generator():\n",
    "  for i in range(10):\n",
    "    yield i\n",
    "\n",
    "my_generator()"
   ]
  },
  {
   "cell_type": "code",
   "execution_count": 4,
   "id": "54e87149",
   "metadata": {},
   "outputs": [
    {
     "name": "stdout",
     "output_type": "stream",
     "text": [
      "25\n",
      "26\n",
      "27\n",
      "28\n",
      "29\n",
      "30\n",
      "31\n",
      "32\n",
      "33\n",
      "34\n",
      "35\n",
      "36\n",
      "37\n",
      "38\n",
      "39\n",
      "40\n",
      "41\n",
      "42\n",
      "43\n",
      "44\n",
      "45\n",
      "46\n",
      "47\n",
      "48\n",
      "49\n",
      "50\n",
      "51\n",
      "52\n",
      "53\n",
      "54\n",
      "55\n",
      "56\n",
      "57\n",
      "58\n",
      "59\n",
      "60\n",
      "Its time for retirement\n"
     ]
    }
   ],
   "source": [
    "joining_age=25\n",
    "while joining_age<=60:\n",
    "    print(joining_age)\n",
    "    joining_age+=1\n",
    "else:\n",
    "    print(\"Its time for retirement\")"
   ]
  },
  {
   "cell_type": "code",
   "execution_count": 13,
   "id": "18bda599",
   "metadata": {},
   "outputs": [
    {
     "name": "stdout",
     "output_type": "stream",
     "text": [
      "*\r\n",
      "**\r\n",
      "***\r\n",
      "****\r\n",
      "*****\r\n",
      "******\r\n",
      "*******\r\n"
     ]
    }
   ],
   "source": [
    "n=7\n",
    "for i in range(n):\n",
    "    for j in range(i+1):\n",
    "        print(\"*\",end='')\n",
    "    print('\\r')"
   ]
  },
  {
   "cell_type": "code",
   "execution_count": 24,
   "id": "8a8f84a7",
   "metadata": {},
   "outputs": [
    {
     "name": "stdout",
     "output_type": "stream",
     "text": [
      "    *\r\n",
      "   ***\r\n",
      "  *****\r\n",
      " *******\r\n",
      "*********\r\n"
     ]
    }
   ],
   "source": [
    "n=5\n",
    "for i in range(n):\n",
    "    for j in range(n-i-1):\n",
    "        print(' ',end='')\n",
    "    for j in range(2*i+1):\n",
    "        print(\"*\",end='')\n",
    "    print('\\r')"
   ]
  },
  {
   "cell_type": "code",
   "execution_count": 26,
   "id": "d2ed5919",
   "metadata": {},
   "outputs": [
    {
     "name": "stdout",
     "output_type": "stream",
     "text": [
      "apollo\n",
      "apple\n",
      "banana is found\n"
     ]
    }
   ],
   "source": [
    "lst=[\"apollo\",\"apple\",\"banana\",\"cherry\"]\n",
    "for i in lst:\n",
    "    if i==\"banana\":\n",
    "        print(f\"{i} is found\")\n",
    "        break\n",
    "    print(i)\n"
   ]
  },
  {
   "cell_type": "code",
   "execution_count": 27,
   "id": "ccb0dbe0",
   "metadata": {},
   "outputs": [
    {
     "name": "stdout",
     "output_type": "stream",
     "text": [
      "apollo\n",
      "apple\n",
      "banana is found\n",
      "banana\n",
      "cherry\n"
     ]
    }
   ],
   "source": [
    "lst=[\"apollo\",\"apple\",\"banana\",\"cherry\"]\n",
    "for i in lst:\n",
    "    if i==\"banana\":\n",
    "        print(f\"{i} is found\")\n",
    "        pass\n",
    "    print(i)"
   ]
  },
  {
   "cell_type": "code",
   "execution_count": 28,
   "id": "0b091050",
   "metadata": {},
   "outputs": [
    {
     "name": "stdout",
     "output_type": "stream",
     "text": [
      "apollo\n",
      "apple\n",
      "banana is found\n",
      "cherry\n"
     ]
    }
   ],
   "source": [
    "lst=[\"apollo\",\"apple\",\"banana\",\"cherry\"]\n",
    "for i in lst:\n",
    "    if i==\"banana\":\n",
    "        print(f\"{i} is found\")\n",
    "        continue\n",
    "    print(i)"
   ]
  },
  {
   "cell_type": "code",
   "execution_count": 30,
   "id": "1a4b966a",
   "metadata": {},
   "outputs": [
    {
     "name": "stdout",
     "output_type": "stream",
     "text": [
      "enter the number76876\n",
      "The given number is positive\n"
     ]
    }
   ],
   "source": [
    "val=float(input('enter the number'))\n",
    "if val>=0:\n",
    "    if val==0:\n",
    "        print(\"zero\")\n",
    "        \n",
    "    else:\n",
    "        print('The given number is positive')\n",
    "else:\n",
    "    print('The given number is negetive')\n",
    "    "
   ]
  },
  {
   "cell_type": "code",
   "execution_count": 31,
   "id": "00ca87d2",
   "metadata": {},
   "outputs": [
    {
     "name": "stdout",
     "output_type": "stream",
     "text": [
      "enter the number-377329\n",
      "The given number is negetive\n"
     ]
    }
   ],
   "source": [
    "val=float(input('enter the number'))\n",
    "if val>=0:\n",
    "    if val==0:\n",
    "        print(\"zero\")\n",
    "        \n",
    "    else:\n",
    "        print('The given number is positive')\n",
    "else:\n",
    "    print('The given number is negetive')\n",
    "    "
   ]
  },
  {
   "cell_type": "code",
   "execution_count": 32,
   "id": "b39ffa24",
   "metadata": {},
   "outputs": [
    {
     "name": "stdout",
     "output_type": "stream",
     "text": [
      "enter the number0\n",
      "zero\n"
     ]
    }
   ],
   "source": [
    "val=float(input('enter the number'))\n",
    "if val>=0:\n",
    "    if val==0:\n",
    "        print(\"zero\")\n",
    "        \n",
    "    else:\n",
    "        print('The given number is positive')\n",
    "else:\n",
    "    print('The given number is negetive')\n",
    "    "
   ]
  },
  {
   "cell_type": "code",
   "execution_count": 38,
   "id": "ebf7ed94",
   "metadata": {},
   "outputs": [
    {
     "name": "stdout",
     "output_type": "stream",
     "text": [
      "0 = 0\n",
      "1 = 10\n",
      "2 = 20\n",
      "3 = 30\n",
      "4 = 40\n",
      "5 = 50\n",
      "The amount of counting a child is 60rs\n"
     ]
    }
   ],
   "source": [
    "''' A child is learning to count number of 10 rupess in his hand \n",
    "and here we have given 5 notes of 10 rupess. \n",
    "Output will display the counting of notes and total amount'''\n",
    "notes=5\n",
    "i=0\n",
    "amount=0\n",
    "while i<=notes:\n",
    "    print(i,\"=\",amount)\n",
    "    i+=1\n",
    "    amount+=10\n",
    "print(f\"The amount of counting a child is {amount}rs\")"
   ]
  },
  {
   "cell_type": "code",
   "execution_count": 40,
   "id": "12f6a22b",
   "metadata": {},
   "outputs": [
    {
     "name": "stdout",
     "output_type": "stream",
     "text": [
      "1\n",
      "2\n",
      "3\n"
     ]
    }
   ],
   "source": [
    "'''It is a simple example of break, \n",
    "where it immediatly terminate an operation of \n",
    "statement body when x is equal to 4'''\n",
    "x=1\n",
    "while x<=8:\n",
    "    print(x)\n",
    "    x+=1\n",
    "    if x==4:\n",
    "        break\n",
    "    "
   ]
  },
  {
   "cell_type": "code",
   "execution_count": 46,
   "id": "2e048ec0",
   "metadata": {},
   "outputs": [
    {
     "name": "stdout",
     "output_type": "stream",
     "text": [
      "1\n",
      "2\n",
      "3\n",
      "4\n",
      "5\n",
      "6\n",
      "7\n",
      "8\n"
     ]
    }
   ],
   "source": [
    "x=1\n",
    "while x<=8:\n",
    "    print(x)\n",
    "    x+=1\n",
    "    \n",
    "   \n",
    "    "
   ]
  },
  {
   "cell_type": "code",
   "execution_count": 1,
   "id": "5e1f7f25",
   "metadata": {},
   "outputs": [
    {
     "data": {
      "text/plain": [
       "0"
      ]
     },
     "execution_count": 1,
     "metadata": {},
     "output_type": "execute_result"
    }
   ],
   "source": [
    "False * (not(False))"
   ]
  },
  {
   "cell_type": "code",
   "execution_count": 5,
   "id": "d4c70cfc",
   "metadata": {},
   "outputs": [
    {
     "data": {
      "text/plain": [
       "True"
      ]
     },
     "execution_count": 5,
     "metadata": {},
     "output_type": "execute_result"
    }
   ],
   "source": [
    "not False * False"
   ]
  },
  {
   "cell_type": "code",
   "execution_count": 6,
   "id": "40756330",
   "metadata": {},
   "outputs": [
    {
     "data": {
      "text/plain": [
       "True"
      ]
     },
     "execution_count": 6,
     "metadata": {},
     "output_type": "execute_result"
    }
   ],
   "source": [
    "lst_a=[1,2,3,4]\n",
    "lst_b=lst_a\n",
    "lst_a is lst_b"
   ]
  },
  {
   "cell_type": "code",
   "execution_count": 7,
   "id": "de427a71",
   "metadata": {},
   "outputs": [
    {
     "data": {
      "text/plain": [
       "'Data science Masters'"
      ]
     },
     "execution_count": 7,
     "metadata": {},
     "output_type": "execute_result"
    }
   ],
   "source": [
    "string=\"Data science Masters\"\n",
    "string[:]"
   ]
  },
  {
   "cell_type": "code",
   "execution_count": 8,
   "id": "3a526ced",
   "metadata": {},
   "outputs": [
    {
     "data": {
      "text/plain": [
       "'sretsaM ecneics ataD'"
      ]
     },
     "execution_count": 8,
     "metadata": {},
     "output_type": "execute_result"
    }
   ],
   "source": [
    "string[::-1]"
   ]
  },
  {
   "cell_type": "code",
   "execution_count": 9,
   "id": "781639f7",
   "metadata": {},
   "outputs": [
    {
     "data": {
      "text/plain": [
       "'science'"
      ]
     },
     "execution_count": 9,
     "metadata": {},
     "output_type": "execute_result"
    }
   ],
   "source": [
    "string[5:12]"
   ]
  },
  {
   "cell_type": "code",
   "execution_count": 10,
   "id": "75f5ec7b",
   "metadata": {},
   "outputs": [
    {
     "data": {
      "text/plain": [
       "'cience'"
      ]
     },
     "execution_count": 10,
     "metadata": {},
     "output_type": "execute_result"
    }
   ],
   "source": [
    "string[-14:12:]"
   ]
  },
  {
   "cell_type": "code",
   "execution_count": 11,
   "id": "95f7678b",
   "metadata": {},
   "outputs": [
    {
     "data": {
      "text/plain": [
       "''"
      ]
     },
     "execution_count": 11,
     "metadata": {},
     "output_type": "execute_result"
    }
   ],
   "source": [
    "string[-14:12:-1]"
   ]
  },
  {
   "cell_type": "code",
   "execution_count": 16,
   "id": "5c8525ea",
   "metadata": {},
   "outputs": [
    {
     "data": {
      "text/plain": [
       "'ecneics'"
      ]
     },
     "execution_count": 16,
     "metadata": {},
     "output_type": "execute_result"
    }
   ],
   "source": [
    "string[11:-16:-1]"
   ]
  },
  {
   "cell_type": "code",
   "execution_count": 17,
   "id": "1511945d",
   "metadata": {},
   "outputs": [],
   "source": [
    "course=\"Pw skills Data science\""
   ]
  },
  {
   "cell_type": "code",
   "execution_count": 19,
   "id": "7d8952c6",
   "metadata": {},
   "outputs": [
    {
     "data": {
      "text/plain": [
       "'slliks'"
      ]
     },
     "execution_count": 19,
     "metadata": {},
     "output_type": "execute_result"
    }
   ],
   "source": [
    "course[-14:2:-1]"
   ]
  },
  {
   "cell_type": "code",
   "execution_count": 20,
   "id": "adc3a5fe",
   "metadata": {},
   "outputs": [
    {
     "data": {
      "text/plain": [
       "\"Pw skills Data scienceI'm learning throgh this course\""
      ]
     },
     "execution_count": 20,
     "metadata": {},
     "output_type": "execute_result"
    }
   ],
   "source": [
    "course+\"I'm learning throgh this course\""
   ]
  },
  {
   "cell_type": "code",
   "execution_count": 21,
   "id": "26acf392",
   "metadata": {},
   "outputs": [
    {
     "data": {
      "text/plain": [
       "'Pw skills Data sciencePw skills Data sciencePw skills Data sciencePw skills Data sciencePw skills Data sciencePw skills Data sciencePw skills Data sciencePw skills Data sciencePw skills Data sciencePw skills Data science'"
      ]
     },
     "execution_count": 21,
     "metadata": {},
     "output_type": "execute_result"
    }
   ],
   "source": [
    "course*10"
   ]
  },
  {
   "cell_type": "code",
   "execution_count": 22,
   "id": "43bc3c3d",
   "metadata": {},
   "outputs": [
    {
     "data": {
      "text/plain": [
       "'Data science MastersData science MastersData science Masters'"
      ]
     },
     "execution_count": 22,
     "metadata": {},
     "output_type": "execute_result"
    }
   ],
   "source": [
    "string*3"
   ]
  },
  {
   "cell_type": "code",
   "execution_count": 23,
   "id": "4ab0f02a",
   "metadata": {},
   "outputs": [
    {
     "data": {
      "text/plain": [
       "'Pw skills Data scienceData science Masters'"
      ]
     },
     "execution_count": 23,
     "metadata": {},
     "output_type": "execute_result"
    }
   ],
   "source": [
    "course + string"
   ]
  },
  {
   "cell_type": "code",
   "execution_count": 24,
   "id": "2a034d3c",
   "metadata": {},
   "outputs": [
    {
     "data": {
      "text/plain": [
       "'Data science masters'"
      ]
     },
     "execution_count": 24,
     "metadata": {},
     "output_type": "execute_result"
    }
   ],
   "source": [
    "name=\"Data science masters\"\n",
    "str"
   ]
  },
  {
   "cell_type": "code",
   "execution_count": 35,
   "id": "1235495a",
   "metadata": {},
   "outputs": [],
   "source": [
    "course=\"pw skills data science masters 2.0\""
   ]
  },
  {
   "cell_type": "code",
   "execution_count": 28,
   "id": "f062a649",
   "metadata": {},
   "outputs": [
    {
     "data": {
      "text/plain": [
       "22"
      ]
     },
     "execution_count": 28,
     "metadata": {},
     "output_type": "execute_result"
    }
   ],
   "source": [
    "\n",
    "len(course)"
   ]
  },
  {
   "cell_type": "code",
   "execution_count": 29,
   "id": "42e51a6b",
   "metadata": {},
   "outputs": [],
   "source": [
    "name=\"Data Science Masters\""
   ]
  },
  {
   "cell_type": "code",
   "execution_count": 30,
   "id": "f78561ef",
   "metadata": {},
   "outputs": [
    {
     "data": {
      "text/plain": [
       "20"
      ]
     },
     "execution_count": 30,
     "metadata": {},
     "output_type": "execute_result"
    }
   ],
   "source": [
    "len(name)"
   ]
  },
  {
   "cell_type": "code",
   "execution_count": 31,
   "id": "f9112f16",
   "metadata": {},
   "outputs": [
    {
     "data": {
      "text/plain": [
       "5"
      ]
     },
     "execution_count": 31,
     "metadata": {},
     "output_type": "execute_result"
    }
   ],
   "source": [
    "name.find('S')"
   ]
  },
  {
   "cell_type": "code",
   "execution_count": 32,
   "id": "3ab08e53",
   "metadata": {},
   "outputs": [
    {
     "data": {
      "text/plain": [
       "5"
      ]
     },
     "execution_count": 32,
     "metadata": {},
     "output_type": "execute_result"
    }
   ],
   "source": [
    "course.find('i')"
   ]
  },
  {
   "cell_type": "code",
   "execution_count": 33,
   "id": "fc9e9dd5",
   "metadata": {},
   "outputs": [
    {
     "data": {
      "text/plain": [
       "10"
      ]
     },
     "execution_count": 33,
     "metadata": {},
     "output_type": "execute_result"
    }
   ],
   "source": [
    "course.find('D')"
   ]
  },
  {
   "cell_type": "code",
   "execution_count": 34,
   "id": "84687520",
   "metadata": {},
   "outputs": [
    {
     "data": {
      "text/plain": [
       "-1"
      ]
     },
     "execution_count": 34,
     "metadata": {},
     "output_type": "execute_result"
    }
   ],
   "source": [
    "course.find('E')"
   ]
  },
  {
   "cell_type": "code",
   "execution_count": 36,
   "id": "8d3ff914",
   "metadata": {},
   "outputs": [],
   "source": [
    "course=\"Data science job assurence\""
   ]
  },
  {
   "cell_type": "code",
   "execution_count": 37,
   "id": "ecb55de4",
   "metadata": {},
   "outputs": [
    {
     "data": {
      "text/plain": [
       "26"
      ]
     },
     "execution_count": 37,
     "metadata": {},
     "output_type": "execute_result"
    }
   ],
   "source": [
    "len(course)"
   ]
  },
  {
   "cell_type": "code",
   "execution_count": 38,
   "id": "c82445ed",
   "metadata": {},
   "outputs": [
    {
     "data": {
      "text/plain": [
       "13"
      ]
     },
     "execution_count": 38,
     "metadata": {},
     "output_type": "execute_result"
    }
   ],
   "source": [
    "course.find('j')"
   ]
  },
  {
   "cell_type": "code",
   "execution_count": 39,
   "id": "0d19e650",
   "metadata": {},
   "outputs": [
    {
     "data": {
      "text/plain": [
       "-1"
      ]
     },
     "execution_count": 39,
     "metadata": {},
     "output_type": "execute_result"
    }
   ],
   "source": [
    "course.find('E')"
   ]
  },
  {
   "cell_type": "code",
   "execution_count": 40,
   "id": "1baee943",
   "metadata": {},
   "outputs": [
    {
     "data": {
      "text/plain": [
       "-1"
      ]
     },
     "execution_count": 40,
     "metadata": {},
     "output_type": "execute_result"
    }
   ],
   "source": [
    "course.find('A')"
   ]
  },
  {
   "cell_type": "code",
   "execution_count": 41,
   "id": "03c0bcab",
   "metadata": {},
   "outputs": [
    {
     "data": {
      "text/plain": [
       "22"
      ]
     },
     "execution_count": 41,
     "metadata": {},
     "output_type": "execute_result"
    }
   ],
   "source": [
    "course.find('e',12,26)"
   ]
  },
  {
   "cell_type": "code",
   "execution_count": 43,
   "id": "d456736d",
   "metadata": {},
   "outputs": [
    {
     "data": {
      "text/plain": [
       "['Data', 'science', 'job', 'assurence']"
      ]
     },
     "execution_count": 43,
     "metadata": {},
     "output_type": "execute_result"
    }
   ],
   "source": [
    "course.split(' ')"
   ]
  },
  {
   "cell_type": "code",
   "execution_count": 44,
   "id": "6e1046c0",
   "metadata": {},
   "outputs": [],
   "source": [
    "course=\"Decode data science with machine learning\""
   ]
  },
  {
   "cell_type": "code",
   "execution_count": 45,
   "id": "3215e149",
   "metadata": {},
   "outputs": [
    {
     "data": {
      "text/plain": [
       "['Decode', 'data', 'science', 'with', 'machine', 'learning']"
      ]
     },
     "execution_count": 45,
     "metadata": {},
     "output_type": "execute_result"
    }
   ],
   "source": [
    "course.split(' ')"
   ]
  },
  {
   "cell_type": "code",
   "execution_count": 47,
   "id": "680da72f",
   "metadata": {},
   "outputs": [
    {
     "data": {
      "text/plain": [
       "['Decode data science ', 'ith machine learning']"
      ]
     },
     "execution_count": 47,
     "metadata": {},
     "output_type": "execute_result"
    }
   ],
   "source": [
    "course.split('w')"
   ]
  },
  {
   "cell_type": "code",
   "execution_count": 48,
   "id": "66201538",
   "metadata": {},
   "outputs": [
    {
     "data": {
      "text/plain": [
       "('Decode data ', 's', 'cience with machine learning')"
      ]
     },
     "execution_count": 48,
     "metadata": {},
     "output_type": "execute_result"
    }
   ],
   "source": [
    "course.partition('s')"
   ]
  },
  {
   "cell_type": "code",
   "execution_count": 49,
   "id": "1a6d3923",
   "metadata": {},
   "outputs": [],
   "source": [
    "course=\"Decode Data Science With Machine Learning\""
   ]
  },
  {
   "cell_type": "code",
   "execution_count": 51,
   "id": "4d5f73ed",
   "metadata": {},
   "outputs": [
    {
     "data": {
      "text/plain": [
       "'DECODE DATA SCIENCE WITH MACHINE LEARNING'"
      ]
     },
     "execution_count": 51,
     "metadata": {},
     "output_type": "execute_result"
    }
   ],
   "source": [
    "course.upper()"
   ]
  },
  {
   "cell_type": "code",
   "execution_count": 52,
   "id": "c55b0817",
   "metadata": {},
   "outputs": [
    {
     "data": {
      "text/plain": [
       "'decode data science with machine learning'"
      ]
     },
     "execution_count": 52,
     "metadata": {},
     "output_type": "execute_result"
    }
   ],
   "source": [
    "course.lower()"
   ]
  },
  {
   "cell_type": "code",
   "execution_count": 53,
   "id": "9d4454c8",
   "metadata": {},
   "outputs": [
    {
     "data": {
      "text/plain": [
       "'dECODE dATA sCIENCE wITH mACHINE lEARNING'"
      ]
     },
     "execution_count": 53,
     "metadata": {},
     "output_type": "execute_result"
    }
   ],
   "source": [
    "course.swapcase()"
   ]
  },
  {
   "cell_type": "code",
   "execution_count": 54,
   "id": "f01d8cd2",
   "metadata": {},
   "outputs": [
    {
     "data": {
      "text/plain": [
       "42"
      ]
     },
     "execution_count": 54,
     "metadata": {},
     "output_type": "execute_result"
    }
   ],
   "source": [
    "course.count(\"\")"
   ]
  },
  {
   "cell_type": "code",
   "execution_count": 56,
   "id": "acef8d2e",
   "metadata": {},
   "outputs": [
    {
     "data": {
      "text/plain": [
       "'Decode Data Science With Machine Learning'"
      ]
     },
     "execution_count": 56,
     "metadata": {},
     "output_type": "execute_result"
    }
   ],
   "source": [
    "course.title()"
   ]
  },
  {
   "cell_type": "code",
   "execution_count": 58,
   "id": "ab3b23fb",
   "metadata": {},
   "outputs": [
    {
     "data": {
      "text/plain": [
       "41"
      ]
     },
     "execution_count": 58,
     "metadata": {},
     "output_type": "execute_result"
    }
   ],
   "source": [
    "len(course)"
   ]
  },
  {
   "cell_type": "code",
   "execution_count": 61,
   "id": "1808449e",
   "metadata": {},
   "outputs": [
    {
     "data": {
      "text/plain": [
       "7"
      ]
     },
     "execution_count": 61,
     "metadata": {},
     "output_type": "execute_result"
    }
   ],
   "source": [
    "course.find('D',6)"
   ]
  },
  {
   "cell_type": "code",
   "execution_count": null,
   "id": "e4351e1d",
   "metadata": {},
   "outputs": [],
   "source": []
  }
 ],
 "metadata": {
  "kernelspec": {
   "display_name": "Python 3 (ipykernel)",
   "language": "python",
   "name": "python3"
  },
  "language_info": {
   "codemirror_mode": {
    "name": "ipython",
    "version": 3
   },
   "file_extension": ".py",
   "mimetype": "text/x-python",
   "name": "python",
   "nbconvert_exporter": "python",
   "pygments_lexer": "ipython3",
   "version": "3.10.9"
  }
 },
 "nbformat": 4,
 "nbformat_minor": 5
}
