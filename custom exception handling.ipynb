{
 "cells": [
  {
   "cell_type": "code",
   "execution_count": 1,
   "id": "2d355de5",
   "metadata": {},
   "outputs": [
    {
     "name": "stdout",
     "output_type": "stream",
     "text": [
      "enter the age 23\n"
     ]
    }
   ],
   "source": [
    "age=int(input('enter the age '))"
   ]
  },
  {
   "cell_type": "code",
   "execution_count": 2,
   "id": "c0aab4e0",
   "metadata": {},
   "outputs": [],
   "source": [
    "#what if age is too much high and too low and it may be negetive also"
   ]
  },
  {
   "cell_type": "code",
   "execution_count": 3,
   "id": "61a872d3",
   "metadata": {},
   "outputs": [],
   "source": [
    "#so we can use custom exception handling"
   ]
  },
  {
   "cell_type": "code",
   "execution_count": 5,
   "id": "1da439d8",
   "metadata": {},
   "outputs": [],
   "source": [
    "class validateage(Exception):\n",
    "    def __init__(self,msg):\n",
    "        self.msg=msg"
   ]
  },
  {
   "cell_type": "code",
   "execution_count": 6,
   "id": "73f2059d",
   "metadata": {},
   "outputs": [],
   "source": [
    "def validate_age(age):\n",
    "    if age<0:\n",
    "        print('this age is invalid b.cos age is cannot be negetive')\n",
    "    elif age>200:\n",
    "        print('this age is too high')\n",
    "    else:\n",
    "        print('this age is valid')"
   ]
  },
  {
   "cell_type": "code",
   "execution_count": 8,
   "id": "aac1ad45",
   "metadata": {},
   "outputs": [
    {
     "name": "stdout",
     "output_type": "stream",
     "text": [
      "enter the age9779\n",
      "this age is too high\n"
     ]
    }
   ],
   "source": [
    "try:\n",
    "    age=int(input('enter the age'))\n",
    "    validate_age(age)\n",
    "except validateage as e:\n",
    "    print(e)"
   ]
  },
  {
   "cell_type": "code",
   "execution_count": 9,
   "id": "ed138637",
   "metadata": {},
   "outputs": [
    {
     "name": "stdout",
     "output_type": "stream",
     "text": [
      "enter the age-9775654\n",
      "this age is invalid b.cos age is cannot be negetive\n"
     ]
    }
   ],
   "source": [
    "try:\n",
    "    age=int(input('enter the age'))\n",
    "    validate_age(age)\n",
    "except validateage as e:\n",
    "    print(e)"
   ]
  },
  {
   "cell_type": "code",
   "execution_count": 11,
   "id": "c9a48ed5",
   "metadata": {},
   "outputs": [],
   "source": [
    "class pwskills(Exception):\n",
    "    def __init__(self,msg):\n",
    "        self.msg=msg"
   ]
  },
  {
   "cell_type": "code",
   "execution_count": 12,
   "id": "a3f2ad77",
   "metadata": {},
   "outputs": [],
   "source": [
    "def course_price(price):\n",
    "    if price<1000:\n",
    "        print('this is very cheap and affordable')\n",
    "    elif price>=1000 and price<=3500:\n",
    "        print('this is not very cost but it is affordable')\n",
    "    else:\n",
    "        print('the cost is high and it is affordable')"
   ]
  },
  {
   "cell_type": "code",
   "execution_count": 14,
   "id": "ad45f88f",
   "metadata": {},
   "outputs": [
    {
     "name": "stdout",
     "output_type": "stream",
     "text": [
      "enter the cost of the course9000\n",
      "the cost is high and it is affordable\n"
     ]
    }
   ],
   "source": [
    "try:\n",
    "    price=int(input('enter the cost of the course'))\n",
    "    course_price(price)\n",
    "except pwskills:\n",
    "    print(pwskills)"
   ]
  },
  {
   "cell_type": "code",
   "execution_count": null,
   "id": "71fe9453",
   "metadata": {},
   "outputs": [],
   "source": []
  }
 ],
 "metadata": {
  "kernelspec": {
   "display_name": "Python 3 (ipykernel)",
   "language": "python",
   "name": "python3"
  },
  "language_info": {
   "codemirror_mode": {
    "name": "ipython",
    "version": 3
   },
   "file_extension": ".py",
   "mimetype": "text/x-python",
   "name": "python",
   "nbconvert_exporter": "python",
   "pygments_lexer": "ipython3",
   "version": "3.10.9"
  }
 },
 "nbformat": 4,
 "nbformat_minor": 5
}
