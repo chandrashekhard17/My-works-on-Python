{
 "cells": [
  {
   "cell_type": "code",
   "execution_count": 1,
   "id": "3ca82ffd",
   "metadata": {},
   "outputs": [],
   "source": [
    "import multiprocessing"
   ]
  },
  {
   "cell_type": "code",
   "execution_count": 2,
   "id": "9be38ff7",
   "metadata": {},
   "outputs": [],
   "source": [
    "def test():\n",
    "    print('this is my multiprocessing program')"
   ]
  },
  {
   "cell_type": "code",
   "execution_count": 3,
   "id": "05c2c039",
   "metadata": {},
   "outputs": [
    {
     "name": "stdout",
     "output_type": "stream",
     "text": [
      "this is my multiprocessing program\n"
     ]
    }
   ],
   "source": [
    "test()"
   ]
  },
  {
   "cell_type": "code",
   "execution_count": 12,
   "id": "a0ffedaf",
   "metadata": {},
   "outputs": [
    {
     "name": "stdout",
     "output_type": "stream",
     "text": [
      "this is also statement regarding my concept\n"
     ]
    }
   ],
   "source": [
    "import multiprocessing\n",
    "def test1():\n",
    "    print('this is my multiprocesing programme')\n",
    "    \n",
    "if __name__=='__main__':\n",
    "    m = multiprocessing.Process(target=test)\n",
    "    print('this is also statement regarding my concept')\n",
    "    m.start()\n",
    "    m.join()"
   ]
  },
  {
   "cell_type": "code",
   "execution_count": 15,
   "id": "346765b1",
   "metadata": {},
   "outputs": [
    {
     "name": "stdout",
     "output_type": "stream",
     "text": [
      "this is also a statement regarding my concept\n"
     ]
    }
   ],
   "source": [
    "import multiprocessing\n",
    "\n",
    "def test1():\n",
    "    print('this is my multiprocessing program')\n",
    "\n",
    "if __name__ == '__main__':\n",
    "    m = multiprocessing.Process(target=test1)  # Fix: use target=test1\n",
    "    print('this is also a statement regarding my concept')\n",
    "    m.start()\n",
    "    m.join()  # Fix: indent this line to be part of the if __name__ block\n"
   ]
  },
  {
   "cell_type": "code",
   "execution_count": 16,
   "id": "543d1bc0",
   "metadata": {},
   "outputs": [],
   "source": [
    "import multiprocessing\n",
    "def test1():\n",
    "    print('this is my multiprocesing programme')\n",
    "    \n"
   ]
  },
  {
   "cell_type": "code",
   "execution_count": null,
   "id": "1b9ba9b6",
   "metadata": {},
   "outputs": [],
   "source": [
    "if __name__=='__main__':\n",
    "    m = multiprocessing.Process(target=test1)\n",
    "    print('this is also statement regarding my concept')\n",
    "    m.start()\n",
    "    m.join()"
   ]
  },
  {
   "cell_type": "code",
   "execution_count": null,
   "id": "5c39239c",
   "metadata": {},
   "outputs": [],
   "source": [
    "import multiprocessing\n",
    "\n",
    "def square(n):\n",
    "    return n**2\n",
    "    \n",
    "if __name__=='__main__':\n",
    "    with multiprocessing.Pool(processes=6) as pool:\n",
    "        out=pool.map(square,[2,3,4,5,6,7,8,3,3,456,33])\n",
    "        print(out)"
   ]
  },
  {
   "cell_type": "code",
   "execution_count": null,
   "id": "03c4b1c5",
   "metadata": {},
   "outputs": [],
   "source": [
    "import multiprocessing\n",
    "\n",
    "def square(n):\n",
    "    return n**2\n",
    "\n",
    "def main():\n",
    "    with multiprocessing.Pool(processes=7) as pool:\n",
    "        out = map(square,[7,3,2,2,35,5,7,32,3,6,2,8])\n",
    "        print(out)"
   ]
  },
  {
   "cell_type": "code",
   "execution_count": 5,
   "id": "813c1a48",
   "metadata": {},
   "outputs": [],
   "source": [
    "import multiprocessing\n",
    "\n",
    "def producer(q):\n",
    "    for i in [\"sudh\",'kumar','pwskills','krish','naik']:\n",
    "        q.put(i)\n",
    "        \n",
    "def consumer(q):\n",
    "    while True:\n",
    "        item=q.get()\n",
    "        if item is None:\n",
    "            break\n",
    "        print(item)\n",
    "        \n",
    "if __name__=='__main__':\n",
    "    queue=multiprocessing.Queue()\n",
    "    q1=multiprocessing.Process(target=producer,args=(queue,))\n",
    "    q2=multiprocessing.Process(target=consumer,args=(queue,))\n",
    "    q1.start()\n",
    "    q2.start()\n",
    "    queue.put(\"Hi iam chandrashekhar\")\n",
    "    q1.join()\n",
    "    q2.join()\n",
    "    \n",
    "        "
   ]
  },
  {
   "cell_type": "code",
   "execution_count": null,
   "id": "b1901631",
   "metadata": {},
   "outputs": [],
   "source": []
  }
 ],
 "metadata": {
  "kernelspec": {
   "display_name": "Python 3 (ipykernel)",
   "language": "python",
   "name": "python3"
  },
  "language_info": {
   "codemirror_mode": {
    "name": "ipython",
    "version": 3
   },
   "file_extension": ".py",
   "mimetype": "text/x-python",
   "name": "python",
   "nbconvert_exporter": "python",
   "pygments_lexer": "ipython3",
   "version": "3.10.9"
  }
 },
 "nbformat": 4,
 "nbformat_minor": 5
}
