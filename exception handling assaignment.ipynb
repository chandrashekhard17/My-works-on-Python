{
 "cells": [
  {
   "cell_type": "markdown",
   "id": "bb1d58a3",
   "metadata": {},
   "source": [
    "#1..Exception is if any statement is having error and its maintain its flow of execution"
   ]
  },
  {
   "cell_type": "markdown",
   "id": "2934522a",
   "metadata": {},
   "source": [
    "Exceptions can occur for various reasons, such as dividing by zero, accessing an index that is out of range, or trying to open a file that doesn't exist. Python provides a mechanism to catch and handle exceptions using try-except blocks. The basic syntax for a try-except block looks like this:"
   ]
  },
  {
   "cell_type": "markdown",
   "id": "04c31929",
   "metadata": {},
   "source": [
    "On the other hand, a syntax error is a type of error that occurs when the Python interpreter encounters code that violates the language's syntax rules. Syntax errors are detected during the parsing of the code and prevent the program from running. Examples of syntax errors include missing colons, unmatched parentheses, or using keywords as variable names.\n",
    "\n",
    "Here's an example of a synt"
   ]
  },
  {
   "cell_type": "markdown",
   "id": "3cf0fe81",
   "metadata": {},
   "source": [
    "#2..If an exception is not handled in a program, it will propagate up the call stack, potentially causing the program to terminate abruptly. When an exception is not caught and handled, the default behavior is to display an error message, along with a traceback that indicates where the exception occurred."
   ]
  },
  {
   "cell_type": "code",
   "execution_count": 1,
   "id": "4725bfc9",
   "metadata": {},
   "outputs": [
    {
     "ename": "ZeroDivisionError",
     "evalue": "division by zero",
     "output_type": "error",
     "traceback": [
      "\u001b[1;31m---------------------------------------------------------------------------\u001b[0m",
      "\u001b[1;31mZeroDivisionError\u001b[0m                         Traceback (most recent call last)",
      "Cell \u001b[1;32mIn[1], line 3\u001b[0m\n\u001b[0;32m      1\u001b[0m \u001b[38;5;66;03m# Example: Division by zero without handling the exception\u001b[39;00m\n\u001b[1;32m----> 3\u001b[0m result \u001b[38;5;241m=\u001b[39m \u001b[38;5;241;43m10\u001b[39;49m\u001b[43m \u001b[49m\u001b[38;5;241;43m/\u001b[39;49m\u001b[43m \u001b[49m\u001b[38;5;241;43m0\u001b[39;49m  \u001b[38;5;66;03m# This will raise a ZeroDivisionError\u001b[39;00m\n\u001b[0;32m      4\u001b[0m \u001b[38;5;28mprint\u001b[39m(\u001b[38;5;124m\"\u001b[39m\u001b[38;5;124mThis line will not be executed.\u001b[39m\u001b[38;5;124m\"\u001b[39m)\n",
      "\u001b[1;31mZeroDivisionError\u001b[0m: division by zero"
     ]
    }
   ],
   "source": [
    "# Example: Division by zero without handling the exception\n",
    "\n",
    "result = 10 / 0  # This will raise a ZeroDivisionError\n",
    "print(\"This line will not be executed.\")\n"
   ]
  },
  {
   "cell_type": "markdown",
   "id": "1f343c46",
   "metadata": {},
   "source": [
    "#3..\n",
    "*try\n",
    "*except\n",
    "*else\n",
    "*finally"
   ]
  },
  {
   "cell_type": "code",
   "execution_count": 4,
   "id": "721bfe8d",
   "metadata": {},
   "outputs": [
    {
     "name": "stdout",
     "output_type": "stream",
     "text": [
      "this is an error statement right?\n",
      "this is final statement which is either true or false statement\n"
     ]
    }
   ],
   "source": [
    "try:\n",
    "    a=10\n",
    "    a/0\n",
    "except:\n",
    "    print('this is an error statement right?')\n",
    "else:\n",
    "    print('this is an else statement')\n",
    "finally:\n",
    "    print('this is final statement which is either true or false statement')\n"
   ]
  },
  {
   "cell_type": "code",
   "execution_count": 5,
   "id": "b1a1b38b",
   "metadata": {},
   "outputs": [
    {
     "name": "stdout",
     "output_type": "stream",
     "text": [
      "Enter a number: 097\n",
      "The result is: 0.10309278350515463\n"
     ]
    }
   ],
   "source": [
    "#4..\n",
    "try:\n",
    "    x = int(input(\"Enter a number: \"))\n",
    "    result = 10 / x\n",
    "\n",
    "except ValueError:\n",
    "    print(\"Invalid input. Please enter a valid number.\")\n",
    "\n",
    "\n",
    "else:\n",
    "    print(f\"The result is: {result}\")\n"
   ]
  },
  {
   "cell_type": "code",
   "execution_count": 7,
   "id": "8fd7bdc1",
   "metadata": {},
   "outputs": [
    {
     "name": "stdout",
     "output_type": "stream",
     "text": [
      "Enter a number: 0\n",
      "An error occurred: division by zero\n",
      "This block always executes.\n"
     ]
    }
   ],
   "source": [
    "try:\n",
    "    x = int(input(\"Enter a number: \"))\n",
    "    result = 10 / x\n",
    "\n",
    "except Exception as e:\n",
    "    print(f\"An error occurred: {e}\")\n",
    "\n",
    "finally:\n",
    "    print(\"This block always executes.\")\n"
   ]
  },
  {
   "cell_type": "markdown",
   "id": "7b4804b0",
   "metadata": {},
   "source": [
    "#5..\n",
    "Specificity: Custom exceptions allow you to create more specific and meaningful error classes that convey the nature of the problem. This can make it easier to diagnose issues when they occur.\n",
    "\n",
    "Modularity: When you use custom exceptions, you encapsulate error-handling logic within the exception class itself. This makes your code more modular, separating concerns related to error handling from the rest of your application logic.\n",
    "\n",
    "Readability: Custom exceptions can make your code more readable by providing a clear and concise way to handle exceptional conditions. This is especially useful when collaborating with other developers or maintaining code over time."
   ]
  },
  {
   "cell_type": "code",
   "execution_count": 8,
   "id": "9487ecb4",
   "metadata": {},
   "outputs": [
    {
     "name": "stdout",
     "output_type": "stream",
     "text": [
      "enter the age78\n",
      "this age is valid\n"
     ]
    }
   ],
   "source": [
    "#5..\n",
    "class validateage(Exception):\n",
    "    def __init__(self,msg):\n",
    "        self.msg=msg\n",
    "def validate_age(age):\n",
    "    if age<0:\n",
    "        print('this age is invalid b.cos age is cannot be negetive')\n",
    "    elif age>200:\n",
    "        print('this age is too high')\n",
    "    else:\n",
    "        print('this age is valid')\n",
    "try:\n",
    "    age=int(input('enter the age'))\n",
    "    validate_age(age)\n",
    "except validateage as e:\n",
    "    print(e)"
   ]
  },
  {
   "cell_type": "code",
   "execution_count": null,
   "id": "826d24d0",
   "metadata": {},
   "outputs": [],
   "source": []
  }
 ],
 "metadata": {
  "kernelspec": {
   "display_name": "Python 3 (ipykernel)",
   "language": "python",
   "name": "python3"
  },
  "language_info": {
   "codemirror_mode": {
    "name": "ipython",
    "version": 3
   },
   "file_extension": ".py",
   "mimetype": "text/x-python",
   "name": "python",
   "nbconvert_exporter": "python",
   "pygments_lexer": "ipython3",
   "version": "3.10.9"
  }
 },
 "nbformat": 4,
 "nbformat_minor": 5
}
