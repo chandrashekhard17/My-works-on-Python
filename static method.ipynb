{
 "cells": [
  {
   "cell_type": "code",
   "execution_count": 1,
   "id": "dff6bdd8",
   "metadata": {},
   "outputs": [],
   "source": [
    "class pwskills:\n",
    "    def student_details(self,name,email,number):\n",
    "        print(name, email, number)"
   ]
  },
  {
   "cell_type": "code",
   "execution_count": 3,
   "id": "24a1d81e",
   "metadata": {},
   "outputs": [
    {
     "name": "stdout",
     "output_type": "stream",
     "text": [
      "chiranth chiranth@gmail.com 79796606759\n"
     ]
    }
   ],
   "source": [
    "pw1 = pwskills()\n",
    "pw1.student_details('chiranth','chiranth@gmail.com',79796606759)"
   ]
  },
  {
   "cell_type": "code",
   "execution_count": 13,
   "id": "db14b776",
   "metadata": {},
   "outputs": [],
   "source": [
    "class pwskills:\n",
    "    def student_details(self,name,email,number):\n",
    "        print(name, email, number)\n",
    "        \n",
    "    @staticmethod\n",
    "    def mentor(mentor_list):\n",
    "        print(mentor_list)\n",
    "        \n",
    "    def list_mentor(self,mentor):\n",
    "        print(mentor)"
   ]
  },
  {
   "cell_type": "code",
   "execution_count": 14,
   "id": "cacf698c",
   "metadata": {},
   "outputs": [],
   "source": [
    "pw2=pwskills()"
   ]
  },
  {
   "cell_type": "code",
   "execution_count": 15,
   "id": "2c923055",
   "metadata": {},
   "outputs": [
    {
     "name": "stdout",
     "output_type": "stream",
     "text": [
      "['krish', 'sudh']\n"
     ]
    }
   ],
   "source": [
    "pw2.list_mentor(['krish','sudh'])"
   ]
  },
  {
   "cell_type": "code",
   "execution_count": 16,
   "id": "953e00c4",
   "metadata": {},
   "outputs": [
    {
     "name": "stdout",
     "output_type": "stream",
     "text": [
      "['krish', 'sudh']\n"
     ]
    }
   ],
   "source": [
    "pwskills.mentor(['krish','sudh'])"
   ]
  },
  {
   "cell_type": "code",
   "execution_count": 17,
   "id": "26ad8bb5",
   "metadata": {},
   "outputs": [
    {
     "name": "stdout",
     "output_type": "stream",
     "text": [
      "chiranth chiranth@gmail.com 9709878786\n"
     ]
    }
   ],
   "source": [
    "pw2.student_details('chiranth','chiranth@gmail.com',9709878786)"
   ]
  },
  {
   "cell_type": "code",
   "execution_count": 18,
   "id": "fcdc0a90",
   "metadata": {},
   "outputs": [
    {
     "ename": "NameError",
     "evalue": "name 'mentor' is not defined",
     "output_type": "error",
     "traceback": [
      "\u001b[1;31m---------------------------------------------------------------------------\u001b[0m",
      "\u001b[1;31mNameError\u001b[0m                                 Traceback (most recent call last)",
      "Cell \u001b[1;32mIn[18], line 1\u001b[0m\n\u001b[1;32m----> 1\u001b[0m pwskills\u001b[38;5;241m.\u001b[39mlist_mentor(\u001b[43mmentor\u001b[49m)\n",
      "\u001b[1;31mNameError\u001b[0m: name 'mentor' is not defined"
     ]
    }
   ],
   "source": [
    "pwskills.list_mentor(mentor)"
   ]
  },
  {
   "cell_type": "code",
   "execution_count": 33,
   "id": "46e34288",
   "metadata": {},
   "outputs": [],
   "source": [
    "class pwskills:\n",
    "    def student_details(self,name,email,number):\n",
    "        print(name, email, number)\n",
    "        \n",
    "    @staticmethod\n",
    "    def mentor_mail_id(mail_id):\n",
    "        print(mail_id)\n",
    "        \n",
    "    @staticmethod\n",
    "    def mentor(mentor_list):\n",
    "        print(mentor_list)\n",
    "        \n",
    "    @classmethod\n",
    "    def class_name(cls,class_name):\n",
    "        cls.mentor(('sudh','krish'))\n",
    "        \n",
    "        \n",
    "    def list_mentor(self,mentor):\n",
    "        print(mentor)"
   ]
  },
  {
   "cell_type": "code",
   "execution_count": 34,
   "id": "714496b0",
   "metadata": {},
   "outputs": [],
   "source": [
    "pw3 = pwskills()\n"
   ]
  },
  {
   "cell_type": "code",
   "execution_count": 35,
   "id": "fe296c52",
   "metadata": {},
   "outputs": [
    {
     "name": "stdout",
     "output_type": "stream",
     "text": [
      "mohan mohan@gmail.com 978676978759\n"
     ]
    }
   ],
   "source": [
    "pw3.student_details('mohan','mohan@gmail.com',978676978759)"
   ]
  },
  {
   "cell_type": "code",
   "execution_count": 36,
   "id": "acb9e1ce",
   "metadata": {},
   "outputs": [
    {
     "name": "stdout",
     "output_type": "stream",
     "text": [
      "['sudh@gmail.com', 'krish@gmail.com']\n"
     ]
    }
   ],
   "source": [
    "pw3.mentor_mail_id(['sudh@gmail.com','krish@gmail.com'])"
   ]
  },
  {
   "cell_type": "code",
   "execution_count": 37,
   "id": "a4a718d1",
   "metadata": {},
   "outputs": [
    {
     "name": "stdout",
     "output_type": "stream",
     "text": [
      "['arun@gmail.com', 'varun@gmail.com', 'kiran@gmail.com']\n"
     ]
    }
   ],
   "source": [
    "pwskills.mentor_mail_id(['arun@gmail.com','varun@gmail.com','kiran@gmail.com'])"
   ]
  },
  {
   "cell_type": "code",
   "execution_count": 38,
   "id": "6057b370",
   "metadata": {},
   "outputs": [
    {
     "name": "stdout",
     "output_type": "stream",
     "text": [
      "('arun', 'varun', 'kiran', 'krish', 'naik', 'sudh')\n"
     ]
    }
   ],
   "source": [
    "pwskills.mentor(('arun','varun','kiran','krish','naik','sudh'))"
   ]
  },
  {
   "cell_type": "code",
   "execution_count": 39,
   "id": "0e1a7efa",
   "metadata": {},
   "outputs": [
    {
     "name": "stdout",
     "output_type": "stream",
     "text": [
      "('arun', 'kiran', 'manu')\n"
     ]
    }
   ],
   "source": [
    "pw3.mentor(('arun','kiran','manu'))"
   ]
  },
  {
   "cell_type": "code",
   "execution_count": 40,
   "id": "18f04894",
   "metadata": {},
   "outputs": [
    {
     "name": "stdout",
     "output_type": "stream",
     "text": [
      "('sudh', 'krish')\n"
     ]
    }
   ],
   "source": [
    "pwskills.class_name('data science master')"
   ]
  },
  {
   "cell_type": "code",
   "execution_count": 41,
   "id": "cde195fb",
   "metadata": {},
   "outputs": [
    {
     "name": "stdout",
     "output_type": "stream",
     "text": [
      "('sudh', 'krish')\n"
     ]
    }
   ],
   "source": [
    "pw3.class_name('web dev')"
   ]
  },
  {
   "cell_type": "code",
   "execution_count": null,
   "id": "1fef4974",
   "metadata": {},
   "outputs": [],
   "source": []
  }
 ],
 "metadata": {
  "kernelspec": {
   "display_name": "Python 3 (ipykernel)",
   "language": "python",
   "name": "python3"
  },
  "language_info": {
   "codemirror_mode": {
    "name": "ipython",
    "version": 3
   },
   "file_extension": ".py",
   "mimetype": "text/x-python",
   "name": "python",
   "nbconvert_exporter": "python",
   "pygments_lexer": "ipython3",
   "version": "3.10.9"
  }
 },
 "nbformat": 4,
 "nbformat_minor": 5
}
