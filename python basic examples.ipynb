{
 "cells": [
  {
   "cell_type": "code",
   "execution_count": 2,
   "id": "697ee2d9",
   "metadata": {},
   "outputs": [
    {
     "name": "stdout",
     "output_type": "stream",
     "text": [
      "enter the value of num1:10\n",
      "enter the value of num2:5\n",
      "The sum of the 10 and 5 is 15\n",
      "The substraction of the 10 and 5 is 5\n",
      "The product of the 10 and 5 is 50\n",
      "The sum of the 10 and 5 is 2.0\n"
     ]
    }
   ],
   "source": [
    "num1=int(input(\"enter the value of num1:\"))\n",
    "num2=int(input(\"enter the value of num2:\"))\n",
    "sum=num1+num2\n",
    "print(f'The sum of the {num1} and {num2} is {sum}')\n",
    "sum=num1-num2\n",
    "print(f'The substraction of the {num1} and {num2} is {sum}')\n",
    "sum=num1*num2\n",
    "print(f'The product of the {num1} and {num2} is {sum}')\n",
    "sum=num1/num2\n",
    "print(f'The sum of the {num1} and {num2} is {sum}')"
   ]
  },
  {
   "cell_type": "code",
   "execution_count": 3,
   "id": "740a0f0f",
   "metadata": {},
   "outputs": [
    {
     "name": "stdout",
     "output_type": "stream",
     "text": [
      "enter the number8\n",
      "the given 8 is even\n"
     ]
    }
   ],
   "source": [
    "num=int(input('enter the number'))\n",
    "if num%2==0:\n",
    "    print(f'the given {num} is even')\n",
    "else:\n",
    "    print(f'the given {num} is odd')"
   ]
  },
  {
   "cell_type": "code",
   "execution_count": 4,
   "id": "28bc3450",
   "metadata": {},
   "outputs": [
    {
     "name": "stdout",
     "output_type": "stream",
     "text": [
      "enter the number5\n",
      "the given 5 is odd\n"
     ]
    }
   ],
   "source": [
    "num=int(input('enter the number'))\n",
    "if num%2==0:\n",
    "    print(f'the given {num} is even')\n",
    "else:\n",
    "    print(f'the given {num} is odd')"
   ]
  },
  {
   "cell_type": "code",
   "execution_count": 9,
   "id": "adc77625",
   "metadata": {},
   "outputs": [
    {
     "name": "stdout",
     "output_type": "stream",
     "text": [
      "enter the integer:5\n",
      "factorial of number is 120\n"
     ]
    }
   ],
   "source": [
    "#factorial without using a function\n",
    "num=int(input('enter the integer:'))\n",
    "if num==0 and num==1:\n",
    "    print(f\"The factorial of a {num} is 1\")\n",
    "else:\n",
    "    fact=1\n",
    "    for i in range(2,num+1):\n",
    "        fact*=i\n",
    "    print(f\"factorial of number is {fact}\")"
   ]
  },
  {
   "cell_type": "code",
   "execution_count": 12,
   "id": "5fa75123",
   "metadata": {},
   "outputs": [
    {
     "name": "stdout",
     "output_type": "stream",
     "text": [
      "enter the number:3321\n",
      "THe 3321 is not a palinfrome\n"
     ]
    }
   ],
   "source": [
    "#palindrome for a number \n",
    "num=int(input('enter the number:'))\n",
    "m=num\n",
    "rev=0\n",
    "while num!=0:\n",
    "    rem=num%10\n",
    "    rev=rev*10+rem\n",
    "    num=num//10\n",
    "if m==rev:\n",
    "    print(f'The {m} is palindrome')\n",
    "else:\n",
    "    print(f'THe {m} is not a palinfrome')"
   ]
  },
  {
   "cell_type": "code",
   "execution_count": 13,
   "id": "e4662cdf",
   "metadata": {},
   "outputs": [
    {
     "name": "stdout",
     "output_type": "stream",
     "text": [
      "enter the number:1221\n",
      "The 1221 is palindrome\n"
     ]
    }
   ],
   "source": [
    "#palindrome for a number \n",
    "num=int(input('enter the number:'))\n",
    "m=num\n",
    "rev=0\n",
    "while num!=0:\n",
    "    rem=num%10\n",
    "    rev=rev*10+rem\n",
    "    num=num//10\n",
    "if m==rev:\n",
    "    print(f'The {m} is palindrome')\n",
    "else:\n",
    "    print(f'THe {m} is not a palinfrome')"
   ]
  },
  {
   "cell_type": "code",
   "execution_count": 16,
   "id": "9c4b6407",
   "metadata": {},
   "outputs": [
    {
     "name": "stdout",
     "output_type": "stream",
     "text": [
      "enter the strings:malayalam\n",
      "The malayalam is palindrome\n"
     ]
    }
   ],
   "source": [
    "#palindrome for strings\n",
    "word=input('enter the strings:')\n",
    "rev=word[::-1]\n",
    "if word==rev:\n",
    "    print(f\"The {word} is palindrome\")\n",
    "else:\n",
    "    print(f\"the {word} is not a palindrome\")"
   ]
  },
  {
   "cell_type": "code",
   "execution_count": 17,
   "id": "e1b63ba2",
   "metadata": {},
   "outputs": [
    {
     "name": "stdout",
     "output_type": "stream",
     "text": [
      "enter the strings:karnataka\n",
      "the karnataka is not a palindrome\n"
     ]
    }
   ],
   "source": [
    "#palindrome for strings\n",
    "word=input('enter the strings:')\n",
    "rev=word[::-1]\n",
    "if word==rev:\n",
    "    print(f\"The {word} is palindrome\")\n",
    "else:\n",
    "    print(f\"the {word} is not a palindrome\")"
   ]
  },
  {
   "cell_type": "code",
   "execution_count": 23,
   "id": "51064ab5",
   "metadata": {},
   "outputs": [
    {
     "name": "stdout",
     "output_type": "stream",
     "text": [
      "enter the integer5\n",
      "The 5 is not a prime number\n"
     ]
    }
   ],
   "source": [
    "#prime numbers\n",
    "num=int(input(\"enter the integer\"))\n",
    "if num==0 and num==1:\n",
    "    print(f\"The prime of {num} is 1\")\n",
    "elif num/2==0:\n",
    "    print(f\"The {num} is prime number\")\n",
    "else:\n",
    "    print(f\"The {num} is not a prime number\")"
   ]
  },
  {
   "cell_type": "code",
   "execution_count": null,
   "id": "04ff18d7",
   "metadata": {},
   "outputs": [],
   "source": [
    "num = int(input(\"Enter an integer: \"))\n",
    "\n",
    "1if num == 0 or num == 1:\n",
    "    print(f\"The prime factor of {num} is 1\")\n",
    "elif num == 2:\n",
    "    print(f\"The prime factor of {num} is 2\")\n",
    "else:\n",
    "    is_prime = True\n",
    "    for i in range(2, int(num**0.5) + 1):\n",
    "        if num % i == 0:\n",
    "            is_prime = False\n",
    "            break\n",
    "\n",
    "    if is_prime:\n",
    "        print(f\"The {num} is a prime number\")\n",
    "    else:\n",
    "        print(f\"The {num} is not a prime number\")\n"
   ]
  },
  {
   "cell_type": "code",
   "execution_count": 22,
   "id": "d0a3cfb5",
   "metadata": {},
   "outputs": [
    {
     "name": "stdout",
     "output_type": "stream",
     "text": [
      "enter the integer54\n",
      "The 54 is not a prime number\n"
     ]
    }
   ],
   "source": [
    "#prime numbers\n",
    "num=int(input(\"enter the integer\"))\n",
    "if num==0 and num==1:\n",
    "    print(f\"The prime of {num} is 1\")\n",
    "elif num/2==0:\n",
    "    print(f\"The {num} is prime number\")\n",
    "else:\n",
    "    print(f\"The {num} is not a prime number\")"
   ]
  },
  {
   "cell_type": "code",
   "execution_count": 24,
   "id": "8b229c89",
   "metadata": {},
   "outputs": [
    {
     "name": "stdout",
     "output_type": "stream",
     "text": [
      "enter the number5\n"
     ]
    },
    {
     "ename": "SyntaxError",
     "evalue": "'continue' not properly in loop (2668900051.py, line 4)",
     "output_type": "error",
     "traceback": [
      "\u001b[1;36m  Cell \u001b[1;32mIn[24], line 4\u001b[1;36m\u001b[0m\n\u001b[1;33m    continue\u001b[0m\n\u001b[1;37m    ^\u001b[0m\n\u001b[1;31mSyntaxError\u001b[0m\u001b[1;31m:\u001b[0m 'continue' not properly in loop\n"
     ]
    }
   ],
   "source": [
    "#fibbonaccie sequence\n",
    "num=int(input('enter the number'))\n",
    "if num==0 and num==1:\n",
    "    continue\n",
    "else:\n",
    "    fib=(num-1)+(num-2)\n",
    "    print(f\"The fibbonaccie of {num} is {fib}\")"
   ]
  },
  {
   "cell_type": "code",
   "execution_count": 25,
   "id": "eebe780a",
   "metadata": {},
   "outputs": [
    {
     "name": "stdout",
     "output_type": "stream",
     "text": [
      "Enter the number: 6\n",
      "The Fibonacci of 6 is [0, 1, 1, 2, 3, 5]\n"
     ]
    }
   ],
   "source": [
    "num = int(input('Enter the number: '))\n",
    "\n",
    "if num == 0 or num == 1:\n",
    "    fib = num\n",
    "else:\n",
    "    fib = [0, 1]\n",
    "    for i in range(2, num):\n",
    "        fib.append(fib[i-1] + fib[i-2])\n",
    "\n",
    "print(f\"The Fibonacci of {num} is {fib}\")\n"
   ]
  },
  {
   "cell_type": "code",
   "execution_count": null,
   "id": "596ec68b",
   "metadata": {},
   "outputs": [],
   "source": []
  }
 ],
 "metadata": {
  "kernelspec": {
   "display_name": "Python 3 (ipykernel)",
   "language": "python",
   "name": "python3"
  },
  "language_info": {
   "codemirror_mode": {
    "name": "ipython",
    "version": 3
   },
   "file_extension": ".py",
   "mimetype": "text/x-python",
   "name": "python",
   "nbconvert_exporter": "python",
   "pygments_lexer": "ipython3",
   "version": "3.10.9"
  }
 },
 "nbformat": 4,
 "nbformat_minor": 5
}
