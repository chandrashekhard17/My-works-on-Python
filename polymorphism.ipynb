{
 "cells": [
  {
   "cell_type": "code",
   "execution_count": 1,
   "id": "87e22918",
   "metadata": {},
   "outputs": [],
   "source": [
    "def test(a,b):\n",
    "    return a+b\n"
   ]
  },
  {
   "cell_type": "code",
   "execution_count": 2,
   "id": "98ad70fc",
   "metadata": {},
   "outputs": [
    {
     "data": {
      "text/plain": [
       "8"
      ]
     },
     "execution_count": 2,
     "metadata": {},
     "output_type": "execute_result"
    }
   ],
   "source": [
    "test(3,5)"
   ]
  },
  {
   "cell_type": "code",
   "execution_count": 3,
   "id": "7446508c",
   "metadata": {},
   "outputs": [
    {
     "data": {
      "text/plain": [
       "'sudhkumar'"
      ]
     },
     "execution_count": 3,
     "metadata": {},
     "output_type": "execute_result"
    }
   ],
   "source": [
    "test('sudh','kumar')"
   ]
  },
  {
   "cell_type": "code",
   "execution_count": 5,
   "id": "5595ccf0",
   "metadata": {},
   "outputs": [
    {
     "data": {
      "text/plain": [
       "[1, 2, 3, 4, 5, 6, 1, 24, 4, 5, 7]"
      ]
     },
     "execution_count": 5,
     "metadata": {},
     "output_type": "execute_result"
    }
   ],
   "source": [
    "test([1,2,3,4,5,6],[1,24,4,5,7])"
   ]
  },
  {
   "cell_type": "code",
   "execution_count": 9,
   "id": "4065293d",
   "metadata": {},
   "outputs": [
    {
     "name": "stdout",
     "output_type": "stream",
     "text": [
      "['virat', 'kohli', 'dhoni', 'ms', 'sachin', 'vijay', 'arun', 'varun', 'sumanth']"
     ]
    }
   ],
   "source": [
    "print(f\"{test(['virat','kohli','dhoni','ms','sachin'],['vijay','arun','varun','sumanth'])}\",end='')"
   ]
  },
  {
   "cell_type": "code",
   "execution_count": 13,
   "id": "ad5b0a7c",
   "metadata": {},
   "outputs": [
    {
     "ename": "TypeError",
     "evalue": "unsupported operand type(s) for +: 'set' and 'set'",
     "output_type": "error",
     "traceback": [
      "\u001b[1;31m---------------------------------------------------------------------------\u001b[0m",
      "\u001b[1;31mTypeError\u001b[0m                                 Traceback (most recent call last)",
      "Cell \u001b[1;32mIn[13], line 1\u001b[0m\n\u001b[1;32m----> 1\u001b[0m \u001b[43mtest\u001b[49m\u001b[43m(\u001b[49m\u001b[43m{\u001b[49m\u001b[38;5;124;43m'\u001b[39;49m\u001b[38;5;124;43mvirat\u001b[39;49m\u001b[38;5;124;43m'\u001b[39;49m\u001b[43m,\u001b[49m\u001b[38;5;124;43m'\u001b[39;49m\u001b[38;5;124;43manushka\u001b[39;49m\u001b[38;5;124;43m'\u001b[39;49m\u001b[43m,\u001b[49m\u001b[38;5;124;43m'\u001b[39;49m\u001b[38;5;124;43mdhoni\u001b[39;49m\u001b[38;5;124;43m'\u001b[39;49m\u001b[43m,\u001b[49m\u001b[38;5;124;43m'\u001b[39;49m\u001b[38;5;124;43msakshi\u001b[39;49m\u001b[38;5;124;43m'\u001b[39;49m\u001b[43m,\u001b[49m\u001b[38;5;124;43m'\u001b[39;49m\u001b[38;5;124;43mrohit\u001b[39;49m\u001b[38;5;124;43m'\u001b[39;49m\u001b[43m,\u001b[49m\u001b[38;5;124;43m'\u001b[39;49m\u001b[38;5;124;43mritika\u001b[39;49m\u001b[38;5;124;43m'\u001b[39;49m\u001b[43m}\u001b[49m\u001b[43m,\u001b[49m\u001b[43m{\u001b[49m\u001b[38;5;124;43m'\u001b[39;49m\u001b[38;5;124;43marun\u001b[39;49m\u001b[38;5;124;43m'\u001b[39;49m\u001b[43m,\u001b[49m\u001b[38;5;124;43m'\u001b[39;49m\u001b[38;5;124;43mjyoti\u001b[39;49m\u001b[38;5;124;43m'\u001b[39;49m\u001b[43m,\u001b[49m\u001b[38;5;124;43m'\u001b[39;49m\u001b[38;5;124;43mshubmann\u001b[39;49m\u001b[38;5;124;43m'\u001b[39;49m\u001b[43m,\u001b[49m\u001b[38;5;124;43m'\u001b[39;49m\u001b[38;5;124;43msara\u001b[39;49m\u001b[38;5;124;43m'\u001b[39;49m\u001b[43m,\u001b[49m\u001b[38;5;124;43m'\u001b[39;49m\u001b[38;5;124;43mjohny\u001b[39;49m\u001b[38;5;124;43m'\u001b[39;49m\u001b[43m,\u001b[49m\u001b[38;5;124;43m'\u001b[39;49m\u001b[38;5;124;43mjayanti\u001b[39;49m\u001b[38;5;124;43m'\u001b[39;49m\u001b[43m}\u001b[49m\u001b[43m)\u001b[49m\n",
      "Cell \u001b[1;32mIn[1], line 2\u001b[0m, in \u001b[0;36mtest\u001b[1;34m(a, b)\u001b[0m\n\u001b[0;32m      1\u001b[0m \u001b[38;5;28;01mdef\u001b[39;00m \u001b[38;5;21mtest\u001b[39m(a,b):\n\u001b[1;32m----> 2\u001b[0m     \u001b[38;5;28;01mreturn\u001b[39;00m \u001b[43ma\u001b[49m\u001b[38;5;241;43m+\u001b[39;49m\u001b[43mb\u001b[49m\n",
      "\u001b[1;31mTypeError\u001b[0m: unsupported operand type(s) for +: 'set' and 'set'"
     ]
    }
   ],
   "source": [
    "test({'virat','anushka','dhoni','sakshi','rohit','ritika'},{'arun','jyoti','shubmann','sara','johny','jayanti'})"
   ]
  },
  {
   "cell_type": "code",
   "execution_count": 14,
   "id": "b95a0473",
   "metadata": {},
   "outputs": [],
   "source": [
    "#similarly it is not supported to the dict and dict also already did it."
   ]
  },
  {
   "cell_type": "code",
   "execution_count": 44,
   "id": "b72f5f3a",
   "metadata": {},
   "outputs": [],
   "source": [
    "class data_science:\n",
    "    def syllabus(self):\n",
    "        return 'this is data science syllabus'"
   ]
  },
  {
   "cell_type": "code",
   "execution_count": 45,
   "id": "980a759e",
   "metadata": {},
   "outputs": [],
   "source": [
    "class web_dev:\n",
    "    def syllabus(self):\n",
    "        return 'This is web devolapment syllabus'"
   ]
  },
  {
   "cell_type": "code",
   "execution_count": 46,
   "id": "5b54163e",
   "metadata": {},
   "outputs": [],
   "source": [
    "class cyber_security:\n",
    "    def syllabus(self):\n",
    "        return 'This is my cyber security syllabus'"
   ]
  },
  {
   "cell_type": "code",
   "execution_count": 59,
   "id": "83fce366",
   "metadata": {},
   "outputs": [],
   "source": [
    "def parcer(class_obj):\n",
    "    for i in class_obj:\n",
    "        print(f\"{i.syllabus()}\")"
   ]
  },
  {
   "cell_type": "code",
   "execution_count": 60,
   "id": "4e594144",
   "metadata": {},
   "outputs": [],
   "source": [
    "obj_data_science=data_science()"
   ]
  },
  {
   "cell_type": "code",
   "execution_count": 61,
   "id": "731dc012",
   "metadata": {},
   "outputs": [],
   "source": [
    "obj_web_devolapment=web_dev()"
   ]
  },
  {
   "cell_type": "code",
   "execution_count": 62,
   "id": "0d06d257",
   "metadata": {},
   "outputs": [],
   "source": [
    "obj_cyber_security=cyber_security()"
   ]
  },
  {
   "cell_type": "code",
   "execution_count": 63,
   "id": "b0b04fd4",
   "metadata": {},
   "outputs": [],
   "source": [
    "class_obj=[obj_data_science,obj_web_devolapment,obj_cyber_security]"
   ]
  },
  {
   "cell_type": "code",
   "execution_count": 64,
   "id": "9d8526e1",
   "metadata": {},
   "outputs": [
    {
     "name": "stdout",
     "output_type": "stream",
     "text": [
      "this is data science syllabus\n",
      "This is web devolapment syllabus\n",
      "This is my cyber security syllabus\n"
     ]
    }
   ],
   "source": [
    "parcer(class_obj)"
   ]
  },
  {
   "cell_type": "code",
   "execution_count": 89,
   "id": "90109a64",
   "metadata": {},
   "outputs": [],
   "source": [
    "class car:\n",
    "    def audi(self):\n",
    "        print('this is Audi car,one of the luxuries car ')\n",
    "        price=3500000\n",
    "        print(f\"price of the car is {price}\")\n",
    "    def benz(self):\n",
    "        print('This is mercedus benz likes better')\n",
    "        price=3000000\n",
    "        print(f\"price of the car is {price}\")"
   ]
  },
  {
   "cell_type": "code",
   "execution_count": 90,
   "id": "1ce8256a",
   "metadata": {},
   "outputs": [],
   "source": [
    "class bike:\n",
    "    def himalaya(self):\n",
    "        print('this is himalayan bike which is good for long journey')\n",
    "        price=250000\n",
    "        print(f\"price of the bike is {price}\")"
   ]
  },
  {
   "cell_type": "code",
   "execution_count": 97,
   "id": "2b83690b",
   "metadata": {},
   "outputs": [
    {
     "name": "stdout",
     "output_type": "stream",
     "text": [
      "this is Audi car,one of the luxuries car \n",
      "price of the car is 3500000\n",
      "None\n",
      "This is mercedus benz likes better\n",
      "price of the car is 3000000\n",
      "None\n"
     ]
    }
   ],
   "source": [
    "obj1=car()\n",
    "for key,values in car.__dict__.items():\n",
    "    if callable(values):\n",
    "        print(values(obj1))\n",
    "        \n"
   ]
  },
  {
   "cell_type": "code",
   "execution_count": 98,
   "id": "188a1ec5",
   "metadata": {},
   "outputs": [
    {
     "name": "stdout",
     "output_type": "stream",
     "text": [
      "this is himalayan bike which is good for long journey\n",
      "price of the bike is 250000\n"
     ]
    }
   ],
   "source": [
    "obj2=bike()\n",
    "for key,values in bike.__dict__.items():\n",
    "    if callable(values):\n",
    "        values(obj2)"
   ]
  },
  {
   "cell_type": "code",
   "execution_count": 105,
   "id": "8334f759",
   "metadata": {},
   "outputs": [],
   "source": [
    "class cricket:\n",
    "    def virat_kohli(self):\n",
    "        name='virat kohli'\n",
    "        print(f'{name} is popularly known as king of the cricket')\n",
    "        print('chase master')\n",
    "        cent=50\n",
    "        print('His odi centuries are ',cent)\n",
    "    def sachin_tendulkar(self):\n",
    "        name='sachin tendulkar'\n",
    "        print(f'{name} is the god of the cricket')\n",
    "        cent=49\n",
    "        print('his odi centuries are ',cent)\n",
    "    def ms_dhoni(self):\n",
    "        name= 'mahendra singh dhoni'\n",
    "        print(f'{name} is a successful captain in indian cricket team')\n",
    "    def rohit_sharma(self):\n",
    "        name = 'rohit sharma'\n",
    "        print(f'{name} is captain in 2023 world cup and win 11 matches in row')\n",
    "        \n",
    "        "
   ]
  },
  {
   "cell_type": "code",
   "execution_count": 106,
   "id": "2b82fa76",
   "metadata": {},
   "outputs": [
    {
     "name": "stdout",
     "output_type": "stream",
     "text": [
      "['__class__', '__delattr__', '__dict__', '__dir__', '__doc__', '__eq__', '__format__', '__ge__', '__getattribute__', '__gt__', '__hash__', '__init__', '__init_subclass__', '__le__', '__lt__', '__module__', '__ne__', '__new__', '__reduce__', '__reduce_ex__', '__repr__', '__setattr__', '__sizeof__', '__str__', '__subclasshook__', '__weakref__', 'ms_dhoni', 'rohit_sharma', 'sachin_tendulkar', 'virat_kohli']"
     ]
    }
   ],
   "source": [
    "obj=cricket()\n",
    "print(f'{dir(obj)}',end='')"
   ]
  },
  {
   "cell_type": "code",
   "execution_count": 107,
   "id": "093bc64a",
   "metadata": {},
   "outputs": [
    {
     "name": "stdout",
     "output_type": "stream",
     "text": [
      "virat kohli is popularly known as king of the cricket\n",
      "chase master\n",
      "His odi centuries are  50\n",
      "sachin tendulkar is the god of the cricket\n",
      "his odi centuries are  49\n",
      "mahendra singh dhoni is a successful captain in indian cricket team\n",
      "rohit sharma is captain in 2023 world cup and win 11 matches in row\n"
     ]
    }
   ],
   "source": [
    "for key,value in cricket.__dict__.items():\n",
    "    if callable(value):\n",
    "        value(obj)"
   ]
  },
  {
   "cell_type": "code",
   "execution_count": 113,
   "id": "df636af4",
   "metadata": {},
   "outputs": [],
   "source": [
    "class cricket:\n",
    "    def virat_kohli(self):\n",
    "        name='virat kohli'\n",
    "        print(f'{name} is popularly known as king of the cricket')\n",
    "        print('chase master')\n",
    "        cent=50\n",
    "        print('His odi centuries are ',cent)\n",
    "    def sachin_tendulkar(self):\n",
    "        name='sachin tendulkar'\n",
    "        print(f'{name} is the god of the cricket')\n",
    "        cent=49\n",
    "        print('his odi centuries are ',cent)\n",
    "    def ms_dhoni(self):\n",
    "        name= 'mahendra singh dhoni'\n",
    "        print(f'{name} is a successful captain in indian cricket team')\n",
    "    def rohit_sharma(self):\n",
    "        name = 'rohit sharma'\n",
    "        print(f'{name} is captain in 2023 world cup and win 11 matches in row')\n",
    "        \n",
    "   \n",
    "        "
   ]
  },
  {
   "cell_type": "code",
   "execution_count": 114,
   "id": "168e98ea",
   "metadata": {},
   "outputs": [],
   "source": [
    " def __init__(self,name):\n",
    "        self.name=name\n",
    "#we can't use the constructor in outside of the class"
   ]
  },
  {
   "cell_type": "code",
   "execution_count": 117,
   "id": "6663600c",
   "metadata": {},
   "outputs": [
    {
     "name": "stdout",
     "output_type": "stream",
     "text": [
      "virat kohli is popularly known as king of the cricket\n",
      "chase master\n",
      "His odi centuries are  50\n"
     ]
    }
   ],
   "source": [
    "obj3=cricket()\n",
    "obj3.virat_kohli()"
   ]
  },
  {
   "cell_type": "code",
   "execution_count": null,
   "id": "a7dbaca4",
   "metadata": {},
   "outputs": [],
   "source": []
  },
  {
   "cell_type": "code",
   "execution_count": null,
   "id": "1c134045",
   "metadata": {},
   "outputs": [],
   "source": []
  }
 ],
 "metadata": {
  "kernelspec": {
   "display_name": "Python 3 (ipykernel)",
   "language": "python",
   "name": "python3"
  },
  "language_info": {
   "codemirror_mode": {
    "name": "ipython",
    "version": 3
   },
   "file_extension": ".py",
   "mimetype": "text/x-python",
   "name": "python",
   "nbconvert_exporter": "python",
   "pygments_lexer": "ipython3",
   "version": "3.10.9"
  }
 },
 "nbformat": 4,
 "nbformat_minor": 5
}
