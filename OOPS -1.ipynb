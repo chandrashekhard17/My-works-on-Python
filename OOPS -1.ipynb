{
 "cells": [
  {
   "cell_type": "markdown",
   "id": "b70a907d",
   "metadata": {},
   "source": [
    "Object oriented programming language"
   ]
  },
  {
   "cell_type": "code",
   "execution_count": 1,
   "id": "4ddba66c",
   "metadata": {},
   "outputs": [],
   "source": [
    "a=1"
   ]
  },
  {
   "cell_type": "code",
   "execution_count": 2,
   "id": "b1c03f76",
   "metadata": {},
   "outputs": [
    {
     "data": {
      "text/plain": [
       "1"
      ]
     },
     "execution_count": 2,
     "metadata": {},
     "output_type": "execute_result"
    }
   ],
   "source": [
    "a"
   ]
  },
  {
   "cell_type": "code",
   "execution_count": 3,
   "id": "3b653de5",
   "metadata": {},
   "outputs": [
    {
     "name": "stdout",
     "output_type": "stream",
     "text": [
      "<class 'int'>\n"
     ]
    }
   ],
   "source": [
    "print(type(a))"
   ]
  },
  {
   "cell_type": "code",
   "execution_count": 4,
   "id": "fdc0aec5",
   "metadata": {},
   "outputs": [
    {
     "name": "stdout",
     "output_type": "stream",
     "text": [
      "<class 'str'>\n"
     ]
    }
   ],
   "source": [
    "print(type('data science masteres'))"
   ]
  },
  {
   "cell_type": "code",
   "execution_count": 6,
   "id": "bfec402a",
   "metadata": {},
   "outputs": [],
   "source": [
    "class test1():\n",
    "    pass"
   ]
  },
  {
   "cell_type": "code",
   "execution_count": 7,
   "id": "8106f75c",
   "metadata": {},
   "outputs": [
    {
     "name": "stdout",
     "output_type": "stream",
     "text": [
      "<class '__main__.test1'>\n"
     ]
    }
   ],
   "source": [
    "print(type(test1()))"
   ]
  },
  {
   "cell_type": "code",
   "execution_count": 57,
   "id": "22d17138",
   "metadata": {},
   "outputs": [],
   "source": [
    "class pwskills:\n",
    "    def welcome_msg(self):\n",
    "        print('welcome to the pw skills')"
   ]
  },
  {
   "cell_type": "code",
   "execution_count": 58,
   "id": "71931012",
   "metadata": {},
   "outputs": [],
   "source": [
    "rohan=pwskills()"
   ]
  },
  {
   "cell_type": "code",
   "execution_count": 38,
   "id": "d8d078b0",
   "metadata": {},
   "outputs": [
    {
     "name": "stdout",
     "output_type": "stream",
     "text": [
      "welcome to the pw skills\n"
     ]
    }
   ],
   "source": [
    "rohan.welcome_msg()"
   ]
  },
  {
   "cell_type": "code",
   "execution_count": 39,
   "id": "95997cfd",
   "metadata": {},
   "outputs": [],
   "source": [
    "mohan=pwskills\n"
   ]
  },
  {
   "cell_type": "code",
   "execution_count": 40,
   "id": "310b2ef6",
   "metadata": {},
   "outputs": [
    {
     "data": {
      "text/plain": [
       "<function __main__.pwskills.welcome_msg(self)>"
      ]
     },
     "execution_count": 40,
     "metadata": {},
     "output_type": "execute_result"
    }
   ],
   "source": [
    "mohan.welcome_msg"
   ]
  },
  {
   "cell_type": "code",
   "execution_count": 43,
   "id": "3a435907",
   "metadata": {},
   "outputs": [
    {
     "ename": "TypeError",
     "evalue": "pwskills.welcome_msg() missing 1 required positional argument: 'self'",
     "output_type": "error",
     "traceback": [
      "\u001b[1;31m---------------------------------------------------------------------------\u001b[0m",
      "\u001b[1;31mTypeError\u001b[0m                                 Traceback (most recent call last)",
      "Cell \u001b[1;32mIn[43], line 1\u001b[0m\n\u001b[1;32m----> 1\u001b[0m \u001b[43mmohan\u001b[49m\u001b[38;5;241;43m.\u001b[39;49m\u001b[43mwelcome_msg\u001b[49m\u001b[43m(\u001b[49m\u001b[43m)\u001b[49m\n",
      "\u001b[1;31mTypeError\u001b[0m: pwskills.welcome_msg() missing 1 required positional argument: 'self'"
     ]
    }
   ],
   "source": [
    "mohan.welcome_msg()"
   ]
  },
  {
   "cell_type": "code",
   "execution_count": 3,
   "id": "c1f9bbc2",
   "metadata": {},
   "outputs": [],
   "source": [
    "class pwskills:\n",
    "    def welcome_msg(self):\n",
    "        print('welcome to the pw skills')"
   ]
  },
  {
   "cell_type": "code",
   "execution_count": 4,
   "id": "90d605ab",
   "metadata": {},
   "outputs": [],
   "source": [
    "mohan=pwskills()"
   ]
  },
  {
   "cell_type": "code",
   "execution_count": 5,
   "id": "da5a459c",
   "metadata": {},
   "outputs": [
    {
     "name": "stdout",
     "output_type": "stream",
     "text": [
      "welcome to the pw skills\n"
     ]
    }
   ],
   "source": [
    "mohan.welcome_msg()"
   ]
  },
  {
   "cell_type": "code",
   "execution_count": 6,
   "id": "85a32787",
   "metadata": {},
   "outputs": [],
   "source": [
    "a=1"
   ]
  },
  {
   "cell_type": "code",
   "execution_count": 7,
   "id": "23a0fd77",
   "metadata": {},
   "outputs": [],
   "source": [
    "b=1"
   ]
  },
  {
   "cell_type": "code",
   "execution_count": 8,
   "id": "bb9dc94b",
   "metadata": {},
   "outputs": [
    {
     "data": {
      "text/plain": [
       "1"
      ]
     },
     "execution_count": 8,
     "metadata": {},
     "output_type": "execute_result"
    }
   ],
   "source": [
    " a"
   ]
  },
  {
   "cell_type": "code",
   "execution_count": 9,
   "id": "786f439d",
   "metadata": {},
   "outputs": [
    {
     "data": {
      "text/plain": [
       "1"
      ]
     },
     "execution_count": 9,
     "metadata": {},
     "output_type": "execute_result"
    }
   ],
   "source": [
    "b"
   ]
  },
  {
   "cell_type": "code",
   "execution_count": 16,
   "id": "1fe13ebf",
   "metadata": {},
   "outputs": [],
   "source": [
    "class pwskills:\n",
    "    def __init__(self,phone_no,email_id,student_id):\n",
    "        self.phone_no=phone_no\n",
    "        self.email_id=email_id\n",
    "        self.student_id=student_id\n",
    "    def return_student_details:\n",
    "        return self.phone_no,self.email_id,self.student_id"
   ]
  },
  {
   "cell_type": "code",
   "execution_count": 17,
   "id": "37a3a87f",
   "metadata": {},
   "outputs": [],
   "source": [
    "rohan=pwskills(93799730776,\"rohan@gmail.com\",101)"
   ]
  },
  {
   "cell_type": "code",
   "execution_count": 18,
   "id": "c4186b83",
   "metadata": {},
   "outputs": [
    {
     "data": {
      "text/plain": [
       "93799730776"
      ]
     },
     "execution_count": 18,
     "metadata": {},
     "output_type": "execute_result"
    }
   ],
   "source": [
    "rohan.phone_no"
   ]
  },
  {
   "cell_type": "code",
   "execution_count": 19,
   "id": "4a0b77ca",
   "metadata": {},
   "outputs": [
    {
     "data": {
      "text/plain": [
       "'rohan@gmail.com'"
      ]
     },
     "execution_count": 19,
     "metadata": {},
     "output_type": "execute_result"
    }
   ],
   "source": [
    "rohan.email_id"
   ]
  },
  {
   "cell_type": "code",
   "execution_count": 20,
   "id": "b42db52c",
   "metadata": {},
   "outputs": [
    {
     "data": {
      "text/plain": [
       "101"
      ]
     },
     "execution_count": 20,
     "metadata": {},
     "output_type": "execute_result"
    }
   ],
   "source": [
    "rohan.student_id"
   ]
  },
  {
   "cell_type": "code",
   "execution_count": 22,
   "id": "57a1ad52",
   "metadata": {},
   "outputs": [
    {
     "data": {
      "text/plain": [
       "(93799730776, 'rohan@gmail.com', 101)"
      ]
     },
     "execution_count": 22,
     "metadata": {},
     "output_type": "execute_result"
    }
   ],
   "source": [
    "rohan.return_student_details()"
   ]
  },
  {
   "cell_type": "code",
   "execution_count": 28,
   "id": "66792bd8",
   "metadata": {},
   "outputs": [],
   "source": [
    "class pwskills:\n",
    "    def student(self,phone_no,email_id,student_id):\n",
    "        self.phone_no=phone_no\n",
    "        self.email_id=email_id\n",
    "        self.student_id=student_id\n",
    "    def return_student_details(self):\n",
    "        return self.phone_no,self.email_id,self.student_id\n",
    "    \n",
    "    \n",
    "    \n",
    "    \n",
    "    #here student is not a constructor hence input is not taking\n",
    "    #constructor innerscence that its always use that __init__()methoad\n",
    "    "
   ]
  },
  {
   "cell_type": "code",
   "execution_count": 27,
   "id": "f05be74d",
   "metadata": {},
   "outputs": [
    {
     "ename": "TypeError",
     "evalue": "pwskills() takes no arguments",
     "output_type": "error",
     "traceback": [
      "\u001b[1;31m---------------------------------------------------------------------------\u001b[0m",
      "\u001b[1;31mTypeError\u001b[0m                                 Traceback (most recent call last)",
      "Cell \u001b[1;32mIn[27], line 1\u001b[0m\n\u001b[1;32m----> 1\u001b[0m mohan\u001b[38;5;241m=\u001b[39m\u001b[43mpwskills\u001b[49m\u001b[43m(\u001b[49m\u001b[38;5;241;43m7966690276\u001b[39;49m\u001b[43m,\u001b[49m\u001b[38;5;124;43m\"\u001b[39;49m\u001b[38;5;124;43mmohan@gmail.com\u001b[39;49m\u001b[38;5;124;43m\"\u001b[39;49m\u001b[43m,\u001b[49m\u001b[38;5;241;43m102\u001b[39;49m\u001b[43m)\u001b[49m\n",
      "\u001b[1;31mTypeError\u001b[0m: pwskills() takes no arguments"
     ]
    }
   ],
   "source": [
    "mohan=pwskills(7966690276,\"mohan@gmail.com\",102)"
   ]
  },
  {
   "cell_type": "code",
   "execution_count": 30,
   "id": "23587c8d",
   "metadata": {},
   "outputs": [],
   "source": [
    "class pwskills2:\n",
    "    def __init__(ram,phone_no,email_id,student_id):\n",
    "        ram.phone_no=phone_no\n",
    "        ram.email_id=email_id\n",
    "        ram.student_id=student_id\n",
    "    def return_student_details(ram):\n",
    "        return ram.phone_no,ram.email_id,ram.student_id"
   ]
  },
  {
   "cell_type": "code",
   "execution_count": 31,
   "id": "17d16da9",
   "metadata": {},
   "outputs": [],
   "source": [
    "subhash=pwskills2(797869276809,'subhash@gmail.com',103)"
   ]
  },
  {
   "cell_type": "code",
   "execution_count": 32,
   "id": "8fb7f5f9",
   "metadata": {},
   "outputs": [
    {
     "data": {
      "text/plain": [
       "797869276809"
      ]
     },
     "execution_count": 32,
     "metadata": {},
     "output_type": "execute_result"
    }
   ],
   "source": [
    "subhash.phone_no"
   ]
  },
  {
   "cell_type": "code",
   "execution_count": 33,
   "id": "f06fb4c8",
   "metadata": {},
   "outputs": [
    {
     "data": {
      "text/plain": [
       "'subhash@gmail.com'"
      ]
     },
     "execution_count": 33,
     "metadata": {},
     "output_type": "execute_result"
    }
   ],
   "source": [
    "subhash.email_id"
   ]
  },
  {
   "cell_type": "code",
   "execution_count": 34,
   "id": "0f02bfa0",
   "metadata": {},
   "outputs": [
    {
     "data": {
      "text/plain": [
       "(797869276809, 'subhash@gmail.com', 103)"
      ]
     },
     "execution_count": 34,
     "metadata": {},
     "output_type": "execute_result"
    }
   ],
   "source": [
    "subhash.return_student_details()"
   ]
  },
  {
   "cell_type": "code",
   "execution_count": 35,
   "id": "c4296f3a",
   "metadata": {},
   "outputs": [
    {
     "data": {
      "text/plain": [
       "103"
      ]
     },
     "execution_count": 35,
     "metadata": {},
     "output_type": "execute_result"
    }
   ],
   "source": [
    "subhash.student_id"
   ]
  },
  {
   "cell_type": "code",
   "execution_count": 63,
   "id": "6de774d9",
   "metadata": {},
   "outputs": [],
   "source": [
    "class pwskills3:\n",
    "    def __init__(ram,phone_no,email_id,student_id):\n",
    "        ram.phone_no=phone_no1\n",
    "        ram.email_id=email_id\n",
    "        ram.student_id=student_id\n",
    "    def return_student_details(ram):\n",
    "        return ram.phone_no,ram.email_id,ram.student_id"
   ]
  },
  {
   "cell_type": "code",
   "execution_count": 64,
   "id": "9a9b71b3",
   "metadata": {},
   "outputs": [],
   "source": [
    "soma=pwskills(798675992,'soma@gmail.com',104)"
   ]
  },
  {
   "cell_type": "code",
   "execution_count": 65,
   "id": "cc5c9109",
   "metadata": {},
   "outputs": [
    {
     "ename": "AttributeError",
     "evalue": "'pwskills' object has no attribute 'phone_no1'",
     "output_type": "error",
     "traceback": [
      "\u001b[1;31m---------------------------------------------------------------------------\u001b[0m",
      "\u001b[1;31mAttributeError\u001b[0m                            Traceback (most recent call last)",
      "Cell \u001b[1;32mIn[65], line 1\u001b[0m\n\u001b[1;32m----> 1\u001b[0m \u001b[43msoma\u001b[49m\u001b[38;5;241;43m.\u001b[39;49m\u001b[43mphone_no1\u001b[49m\n",
      "\u001b[1;31mAttributeError\u001b[0m: 'pwskills' object has no attribute 'phone_no1'"
     ]
    }
   ],
   "source": [
    "soma.phone_no1"
   ]
  },
  {
   "cell_type": "code",
   "execution_count": 66,
   "id": "45317270",
   "metadata": {},
   "outputs": [
    {
     "data": {
      "text/plain": [
       "798675992"
      ]
     },
     "execution_count": 66,
     "metadata": {},
     "output_type": "execute_result"
    }
   ],
   "source": [
    "soma.phone_no"
   ]
  },
  {
   "cell_type": "code",
   "execution_count": null,
   "id": "e03812d1",
   "metadata": {},
   "outputs": [],
   "source": []
  }
 ],
 "metadata": {
  "kernelspec": {
   "display_name": "Python 3 (ipykernel)",
   "language": "python",
   "name": "python3"
  },
  "language_info": {
   "codemirror_mode": {
    "name": "ipython",
    "version": 3
   },
   "file_extension": ".py",
   "mimetype": "text/x-python",
   "name": "python",
   "nbconvert_exporter": "python",
   "pygments_lexer": "ipython3",
   "version": "3.10.9"
  }
 },
 "nbformat": 4,
 "nbformat_minor": 5
}
