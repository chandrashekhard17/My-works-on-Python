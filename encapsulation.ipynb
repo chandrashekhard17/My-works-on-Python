{
 "cells": [
  {
   "cell_type": "code",
   "execution_count": 1,
   "id": "daa6c2e6",
   "metadata": {},
   "outputs": [],
   "source": [
    "class test:\n",
    "    def __init__(self,a,b):\n",
    "        self.a=a\n",
    "        self.b=b\n",
    "        "
   ]
  },
  {
   "cell_type": "code",
   "execution_count": 3,
   "id": "59210ba3",
   "metadata": {},
   "outputs": [],
   "source": [
    "t=test(45,21)\n"
   ]
  },
  {
   "cell_type": "code",
   "execution_count": 4,
   "id": "be1ed10f",
   "metadata": {},
   "outputs": [
    {
     "data": {
      "text/plain": [
       "45"
      ]
     },
     "execution_count": 4,
     "metadata": {},
     "output_type": "execute_result"
    }
   ],
   "source": [
    "t.a"
   ]
  },
  {
   "cell_type": "code",
   "execution_count": 5,
   "id": "1deb73ac",
   "metadata": {},
   "outputs": [
    {
     "data": {
      "text/plain": [
       "21"
      ]
     },
     "execution_count": 5,
     "metadata": {},
     "output_type": "execute_result"
    }
   ],
   "source": [
    "t.b"
   ]
  },
  {
   "cell_type": "code",
   "execution_count": 6,
   "id": "24bf83e7",
   "metadata": {},
   "outputs": [],
   "source": [
    "t.a=287"
   ]
  },
  {
   "cell_type": "code",
   "execution_count": 7,
   "id": "fa9ed2f8",
   "metadata": {},
   "outputs": [
    {
     "data": {
      "text/plain": [
       "287"
      ]
     },
     "execution_count": 7,
     "metadata": {},
     "output_type": "execute_result"
    }
   ],
   "source": [
    "t.a"
   ]
  },
  {
   "cell_type": "code",
   "execution_count": 8,
   "id": "a18e9f98",
   "metadata": {},
   "outputs": [],
   "source": [
    "t.b=866"
   ]
  },
  {
   "cell_type": "code",
   "execution_count": 9,
   "id": "62ea1698",
   "metadata": {},
   "outputs": [
    {
     "data": {
      "text/plain": [
       "866"
      ]
     },
     "execution_count": 9,
     "metadata": {},
     "output_type": "execute_result"
    }
   ],
   "source": [
    "t.b"
   ]
  },
  {
   "cell_type": "code",
   "execution_count": 10,
   "id": "bb564c38",
   "metadata": {},
   "outputs": [],
   "source": [
    "#This is dangerous in the field of industrial real time projects"
   ]
  },
  {
   "cell_type": "code",
   "execution_count": 27,
   "id": "dd39f27e",
   "metadata": {},
   "outputs": [],
   "source": [
    "class car:\n",
    "    def __init__(self,year,make,model,speed):\n",
    "        self.__year=year\n",
    "        self.__make=make\n",
    "        self.__model=model\n",
    "        self.__speed=0\n",
    "    \n",
    "    def set_speed(self,speed):\n",
    "        self.__speed=0 if speed<0 else speed\n",
    "        \n",
    "    def get_speed(self):\n",
    "        return self.__speed"
   ]
  },
  {
   "cell_type": "code",
   "execution_count": 28,
   "id": "f94ef66a",
   "metadata": {},
   "outputs": [],
   "source": [
    "obj=car(2021,'toyota','innova',12)\n"
   ]
  },
  {
   "cell_type": "code",
   "execution_count": 29,
   "id": "adabc72a",
   "metadata": {},
   "outputs": [],
   "source": [
    "obj.set_speed(1234)"
   ]
  },
  {
   "cell_type": "code",
   "execution_count": 30,
   "id": "ffd98f65",
   "metadata": {},
   "outputs": [],
   "source": [
    "obj._car__speed=1234"
   ]
  },
  {
   "cell_type": "code",
   "execution_count": 31,
   "id": "6fa9b57d",
   "metadata": {},
   "outputs": [
    {
     "data": {
      "text/plain": [
       "1234"
      ]
     },
     "execution_count": 31,
     "metadata": {},
     "output_type": "execute_result"
    }
   ],
   "source": [
    "obj.get_speed()"
   ]
  },
  {
   "cell_type": "code",
   "execution_count": 32,
   "id": "de0b3faf",
   "metadata": {},
   "outputs": [],
   "source": [
    "obj.set_speed(-12)"
   ]
  },
  {
   "cell_type": "code",
   "execution_count": 33,
   "id": "474fb205",
   "metadata": {},
   "outputs": [
    {
     "data": {
      "text/plain": [
       "0"
      ]
     },
     "execution_count": 33,
     "metadata": {},
     "output_type": "execute_result"
    }
   ],
   "source": [
    "obj.get_speed()"
   ]
  },
  {
   "cell_type": "code",
   "execution_count": 35,
   "id": "3dacfebb",
   "metadata": {},
   "outputs": [],
   "source": [
    "obj.set_speed(76859796875759)"
   ]
  },
  {
   "cell_type": "code",
   "execution_count": 36,
   "id": "191bdd8b",
   "metadata": {},
   "outputs": [
    {
     "data": {
      "text/plain": [
       "76859796875759"
      ]
     },
     "execution_count": 36,
     "metadata": {},
     "output_type": "execute_result"
    }
   ],
   "source": [
    "obj.get_speed()"
   ]
  },
  {
   "cell_type": "code",
   "execution_count": 45,
   "id": "7d883fc6",
   "metadata": {},
   "outputs": [],
   "source": [
    "class bank_account:\n",
    "    def __init__(self,balance):\n",
    "        self.__balance=balance\n",
    "    \n",
    "    def deposit(self,amount):\n",
    "        self.__balance+=amount\n",
    "    \n",
    "    def withdraw(self,amount):\n",
    "        if self.__balance>=amount:\n",
    "            self.__balance-=amount\n",
    "            \n",
    "            return True\n",
    "        else:\n",
    "            return False\n",
    "    def get_balance(self):\n",
    "        return self.__balance"
   ]
  },
  {
   "cell_type": "code",
   "execution_count": 46,
   "id": "845a8d75",
   "metadata": {},
   "outputs": [],
   "source": [
    "obj_bank_account=bank_account(1000)\n"
   ]
  },
  {
   "cell_type": "code",
   "execution_count": 47,
   "id": "748e112d",
   "metadata": {},
   "outputs": [],
   "source": [
    "obj_bank_account.deposit(32000)"
   ]
  },
  {
   "cell_type": "code",
   "execution_count": 48,
   "id": "20e7a37a",
   "metadata": {},
   "outputs": [
    {
     "data": {
      "text/plain": [
       "33000"
      ]
     },
     "execution_count": 48,
     "metadata": {},
     "output_type": "execute_result"
    }
   ],
   "source": [
    "obj_bank_account.get_balance()"
   ]
  },
  {
   "cell_type": "code",
   "execution_count": 49,
   "id": "a52a16f3",
   "metadata": {},
   "outputs": [
    {
     "data": {
      "text/plain": [
       "True"
      ]
     },
     "execution_count": 49,
     "metadata": {},
     "output_type": "execute_result"
    }
   ],
   "source": [
    "obj_bank_account.withdraw(28000)"
   ]
  },
  {
   "cell_type": "code",
   "execution_count": 50,
   "id": "e065d152",
   "metadata": {},
   "outputs": [
    {
     "data": {
      "text/plain": [
       "5000"
      ]
     },
     "execution_count": 50,
     "metadata": {},
     "output_type": "execute_result"
    }
   ],
   "source": [
    "obj_bank_account.get_balance()"
   ]
  },
  {
   "cell_type": "code",
   "execution_count": 52,
   "id": "1af670d3",
   "metadata": {},
   "outputs": [],
   "source": [
    "class pwskills:\n",
    "    def __init__(self,course,mentor,hours,amount):\n",
    "        self.__course=course\n",
    "        self.__amount=amount\n",
    "        self.__mentor=mentor\n",
    "        self.__hours=hours\n",
    "        \n",
    "    def data_science(self,amount):\n",
    "        self.__amount*=0.05\n",
    "        self.__mentor='krish naik'\n",
    "    \n",
    "    def web_dev(self,amount):\n",
    "        self.__amount*=0.10\n",
    "        self.__mentor='sudhanshu'\n",
    "        \n",
    "    def cyber_security(self,amount):\n",
    "        self.__amount*=0.15\n",
    "        self.__mentor='naveen'\n",
    "    \n",
    "    def get_data(self):\n",
    "        return self.__amount,self.__mentor\n",
    "        "
   ]
  },
  {
   "cell_type": "code",
   "execution_count": 53,
   "id": "702e08a1",
   "metadata": {},
   "outputs": [],
   "source": [
    "obj_pwskills=pwskills('data science','krish naik',455,3150)"
   ]
  },
  {
   "cell_type": "code",
   "execution_count": 54,
   "id": "1554c472",
   "metadata": {},
   "outputs": [],
   "source": [
    "obj_pwskills.data_science(3500)"
   ]
  },
  {
   "cell_type": "code",
   "execution_count": 55,
   "id": "58c100ee",
   "metadata": {},
   "outputs": [
    {
     "data": {
      "text/plain": [
       "(157.5, 'krish naik')"
      ]
     },
     "execution_count": 55,
     "metadata": {},
     "output_type": "execute_result"
    }
   ],
   "source": [
    "obj_pwskills.get_data()"
   ]
  },
  {
   "cell_type": "code",
   "execution_count": 56,
   "id": "4eee5271",
   "metadata": {},
   "outputs": [],
   "source": [
    "obj_pwskills._pwskills__amount=3500"
   ]
  },
  {
   "cell_type": "code",
   "execution_count": 57,
   "id": "74954f8a",
   "metadata": {},
   "outputs": [
    {
     "data": {
      "text/plain": [
       "(3500, 'krish naik')"
      ]
     },
     "execution_count": 57,
     "metadata": {},
     "output_type": "execute_result"
    }
   ],
   "source": [
    "obj_pwskills.get_data()"
   ]
  },
  {
   "cell_type": "code",
   "execution_count": 59,
   "id": "36c34c33",
   "metadata": {},
   "outputs": [],
   "source": [
    "obj_pwskills.cyber_security(3000)"
   ]
  },
  {
   "cell_type": "code",
   "execution_count": 60,
   "id": "dec87f53",
   "metadata": {},
   "outputs": [
    {
     "data": {
      "text/plain": [
       "(525.0, 'naveen')"
      ]
     },
     "execution_count": 60,
     "metadata": {},
     "output_type": "execute_result"
    }
   ],
   "source": [
    "obj_pwskills.get_data()"
   ]
  },
  {
   "cell_type": "code",
   "execution_count": 61,
   "id": "a373aa34",
   "metadata": {},
   "outputs": [],
   "source": [
    "obj_pwskills.web_dev(6000)"
   ]
  },
  {
   "cell_type": "code",
   "execution_count": 62,
   "id": "640a026d",
   "metadata": {},
   "outputs": [
    {
     "data": {
      "text/plain": [
       "(52.5, 'sudhanshu')"
      ]
     },
     "execution_count": 62,
     "metadata": {},
     "output_type": "execute_result"
    }
   ],
   "source": [
    "obj_pwskills.get_data()"
   ]
  },
  {
   "cell_type": "code",
   "execution_count": null,
   "id": "436cc803",
   "metadata": {},
   "outputs": [],
   "source": []
  }
 ],
 "metadata": {
  "kernelspec": {
   "display_name": "Python 3 (ipykernel)",
   "language": "python",
   "name": "python3"
  },
  "language_info": {
   "codemirror_mode": {
    "name": "ipython",
    "version": 3
   },
   "file_extension": ".py",
   "mimetype": "text/x-python",
   "name": "python",
   "nbconvert_exporter": "python",
   "pygments_lexer": "ipython3",
   "version": "3.10.9"
  }
 },
 "nbformat": 4,
 "nbformat_minor": 5
}
